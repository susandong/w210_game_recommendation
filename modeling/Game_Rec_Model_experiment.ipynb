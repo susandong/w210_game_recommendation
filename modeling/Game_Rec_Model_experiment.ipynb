{
 "cells": [
  {
   "cell_type": "markdown",
   "metadata": {},
   "source": [
    "## Finding:\n",
    "* 1.matrix factorization works better than item KNN\n",
    "* 2.adding game information to MF models, but the RMSE is worse, needs to find reasons"
   ]
  },
  {
   "cell_type": "code",
   "execution_count": 1,
   "metadata": {},
   "outputs": [],
   "source": [
    "import boto3\n",
    "import pickle\n",
    "import h5py\n",
    "import tables\n",
    "import numpy as np\n",
    "import pandas as pd\n",
    "import sklearn\n",
    "import caserec"
   ]
  },
  {
   "cell_type": "code",
   "execution_count": 2,
   "metadata": {},
   "outputs": [],
   "source": [
    "import turicreate as tc"
   ]
  },
  {
   "cell_type": "code",
   "execution_count": 3,
   "metadata": {},
   "outputs": [
    {
     "data": {
      "text/html": [
       "<pre>Finished parsing file /Users/shujdong/w210_game_recommendation/training_data_3column.csv</pre>"
      ],
      "text/plain": [
       "Finished parsing file /Users/shujdong/w210_game_recommendation/training_data_3column.csv"
      ]
     },
     "metadata": {},
     "output_type": "display_data"
    },
    {
     "data": {
      "text/html": [
       "<pre>Parsing completed. Parsed 100 lines in 1.55192 secs.</pre>"
      ],
      "text/plain": [
       "Parsing completed. Parsed 100 lines in 1.55192 secs."
      ]
     },
     "metadata": {},
     "output_type": "display_data"
    },
    {
     "name": "stdout",
     "output_type": "stream",
     "text": [
      "------------------------------------------------------\n",
      "Inferred types from first 100 line(s) of file as \n",
      "column_type_hints=[int,int,str,float]\n",
      "If parsing fails due to incorrect types, you can correct\n",
      "the inferred type list above and pass it to read_csv in\n",
      "the column_type_hints argument\n",
      "------------------------------------------------------\n"
     ]
    },
    {
     "data": {
      "text/html": [
       "<pre>Read 2115061 lines. Lines per second: 1.13061e+06</pre>"
      ],
      "text/plain": [
       "Read 2115061 lines. Lines per second: 1.13061e+06"
      ]
     },
     "metadata": {},
     "output_type": "display_data"
    },
    {
     "data": {
      "text/html": [
       "<pre>Finished parsing file /Users/shujdong/w210_game_recommendation/training_data_3column.csv</pre>"
      ],
      "text/plain": [
       "Finished parsing file /Users/shujdong/w210_game_recommendation/training_data_3column.csv"
      ]
     },
     "metadata": {},
     "output_type": "display_data"
    },
    {
     "data": {
      "text/html": [
       "<pre>Parsing completed. Parsed 12356262 lines in 5.44659 secs.</pre>"
      ],
      "text/plain": [
       "Parsing completed. Parsed 12356262 lines in 5.44659 secs."
      ]
     },
     "metadata": {},
     "output_type": "display_data"
    }
   ],
   "source": [
    "actions = tc.SFrame.read_csv('training_data_3column.csv')\n",
    "#items = tc.SFrame.read_csv('./dataset/ml-20m/movies.csv')"
   ]
  },
  {
   "cell_type": "code",
   "execution_count": 7,
   "metadata": {},
   "outputs": [
    {
     "data": {
      "text/html": [
       "<div>\n",
       "<style scoped>\n",
       "    .dataframe tbody tr th:only-of-type {\n",
       "        vertical-align: middle;\n",
       "    }\n",
       "\n",
       "    .dataframe tbody tr th {\n",
       "        vertical-align: top;\n",
       "    }\n",
       "\n",
       "    .dataframe thead th {\n",
       "        text-align: right;\n",
       "    }\n",
       "</style>\n",
       "<table border=\"1\" class=\"dataframe\">\n",
       "  <thead>\n",
       "    <tr style=\"text-align: right;\">\n",
       "      <th></th>\n",
       "      <th>Unnamed: 0</th>\n",
       "      <th>game_id</th>\n",
       "      <th>user_id</th>\n",
       "      <th>rating</th>\n",
       "    </tr>\n",
       "  </thead>\n",
       "  <tbody>\n",
       "    <tr>\n",
       "      <th>0</th>\n",
       "      <td>0</td>\n",
       "      <td>0</td>\n",
       "      <td>Lil Red Head</td>\n",
       "      <td>7.0</td>\n",
       "    </tr>\n",
       "    <tr>\n",
       "      <th>1</th>\n",
       "      <td>1</td>\n",
       "      <td>0</td>\n",
       "      <td>hsjx945</td>\n",
       "      <td>8.0</td>\n",
       "    </tr>\n",
       "    <tr>\n",
       "      <th>2</th>\n",
       "      <td>2</td>\n",
       "      <td>0</td>\n",
       "      <td>RuffRyder</td>\n",
       "      <td>0.0</td>\n",
       "    </tr>\n",
       "    <tr>\n",
       "      <th>3</th>\n",
       "      <td>3</td>\n",
       "      <td>0</td>\n",
       "      <td>SkywalterDBZ</td>\n",
       "      <td>7.0</td>\n",
       "    </tr>\n",
       "    <tr>\n",
       "      <th>4</th>\n",
       "      <td>4</td>\n",
       "      <td>0</td>\n",
       "      <td>Olmestig</td>\n",
       "      <td>8.0</td>\n",
       "    </tr>\n",
       "  </tbody>\n",
       "</table>\n",
       "</div>"
      ],
      "text/plain": [
       "   Unnamed: 0  game_id       user_id  rating\n",
       "0           0        0  Lil Red Head     7.0\n",
       "1           1        0       hsjx945     8.0\n",
       "2           2        0     RuffRyder     0.0\n",
       "3           3        0  SkywalterDBZ     7.0\n",
       "4           4        0      Olmestig     8.0"
      ]
     },
     "execution_count": 7,
     "metadata": {},
     "output_type": "execute_result"
    }
   ],
   "source": [
    "df=pd.read_csv('training_data_3column.csv')\n",
    "df.head()"
   ]
  },
  {
   "cell_type": "code",
   "execution_count": 8,
   "metadata": {},
   "outputs": [
    {
     "data": {
      "text/plain": [
       "21702"
      ]
     },
     "execution_count": 8,
     "metadata": {},
     "output_type": "execute_result"
    }
   ],
   "source": [
    "df.game_id.nunique()"
   ]
  },
  {
   "cell_type": "code",
   "execution_count": 4,
   "metadata": {},
   "outputs": [],
   "source": [
    "def recommendation_models(data,model):\n",
    "\n",
    "    training_data, validation_data = tc.recommender.util.random_split_by_user(actions, 'user_id', 'game_id')\n",
    "    ml = model(training_data, 'user_id', 'game_id',target='rating')\n",
    "    evaluation = ml.evaluate(validation_data)\n",
    "    #precision_recall =ml.evaluate_precision_recall(validation_data)\n",
    "    return evaluation"
   ]
  },
  {
   "cell_type": "code",
   "execution_count": 5,
   "metadata": {},
   "outputs": [
    {
     "data": {
      "text/html": [
       "<pre>Preparing data set.</pre>"
      ],
      "text/plain": [
       "Preparing data set."
      ]
     },
     "metadata": {},
     "output_type": "display_data"
    },
    {
     "data": {
      "text/html": [
       "<pre>    Data has 12350437 observations with 403750 users and 21702 items.</pre>"
      ],
      "text/plain": [
       "    Data has 12350437 observations with 403750 users and 21702 items."
      ]
     },
     "metadata": {},
     "output_type": "display_data"
    },
    {
     "data": {
      "text/html": [
       "<pre>    Data prepared in: 12.3269s</pre>"
      ],
      "text/plain": [
       "    Data prepared in: 12.3269s"
      ]
     },
     "metadata": {},
     "output_type": "display_data"
    },
    {
     "data": {
      "text/html": [
       "<pre>Training factorization_recommender for recommendations.</pre>"
      ],
      "text/plain": [
       "Training factorization_recommender for recommendations."
      ]
     },
     "metadata": {},
     "output_type": "display_data"
    },
    {
     "data": {
      "text/html": [
       "<pre>+--------------------------------+--------------------------------------------------+----------+</pre>"
      ],
      "text/plain": [
       "+--------------------------------+--------------------------------------------------+----------+"
      ]
     },
     "metadata": {},
     "output_type": "display_data"
    },
    {
     "data": {
      "text/html": [
       "<pre>| Parameter                      | Description                                      | Value    |</pre>"
      ],
      "text/plain": [
       "| Parameter                      | Description                                      | Value    |"
      ]
     },
     "metadata": {},
     "output_type": "display_data"
    },
    {
     "data": {
      "text/html": [
       "<pre>+--------------------------------+--------------------------------------------------+----------+</pre>"
      ],
      "text/plain": [
       "+--------------------------------+--------------------------------------------------+----------+"
      ]
     },
     "metadata": {},
     "output_type": "display_data"
    },
    {
     "data": {
      "text/html": [
       "<pre>| num_factors                    | Factor Dimension                                 | 8        |</pre>"
      ],
      "text/plain": [
       "| num_factors                    | Factor Dimension                                 | 8        |"
      ]
     },
     "metadata": {},
     "output_type": "display_data"
    },
    {
     "data": {
      "text/html": [
       "<pre>| regularization                 | L2 Regularization on Factors                     | 1e-08    |</pre>"
      ],
      "text/plain": [
       "| regularization                 | L2 Regularization on Factors                     | 1e-08    |"
      ]
     },
     "metadata": {},
     "output_type": "display_data"
    },
    {
     "data": {
      "text/html": [
       "<pre>| solver                         | Solver used for training                         | adagrad  |</pre>"
      ],
      "text/plain": [
       "| solver                         | Solver used for training                         | adagrad  |"
      ]
     },
     "metadata": {},
     "output_type": "display_data"
    },
    {
     "data": {
      "text/html": [
       "<pre>| linear_regularization          | L2 Regularization on Linear Coefficients         | 1e-10    |</pre>"
      ],
      "text/plain": [
       "| linear_regularization          | L2 Regularization on Linear Coefficients         | 1e-10    |"
      ]
     },
     "metadata": {},
     "output_type": "display_data"
    },
    {
     "data": {
      "text/html": [
       "<pre>| max_iterations                 | Maximum Number of Iterations                     | 50       |</pre>"
      ],
      "text/plain": [
       "| max_iterations                 | Maximum Number of Iterations                     | 50       |"
      ]
     },
     "metadata": {},
     "output_type": "display_data"
    },
    {
     "data": {
      "text/html": [
       "<pre>+--------------------------------+--------------------------------------------------+----------+</pre>"
      ],
      "text/plain": [
       "+--------------------------------+--------------------------------------------------+----------+"
      ]
     },
     "metadata": {},
     "output_type": "display_data"
    },
    {
     "data": {
      "text/html": [
       "<pre>  Optimizing model using SGD; tuning step size.</pre>"
      ],
      "text/plain": [
       "  Optimizing model using SGD; tuning step size."
      ]
     },
     "metadata": {},
     "output_type": "display_data"
    },
    {
     "data": {
      "text/html": [
       "<pre>  Using 1543804 / 12350437 points for tuning the step size.</pre>"
      ],
      "text/plain": [
       "  Using 1543804 / 12350437 points for tuning the step size."
      ]
     },
     "metadata": {},
     "output_type": "display_data"
    },
    {
     "data": {
      "text/html": [
       "<pre>+---------+-------------------+------------------------------------------+</pre>"
      ],
      "text/plain": [
       "+---------+-------------------+------------------------------------------+"
      ]
     },
     "metadata": {},
     "output_type": "display_data"
    },
    {
     "data": {
      "text/html": [
       "<pre>| Attempt | Initial Step Size | Estimated Objective Value                |</pre>"
      ],
      "text/plain": [
       "| Attempt | Initial Step Size | Estimated Objective Value                |"
      ]
     },
     "metadata": {},
     "output_type": "display_data"
    },
    {
     "data": {
      "text/html": [
       "<pre>+---------+-------------------+------------------------------------------+</pre>"
      ],
      "text/plain": [
       "+---------+-------------------+------------------------------------------+"
      ]
     },
     "metadata": {},
     "output_type": "display_data"
    },
    {
     "data": {
      "text/html": [
       "<pre>| 0       | 16.6667           | Not Viable                               |</pre>"
      ],
      "text/plain": [
       "| 0       | 16.6667           | Not Viable                               |"
      ]
     },
     "metadata": {},
     "output_type": "display_data"
    },
    {
     "data": {
      "text/html": [
       "<pre>| 1       | 4.16667           | Not Viable                               |</pre>"
      ],
      "text/plain": [
       "| 1       | 4.16667           | Not Viable                               |"
      ]
     },
     "metadata": {},
     "output_type": "display_data"
    },
    {
     "data": {
      "text/html": [
       "<pre>| 2       | 1.04167           | 4.61806                                  |</pre>"
      ],
      "text/plain": [
       "| 2       | 1.04167           | 4.61806                                  |"
      ]
     },
     "metadata": {},
     "output_type": "display_data"
    },
    {
     "data": {
      "text/html": [
       "<pre>| 3       | 0.520833          | 3.48886                                  |</pre>"
      ],
      "text/plain": [
       "| 3       | 0.520833          | 3.48886                                  |"
      ]
     },
     "metadata": {},
     "output_type": "display_data"
    },
    {
     "data": {
      "text/html": [
       "<pre>| 4       | 0.260417          | 5.05122                                  |</pre>"
      ],
      "text/plain": [
       "| 4       | 0.260417          | 5.05122                                  |"
      ]
     },
     "metadata": {},
     "output_type": "display_data"
    },
    {
     "data": {
      "text/html": [
       "<pre>| 5       | 0.130208          | 4.92961                                  |</pre>"
      ],
      "text/plain": [
       "| 5       | 0.130208          | 4.92961                                  |"
      ]
     },
     "metadata": {},
     "output_type": "display_data"
    },
    {
     "data": {
      "text/html": [
       "<pre>| 6       | 0.0651042         | 6.9088                                   |</pre>"
      ],
      "text/plain": [
       "| 6       | 0.0651042         | 6.9088                                   |"
      ]
     },
     "metadata": {},
     "output_type": "display_data"
    },
    {
     "data": {
      "text/html": [
       "<pre>+---------+-------------------+------------------------------------------+</pre>"
      ],
      "text/plain": [
       "+---------+-------------------+------------------------------------------+"
      ]
     },
     "metadata": {},
     "output_type": "display_data"
    },
    {
     "data": {
      "text/html": [
       "<pre>| Final   | 0.520833          | 3.48886                                  |</pre>"
      ],
      "text/plain": [
       "| Final   | 0.520833          | 3.48886                                  |"
      ]
     },
     "metadata": {},
     "output_type": "display_data"
    },
    {
     "data": {
      "text/html": [
       "<pre>+---------+-------------------+------------------------------------------+</pre>"
      ],
      "text/plain": [
       "+---------+-------------------+------------------------------------------+"
      ]
     },
     "metadata": {},
     "output_type": "display_data"
    },
    {
     "data": {
      "text/html": [
       "<pre>Starting Optimization.</pre>"
      ],
      "text/plain": [
       "Starting Optimization."
      ]
     },
     "metadata": {},
     "output_type": "display_data"
    },
    {
     "data": {
      "text/html": [
       "<pre>+---------+--------------+-------------------+-----------------------+-------------+</pre>"
      ],
      "text/plain": [
       "+---------+--------------+-------------------+-----------------------+-------------+"
      ]
     },
     "metadata": {},
     "output_type": "display_data"
    },
    {
     "data": {
      "text/html": [
       "<pre>| Iter.   | Elapsed Time | Approx. Objective | Approx. Training RMSE | Step Size   |</pre>"
      ],
      "text/plain": [
       "| Iter.   | Elapsed Time | Approx. Objective | Approx. Training RMSE | Step Size   |"
      ]
     },
     "metadata": {},
     "output_type": "display_data"
    },
    {
     "data": {
      "text/html": [
       "<pre>+---------+--------------+-------------------+-----------------------+-------------+</pre>"
      ],
      "text/plain": [
       "+---------+--------------+-------------------+-----------------------+-------------+"
      ]
     },
     "metadata": {},
     "output_type": "display_data"
    },
    {
     "data": {
      "text/html": [
       "<pre>| Initial | 368us        | 11.9172           | 3.45213               |             |</pre>"
      ],
      "text/plain": [
       "| Initial | 368us        | 11.9172           | 3.45213               |             |"
      ]
     },
     "metadata": {},
     "output_type": "display_data"
    },
    {
     "data": {
      "text/html": [
       "<pre>+---------+--------------+-------------------+-----------------------+-------------+</pre>"
      ],
      "text/plain": [
       "+---------+--------------+-------------------+-----------------------+-------------+"
      ]
     },
     "metadata": {},
     "output_type": "display_data"
    },
    {
     "data": {
      "text/html": [
       "<pre>| 1       | 2.39s        | 8.22261           | 2.86438               | 0.520833    |</pre>"
      ],
      "text/plain": [
       "| 1       | 2.39s        | 8.22261           | 2.86438               | 0.520833    |"
      ]
     },
     "metadata": {},
     "output_type": "display_data"
    },
    {
     "data": {
      "text/html": [
       "<pre>| 2       | 4.63s        | 6.33086           | 2.51351               | 0.520833    |</pre>"
      ],
      "text/plain": [
       "| 2       | 4.63s        | 6.33086           | 2.51351               | 0.520833    |"
      ]
     },
     "metadata": {},
     "output_type": "display_data"
    },
    {
     "data": {
      "text/html": [
       "<pre>| 3       | 6.89s        | 5.74709           | 2.39503               | 0.520833    |</pre>"
      ],
      "text/plain": [
       "| 3       | 6.89s        | 5.74709           | 2.39503               | 0.520833    |"
      ]
     },
     "metadata": {},
     "output_type": "display_data"
    },
    {
     "data": {
      "text/html": [
       "<pre>| 4       | 9.26s        | 5.97456           | 2.44227               | 0.520833    |</pre>"
      ],
      "text/plain": [
       "| 4       | 9.26s        | 5.97456           | 2.44227               | 0.520833    |"
      ]
     },
     "metadata": {},
     "output_type": "display_data"
    },
    {
     "data": {
      "text/html": [
       "<pre>| 5       | 11.50s       | 5.54015           | 2.35173               | 0.520833    |</pre>"
      ],
      "text/plain": [
       "| 5       | 11.50s       | 5.54015           | 2.35173               | 0.520833    |"
      ]
     },
     "metadata": {},
     "output_type": "display_data"
    },
    {
     "data": {
      "text/html": [
       "<pre>| 10      | 22.78s       | 5.44615           | 2.33183               | 0.520833    |</pre>"
      ],
      "text/plain": [
       "| 10      | 22.78s       | 5.44615           | 2.33183               | 0.520833    |"
      ]
     },
     "metadata": {},
     "output_type": "display_data"
    },
    {
     "data": {
      "text/html": [
       "<pre>| 15      | 34.42s       | 4.92813           | 2.21795               | 0.520833    |</pre>"
      ],
      "text/plain": [
       "| 15      | 34.42s       | 4.92813           | 2.21795               | 0.520833    |"
      ]
     },
     "metadata": {},
     "output_type": "display_data"
    },
    {
     "data": {
      "text/html": [
       "<pre>| 20      | 46.23s       | 4.46716           | 2.1114                | 0.520833    |</pre>"
      ],
      "text/plain": [
       "| 20      | 46.23s       | 4.46716           | 2.1114                | 0.520833    |"
      ]
     },
     "metadata": {},
     "output_type": "display_data"
    },
    {
     "data": {
      "text/html": [
       "<pre>| 25      | 57.87s       | 4.43259           | 2.10313               | 0.520833    |</pre>"
      ],
      "text/plain": [
       "| 25      | 57.87s       | 4.43259           | 2.10313               | 0.520833    |"
      ]
     },
     "metadata": {},
     "output_type": "display_data"
    },
    {
     "data": {
      "text/html": [
       "<pre>| 30      | 1m 9s        | 5.2899            | 2.29826               | 0.520833    |</pre>"
      ],
      "text/plain": [
       "| 30      | 1m 9s        | 5.2899            | 2.29826               | 0.520833    |"
      ]
     },
     "metadata": {},
     "output_type": "display_data"
    },
    {
     "data": {
      "text/html": [
       "<pre>| 35      | 1m 21s       | 4.59194           | 2.14099               | 0.520833    |</pre>"
      ],
      "text/plain": [
       "| 35      | 1m 21s       | 4.59194           | 2.14099               | 0.520833    |"
      ]
     },
     "metadata": {},
     "output_type": "display_data"
    },
    {
     "data": {
      "text/html": [
       "<pre>| 40      | 1m 32s       | 4.43242           | 2.10336               | 0.520833    |</pre>"
      ],
      "text/plain": [
       "| 40      | 1m 32s       | 4.43242           | 2.10336               | 0.520833    |"
      ]
     },
     "metadata": {},
     "output_type": "display_data"
    },
    {
     "data": {
      "text/html": [
       "<pre>| 45      | 1m 44s       | 4.34857           | 2.08329               | 0.520833    |</pre>"
      ],
      "text/plain": [
       "| 45      | 1m 44s       | 4.34857           | 2.08329               | 0.520833    |"
      ]
     },
     "metadata": {},
     "output_type": "display_data"
    },
    {
     "data": {
      "text/html": [
       "<pre>| 50      | 1m 55s       | 4.31519           | 2.07523               | 0.520833    |</pre>"
      ],
      "text/plain": [
       "| 50      | 1m 55s       | 4.31519           | 2.07523               | 0.520833    |"
      ]
     },
     "metadata": {},
     "output_type": "display_data"
    },
    {
     "data": {
      "text/html": [
       "<pre>+---------+--------------+-------------------+-----------------------+-------------+</pre>"
      ],
      "text/plain": [
       "+---------+--------------+-------------------+-----------------------+-------------+"
      ]
     },
     "metadata": {},
     "output_type": "display_data"
    },
    {
     "data": {
      "text/html": [
       "<pre>Optimization Complete: Maximum number of passes through the data reached.</pre>"
      ],
      "text/plain": [
       "Optimization Complete: Maximum number of passes through the data reached."
      ]
     },
     "metadata": {},
     "output_type": "display_data"
    },
    {
     "data": {
      "text/html": [
       "<pre>Computing final objective value and training RMSE.</pre>"
      ],
      "text/plain": [
       "Computing final objective value and training RMSE."
      ]
     },
     "metadata": {},
     "output_type": "display_data"
    },
    {
     "data": {
      "text/html": [
       "<pre>       Final objective value: 4.3102</pre>"
      ],
      "text/plain": [
       "       Final objective value: 4.3102"
      ]
     },
     "metadata": {},
     "output_type": "display_data"
    },
    {
     "data": {
      "text/html": [
       "<pre>       Final training RMSE: 2.07403</pre>"
      ],
      "text/plain": [
       "       Final training RMSE: 2.07403"
      ]
     },
     "metadata": {},
     "output_type": "display_data"
    },
    {
     "name": "stdout",
     "output_type": "stream",
     "text": [
      "\n",
      "Precision and recall summary statistics by cutoff\n",
      "+--------+---------------------+----------------------+\n",
      "| cutoff |    mean_precision   |     mean_recall      |\n",
      "+--------+---------------------+----------------------+\n",
      "|   1    | 0.10554803788903923 | 0.028683155665560546 |\n",
      "|   2    | 0.10081190798376186 | 0.051595308319377274 |\n",
      "|   3    | 0.08615245827695084 |  0.0675024054751416  |\n",
      "|   4    | 0.07746955345060899 | 0.08117966810855892  |\n",
      "|   5    | 0.07361299052774022 | 0.09393420262908568  |\n",
      "|   6    | 0.06765899864682001 | 0.10038080471133526  |\n",
      "|   7    | 0.06069978735743282 | 0.10453778928708585  |\n",
      "|   8    | 0.05700270635994587 | 0.11178666885020655  |\n",
      "|   9    | 0.05322507893549842 |  0.1177071195032261  |\n",
      "|   10   | 0.05128552097428959 | 0.12247753622342843  |\n",
      "+--------+---------------------+----------------------+\n",
      "[10 rows x 3 columns]\n",
      "\n",
      "\n",
      "Overall RMSE: 2.5673606203284605\n",
      "\n",
      "Per User RMSE (best)\n",
      "+----------+----------------------+-------+\n",
      "| user_id  |         rmse         | count |\n",
      "+----------+----------------------+-------+\n",
      "| btonasse | 0.005034332581251633 |   1   |\n",
      "+----------+----------------------+-------+\n",
      "[1 rows x 3 columns]\n",
      "\n",
      "\n",
      "Per User RMSE (worst)\n",
      "+--------------+-------------------+-------+\n",
      "|   user_id    |        rmse       | count |\n",
      "+--------------+-------------------+-------+\n",
      "| fathermocker | 9.594846494645793 |   1   |\n",
      "+--------------+-------------------+-------+\n",
      "[1 rows x 3 columns]\n",
      "\n",
      "\n",
      "Per Item RMSE (best)\n",
      "+---------+-----------------------+-------+\n",
      "| game_id |          rmse         | count |\n",
      "+---------+-----------------------+-------+\n",
      "|   7661  | 0.0016802085205789297 |   1   |\n",
      "+---------+-----------------------+-------+\n",
      "[1 rows x 3 columns]\n",
      "\n",
      "\n",
      "Per Item RMSE (worst)\n",
      "+---------+-------------------+-------+\n",
      "| game_id |        rmse       | count |\n",
      "+---------+-------------------+-------+\n",
      "|  16790  | 9.140164650145671 |   1   |\n",
      "+---------+-------------------+-------+\n",
      "[1 rows x 3 columns]\n",
      "\n"
     ]
    },
    {
     "data": {
      "text/plain": [
       "{'precision_recall_by_user': Columns:\n",
       " \tuser_id\tstr\n",
       " \tcutoff\tint\n",
       " \tprecision\tfloat\n",
       " \trecall\tfloat\n",
       " \tcount\tint\n",
       " \n",
       " Rows: 13302\n",
       " \n",
       " Data:\n",
       " +------------+--------+---------------------+--------------------+-------+\n",
       " |  user_id   | cutoff |      precision      |       recall       | count |\n",
       " +------------+--------+---------------------+--------------------+-------+\n",
       " | Majomaja92 |   1    |         0.0         |        0.0         |   3   |\n",
       " | Majomaja92 |   2    |         0.0         |        0.0         |   3   |\n",
       " | Majomaja92 |   3    |         0.0         |        0.0         |   3   |\n",
       " | Majomaja92 |   4    |         0.0         |        0.0         |   3   |\n",
       " | Majomaja92 |   5    |         0.0         |        0.0         |   3   |\n",
       " | Majomaja92 |   6    | 0.16666666666666666 | 0.3333333333333333 |   3   |\n",
       " | Majomaja92 |   7    | 0.14285714285714285 | 0.3333333333333333 |   3   |\n",
       " | Majomaja92 |   8    |        0.125        | 0.3333333333333333 |   3   |\n",
       " | Majomaja92 |   9    |  0.1111111111111111 | 0.3333333333333333 |   3   |\n",
       " | Majomaja92 |   10   |         0.1         | 0.3333333333333333 |   3   |\n",
       " +------------+--------+---------------------+--------------------+-------+\n",
       " [13302 rows x 5 columns]\n",
       " Note: Only the head of the SFrame is printed.\n",
       " You can use print_rows(num_rows=m, num_columns=n) to print more rows and columns.,\n",
       " 'precision_recall_overall': Columns:\n",
       " \tcutoff\tint\n",
       " \tprecision\tfloat\n",
       " \trecall\tfloat\n",
       " \n",
       " Rows: 18\n",
       " \n",
       " Data:\n",
       " +--------+----------------------+----------------------+\n",
       " | cutoff |      precision       |        recall        |\n",
       " +--------+----------------------+----------------------+\n",
       " |   1    | 0.10554803788903924  | 0.028683155665560546 |\n",
       " |   2    | 0.10081190798376181  | 0.05159530831937729  |\n",
       " |   3    | 0.08615245827695087  | 0.06750240547514154  |\n",
       " |   4    | 0.07746955345060887  | 0.08117966810855888  |\n",
       " |   5    | 0.07361299052774029  | 0.09393420262908576  |\n",
       " |   6    | 0.06765899864681998  | 0.10038080471133531  |\n",
       " |   7    | 0.06069978735743284  | 0.10453778928708585  |\n",
       " |   8    | 0.05700270635994587  | 0.11178666885020652  |\n",
       " |   9    | 0.053225078935498375 | 0.11770711950322618  |\n",
       " |   10   | 0.05128552097428963  | 0.12247753622342844  |\n",
       " +--------+----------------------+----------------------+\n",
       " [18 rows x 3 columns]\n",
       " Note: Only the head of the SFrame is printed.\n",
       " You can use print_rows(num_rows=m, num_columns=n) to print more rows and columns.,\n",
       " 'rmse_by_user': Columns:\n",
       " \tuser_id\tstr\n",
       " \trmse\tfloat\n",
       " \tcount\tint\n",
       " \n",
       " Rows: 739\n",
       " \n",
       " Data:\n",
       " +-----------------+---------------------+-------+\n",
       " |     user_id     |         rmse        | count |\n",
       " +-----------------+---------------------+-------+\n",
       " |    heronymus    | 0.43568997153465416 |   25  |\n",
       " |      stlamb     |  0.382640625442613  |   11  |\n",
       " | ecoboardgeek123 |  0.8768127692715104 |  183  |\n",
       " |     Mikorax     |  0.1460609606283949 |   1   |\n",
       " |   TornadoLover  |  2.936731110088227  |   2   |\n",
       " |    cargowire    |  3.2395909029279393 |   6   |\n",
       " |     eRxGeek     |  4.128488384425559  |   2   |\n",
       " |     rjplouis    |  0.3537753132389289 |   8   |\n",
       " |     dking232    |  4.122842659866753  |   9   |\n",
       " |   fathermocker  |  9.594846494645793  |   1   |\n",
       " +-----------------+---------------------+-------+\n",
       " [739 rows x 3 columns]\n",
       " Note: Only the head of the SFrame is printed.\n",
       " You can use print_rows(num_rows=m, num_columns=n) to print more rows and columns.,\n",
       " 'rmse_by_item': Columns:\n",
       " \tgame_id\tint\n",
       " \trmse\tfloat\n",
       " \tcount\tint\n",
       " \n",
       " Rows: 2352\n",
       " \n",
       " Data:\n",
       " +---------+---------------------+-------+\n",
       " | game_id |         rmse        | count |\n",
       " +---------+---------------------+-------+\n",
       " |   5288  | 0.08023235511180954 |   1   |\n",
       " |  12158  |  0.888885601921892  |   1   |\n",
       " |   5783  |  0.618785603941478  |   2   |\n",
       " |   2847  |  1.4671746502857737 |   2   |\n",
       " |   9234  | 0.26623288024830927 |   1   |\n",
       " |   3913  | 0.09878083573145213 |   1   |\n",
       " |   537   | 0.03650092842139241 |   1   |\n",
       " |   526   |  1.386843453044091  |   1   |\n",
       " |  17325  |  0.9311420698807229 |   1   |\n",
       " |  15982  |  0.7165392995517348 |   1   |\n",
       " +---------+---------------------+-------+\n",
       " [2352 rows x 3 columns]\n",
       " Note: Only the head of the SFrame is printed.\n",
       " You can use print_rows(num_rows=m, num_columns=n) to print more rows and columns.,\n",
       " 'rmse_overall': 2.5673606203284605}"
      ]
     },
     "execution_count": 5,
     "metadata": {},
     "output_type": "execute_result"
    }
   ],
   "source": [
    "recommendation_models(actions,tc.factorization_recommender.create)"
   ]
  },
  {
   "cell_type": "code",
   "execution_count": 6,
   "metadata": {},
   "outputs": [
    {
     "data": {
      "text/html": [
       "<pre>Preparing data set.</pre>"
      ],
      "text/plain": [
       "Preparing data set."
      ]
     },
     "metadata": {},
     "output_type": "display_data"
    },
    {
     "data": {
      "text/html": [
       "<pre>    Data has 12350437 observations with 403750 users and 21702 items.</pre>"
      ],
      "text/plain": [
       "    Data has 12350437 observations with 403750 users and 21702 items."
      ]
     },
     "metadata": {},
     "output_type": "display_data"
    },
    {
     "data": {
      "text/html": [
       "<pre>    Data prepared in: 12.1357s</pre>"
      ],
      "text/plain": [
       "    Data prepared in: 12.1357s"
      ]
     },
     "metadata": {},
     "output_type": "display_data"
    },
    {
     "data": {
      "text/html": [
       "<pre>Training ranking_factorization_recommender for recommendations.</pre>"
      ],
      "text/plain": [
       "Training ranking_factorization_recommender for recommendations."
      ]
     },
     "metadata": {},
     "output_type": "display_data"
    },
    {
     "data": {
      "text/html": [
       "<pre>+--------------------------------+--------------------------------------------------+----------+</pre>"
      ],
      "text/plain": [
       "+--------------------------------+--------------------------------------------------+----------+"
      ]
     },
     "metadata": {},
     "output_type": "display_data"
    },
    {
     "data": {
      "text/html": [
       "<pre>| Parameter                      | Description                                      | Value    |</pre>"
      ],
      "text/plain": [
       "| Parameter                      | Description                                      | Value    |"
      ]
     },
     "metadata": {},
     "output_type": "display_data"
    },
    {
     "data": {
      "text/html": [
       "<pre>+--------------------------------+--------------------------------------------------+----------+</pre>"
      ],
      "text/plain": [
       "+--------------------------------+--------------------------------------------------+----------+"
      ]
     },
     "metadata": {},
     "output_type": "display_data"
    },
    {
     "data": {
      "text/html": [
       "<pre>| num_factors                    | Factor Dimension                                 | 32       |</pre>"
      ],
      "text/plain": [
       "| num_factors                    | Factor Dimension                                 | 32       |"
      ]
     },
     "metadata": {},
     "output_type": "display_data"
    },
    {
     "data": {
      "text/html": [
       "<pre>| regularization                 | L2 Regularization on Factors                     | 1e-09    |</pre>"
      ],
      "text/plain": [
       "| regularization                 | L2 Regularization on Factors                     | 1e-09    |"
      ]
     },
     "metadata": {},
     "output_type": "display_data"
    },
    {
     "data": {
      "text/html": [
       "<pre>| solver                         | Solver used for training                         | adagrad  |</pre>"
      ],
      "text/plain": [
       "| solver                         | Solver used for training                         | adagrad  |"
      ]
     },
     "metadata": {},
     "output_type": "display_data"
    },
    {
     "data": {
      "text/html": [
       "<pre>| linear_regularization          | L2 Regularization on Linear Coefficients         | 1e-09    |</pre>"
      ],
      "text/plain": [
       "| linear_regularization          | L2 Regularization on Linear Coefficients         | 1e-09    |"
      ]
     },
     "metadata": {},
     "output_type": "display_data"
    },
    {
     "data": {
      "text/html": [
       "<pre>| ranking_regularization         | Rank-based Regularization Weight                 | 0.25     |</pre>"
      ],
      "text/plain": [
       "| ranking_regularization         | Rank-based Regularization Weight                 | 0.25     |"
      ]
     },
     "metadata": {},
     "output_type": "display_data"
    },
    {
     "data": {
      "text/html": [
       "<pre>| max_iterations                 | Maximum Number of Iterations                     | 25       |</pre>"
      ],
      "text/plain": [
       "| max_iterations                 | Maximum Number of Iterations                     | 25       |"
      ]
     },
     "metadata": {},
     "output_type": "display_data"
    },
    {
     "data": {
      "text/html": [
       "<pre>+--------------------------------+--------------------------------------------------+----------+</pre>"
      ],
      "text/plain": [
       "+--------------------------------+--------------------------------------------------+----------+"
      ]
     },
     "metadata": {},
     "output_type": "display_data"
    },
    {
     "data": {
      "text/html": [
       "<pre>  Optimizing model using SGD; tuning step size.</pre>"
      ],
      "text/plain": [
       "  Optimizing model using SGD; tuning step size."
      ]
     },
     "metadata": {},
     "output_type": "display_data"
    },
    {
     "data": {
      "text/html": [
       "<pre>  Using 1543804 / 12350437 points for tuning the step size.</pre>"
      ],
      "text/plain": [
       "  Using 1543804 / 12350437 points for tuning the step size."
      ]
     },
     "metadata": {},
     "output_type": "display_data"
    },
    {
     "data": {
      "text/html": [
       "<pre>+---------+-------------------+------------------------------------------+</pre>"
      ],
      "text/plain": [
       "+---------+-------------------+------------------------------------------+"
      ]
     },
     "metadata": {},
     "output_type": "display_data"
    },
    {
     "data": {
      "text/html": [
       "<pre>| Attempt | Initial Step Size | Estimated Objective Value                |</pre>"
      ],
      "text/plain": [
       "| Attempt | Initial Step Size | Estimated Objective Value                |"
      ]
     },
     "metadata": {},
     "output_type": "display_data"
    },
    {
     "data": {
      "text/html": [
       "<pre>+---------+-------------------+------------------------------------------+</pre>"
      ],
      "text/plain": [
       "+---------+-------------------+------------------------------------------+"
      ]
     },
     "metadata": {},
     "output_type": "display_data"
    },
    {
     "data": {
      "text/html": [
       "<pre>| 0       | 16.6667           | Not Viable                               |</pre>"
      ],
      "text/plain": [
       "| 0       | 16.6667           | Not Viable                               |"
      ]
     },
     "metadata": {},
     "output_type": "display_data"
    },
    {
     "data": {
      "text/html": [
       "<pre>| 1       | 4.16667           | Not Viable                               |</pre>"
      ],
      "text/plain": [
       "| 1       | 4.16667           | Not Viable                               |"
      ]
     },
     "metadata": {},
     "output_type": "display_data"
    },
    {
     "data": {
      "text/html": [
       "<pre>| 2       | 1.04167           | Not Viable                               |</pre>"
      ],
      "text/plain": [
       "| 2       | 1.04167           | Not Viable                               |"
      ]
     },
     "metadata": {},
     "output_type": "display_data"
    },
    {
     "data": {
      "text/html": [
       "<pre>| 3       | 0.260417          | 21.9554                                  |</pre>"
      ],
      "text/plain": [
       "| 3       | 0.260417          | 21.9554                                  |"
      ]
     },
     "metadata": {},
     "output_type": "display_data"
    },
    {
     "data": {
      "text/html": [
       "<pre>| 4       | 0.130208          | 14.8795                                  |</pre>"
      ],
      "text/plain": [
       "| 4       | 0.130208          | 14.8795                                  |"
      ]
     },
     "metadata": {},
     "output_type": "display_data"
    },
    {
     "data": {
      "text/html": [
       "<pre>| 5       | 0.0651042         | 15.5759                                  |</pre>"
      ],
      "text/plain": [
       "| 5       | 0.0651042         | 15.5759                                  |"
      ]
     },
     "metadata": {},
     "output_type": "display_data"
    },
    {
     "data": {
      "text/html": [
       "<pre>| 6       | 0.0325521         | 17.3706                                  |</pre>"
      ],
      "text/plain": [
       "| 6       | 0.0325521         | 17.3706                                  |"
      ]
     },
     "metadata": {},
     "output_type": "display_data"
    },
    {
     "data": {
      "text/html": [
       "<pre>| 7       | 0.016276          | 17.9784                                  |</pre>"
      ],
      "text/plain": [
       "| 7       | 0.016276          | 17.9784                                  |"
      ]
     },
     "metadata": {},
     "output_type": "display_data"
    },
    {
     "data": {
      "text/html": [
       "<pre>+---------+-------------------+------------------------------------------+</pre>"
      ],
      "text/plain": [
       "+---------+-------------------+------------------------------------------+"
      ]
     },
     "metadata": {},
     "output_type": "display_data"
    },
    {
     "data": {
      "text/html": [
       "<pre>| Final   | 0.130208          | 14.8795                                  |</pre>"
      ],
      "text/plain": [
       "| Final   | 0.130208          | 14.8795                                  |"
      ]
     },
     "metadata": {},
     "output_type": "display_data"
    },
    {
     "data": {
      "text/html": [
       "<pre>+---------+-------------------+------------------------------------------+</pre>"
      ],
      "text/plain": [
       "+---------+-------------------+------------------------------------------+"
      ]
     },
     "metadata": {},
     "output_type": "display_data"
    },
    {
     "data": {
      "text/html": [
       "<pre>Starting Optimization.</pre>"
      ],
      "text/plain": [
       "Starting Optimization."
      ]
     },
     "metadata": {},
     "output_type": "display_data"
    },
    {
     "data": {
      "text/html": [
       "<pre>+---------+--------------+-------------------+-----------------------+-------------+</pre>"
      ],
      "text/plain": [
       "+---------+--------------+-------------------+-----------------------+-------------+"
      ]
     },
     "metadata": {},
     "output_type": "display_data"
    },
    {
     "data": {
      "text/html": [
       "<pre>| Iter.   | Elapsed Time | Approx. Objective | Approx. Training RMSE | Step Size   |</pre>"
      ],
      "text/plain": [
       "| Iter.   | Elapsed Time | Approx. Objective | Approx. Training RMSE | Step Size   |"
      ]
     },
     "metadata": {},
     "output_type": "display_data"
    },
    {
     "data": {
      "text/html": [
       "<pre>+---------+--------------+-------------------+-----------------------+-------------+</pre>"
      ],
      "text/plain": [
       "+---------+--------------+-------------------+-----------------------+-------------+"
      ]
     },
     "metadata": {},
     "output_type": "display_data"
    },
    {
     "data": {
      "text/html": [
       "<pre>| Initial | 353us        | 23.3435           | 3.45213               |             |</pre>"
      ],
      "text/plain": [
       "| Initial | 353us        | 23.3435           | 3.45213               |             |"
      ]
     },
     "metadata": {},
     "output_type": "display_data"
    },
    {
     "data": {
      "text/html": [
       "<pre>+---------+--------------+-------------------+-----------------------+-------------+</pre>"
      ],
      "text/plain": [
       "+---------+--------------+-------------------+-----------------------+-------------+"
      ]
     },
     "metadata": {},
     "output_type": "display_data"
    },
    {
     "data": {
      "text/html": [
       "<pre>| 1       | 15.80s       | 16.7809           | 3.25081               | 0.130208    |</pre>"
      ],
      "text/plain": [
       "| 1       | 15.80s       | 16.7809           | 3.25081               | 0.130208    |"
      ]
     },
     "metadata": {},
     "output_type": "display_data"
    },
    {
     "data": {
      "text/html": [
       "<pre>| 2       | 27.67s       | 15.2165           | 3.30803               | 0.130208    |</pre>"
      ],
      "text/plain": [
       "| 2       | 27.67s       | 15.2165           | 3.30803               | 0.130208    |"
      ]
     },
     "metadata": {},
     "output_type": "display_data"
    },
    {
     "data": {
      "text/html": [
       "<pre>| 3       | 40.46s       | 13.9205           | 3.11511               | 0.130208    |</pre>"
      ],
      "text/plain": [
       "| 3       | 40.46s       | 13.9205           | 3.11511               | 0.130208    |"
      ]
     },
     "metadata": {},
     "output_type": "display_data"
    },
    {
     "data": {
      "text/html": [
       "<pre>| 4       | 53.05s       | 13.3265           | 3.04328               | 0.130208    |</pre>"
      ],
      "text/plain": [
       "| 4       | 53.05s       | 13.3265           | 3.04328               | 0.130208    |"
      ]
     },
     "metadata": {},
     "output_type": "display_data"
    },
    {
     "data": {
      "text/html": [
       "<pre>| 5       | 1m 8s        | 12.8275           | 2.99792               | 0.130208    |</pre>"
      ],
      "text/plain": [
       "| 5       | 1m 8s        | 12.8275           | 2.99792               | 0.130208    |"
      ]
     },
     "metadata": {},
     "output_type": "display_data"
    },
    {
     "data": {
      "text/html": [
       "<pre>| 7       | 1m 35s       | 11.9423           | 2.89245               | 0.130208    |</pre>"
      ],
      "text/plain": [
       "| 7       | 1m 35s       | 11.9423           | 2.89245               | 0.130208    |"
      ]
     },
     "metadata": {},
     "output_type": "display_data"
    },
    {
     "data": {
      "text/html": [
       "<pre>| 8       | 1m 48s       | 11.5799           | 2.84936               | 0.130208    |</pre>"
      ],
      "text/plain": [
       "| 8       | 1m 48s       | 11.5799           | 2.84936               | 0.130208    |"
      ]
     },
     "metadata": {},
     "output_type": "display_data"
    },
    {
     "data": {
      "text/html": [
       "<pre>| 9       | 1m 59s       | 11.2678           | 2.81509               | 0.130208    |</pre>"
      ],
      "text/plain": [
       "| 9       | 1m 59s       | 11.2678           | 2.81509               | 0.130208    |"
      ]
     },
     "metadata": {},
     "output_type": "display_data"
    },
    {
     "data": {
      "text/html": [
       "<pre>| 10      | 2m 12s       | 11.0812           | 2.78994               | 0.130208    |</pre>"
      ],
      "text/plain": [
       "| 10      | 2m 12s       | 11.0812           | 2.78994               | 0.130208    |"
      ]
     },
     "metadata": {},
     "output_type": "display_data"
    },
    {
     "data": {
      "text/html": [
       "<pre>| 11      | 2m 25s       | 10.9168           | 2.77358               | 0.130208    |</pre>"
      ],
      "text/plain": [
       "| 11      | 2m 25s       | 10.9168           | 2.77358               | 0.130208    |"
      ]
     },
     "metadata": {},
     "output_type": "display_data"
    },
    {
     "data": {
      "text/html": [
       "<pre>| 12      | 2m 39s       | 10.7541           | 2.75361               | 0.130208    |</pre>"
      ],
      "text/plain": [
       "| 12      | 2m 39s       | 10.7541           | 2.75361               | 0.130208    |"
      ]
     },
     "metadata": {},
     "output_type": "display_data"
    },
    {
     "data": {
      "text/html": [
       "<pre>| 13      | 2m 51s       | 10.6123           | 2.73796               | 0.130208    |</pre>"
      ],
      "text/plain": [
       "| 13      | 2m 51s       | 10.6123           | 2.73796               | 0.130208    |"
      ]
     },
     "metadata": {},
     "output_type": "display_data"
    },
    {
     "data": {
      "text/html": [
       "<pre>| 14      | 3m 3s        | 10.4837           | 2.72112               | 0.130208    |</pre>"
      ],
      "text/plain": [
       "| 14      | 3m 3s        | 10.4837           | 2.72112               | 0.130208    |"
      ]
     },
     "metadata": {},
     "output_type": "display_data"
    },
    {
     "data": {
      "text/html": [
       "<pre>| 15      | 3m 15s       | 10.3816           | 2.71018               | 0.130208    |</pre>"
      ],
      "text/plain": [
       "| 15      | 3m 15s       | 10.3816           | 2.71018               | 0.130208    |"
      ]
     },
     "metadata": {},
     "output_type": "display_data"
    },
    {
     "data": {
      "text/html": [
       "<pre>| 16      | 3m 26s       | 10.2686           | 2.69624               | 0.130208    |</pre>"
      ],
      "text/plain": [
       "| 16      | 3m 26s       | 10.2686           | 2.69624               | 0.130208    |"
      ]
     },
     "metadata": {},
     "output_type": "display_data"
    },
    {
     "data": {
      "text/html": [
       "<pre>| 17      | 3m 38s       | 10.1861           | 2.68621               | 0.130208    |</pre>"
      ],
      "text/plain": [
       "| 17      | 3m 38s       | 10.1861           | 2.68621               | 0.130208    |"
      ]
     },
     "metadata": {},
     "output_type": "display_data"
    },
    {
     "data": {
      "text/html": [
       "<pre>| 18      | 3m 49s       | 10.098            | 2.6752                | 0.130208    |</pre>"
      ],
      "text/plain": [
       "| 18      | 3m 49s       | 10.098            | 2.6752                | 0.130208    |"
      ]
     },
     "metadata": {},
     "output_type": "display_data"
    },
    {
     "data": {
      "text/html": [
       "<pre>| 19      | 4m 1s        | 10.0153           | 2.66524               | 0.130208    |</pre>"
      ],
      "text/plain": [
       "| 19      | 4m 1s        | 10.0153           | 2.66524               | 0.130208    |"
      ]
     },
     "metadata": {},
     "output_type": "display_data"
    },
    {
     "data": {
      "text/html": [
       "<pre>| 20      | 4m 12s       | 9.94315           | 2.65608               | 0.130208    |</pre>"
      ],
      "text/plain": [
       "| 20      | 4m 12s       | 9.94315           | 2.65608               | 0.130208    |"
      ]
     },
     "metadata": {},
     "output_type": "display_data"
    },
    {
     "data": {
      "text/html": [
       "<pre>| 21      | 4m 24s       | 9.87773           | 2.64779               | 0.130208    |</pre>"
      ],
      "text/plain": [
       "| 21      | 4m 24s       | 9.87773           | 2.64779               | 0.130208    |"
      ]
     },
     "metadata": {},
     "output_type": "display_data"
    },
    {
     "data": {
      "text/html": [
       "<pre>| 22      | 4m 35s       | 9.80719           | 2.63915               | 0.130208    |</pre>"
      ],
      "text/plain": [
       "| 22      | 4m 35s       | 9.80719           | 2.63915               | 0.130208    |"
      ]
     },
     "metadata": {},
     "output_type": "display_data"
    },
    {
     "data": {
      "text/html": [
       "<pre>| 23      | 4m 47s       | 9.74924           | 2.6317                | 0.130208    |</pre>"
      ],
      "text/plain": [
       "| 23      | 4m 47s       | 9.74924           | 2.6317                | 0.130208    |"
      ]
     },
     "metadata": {},
     "output_type": "display_data"
    },
    {
     "data": {
      "text/html": [
       "<pre>| 24      | 4m 58s       | 9.68393           | 2.62208               | 0.130208    |</pre>"
      ],
      "text/plain": [
       "| 24      | 4m 58s       | 9.68393           | 2.62208               | 0.130208    |"
      ]
     },
     "metadata": {},
     "output_type": "display_data"
    },
    {
     "data": {
      "text/html": [
       "<pre>| 25      | 5m 10s       | 9.62375           | 2.61506               | 0.130208    |</pre>"
      ],
      "text/plain": [
       "| 25      | 5m 10s       | 9.62375           | 2.61506               | 0.130208    |"
      ]
     },
     "metadata": {},
     "output_type": "display_data"
    },
    {
     "data": {
      "text/html": [
       "<pre>+---------+--------------+-------------------+-----------------------+-------------+</pre>"
      ],
      "text/plain": [
       "+---------+--------------+-------------------+-----------------------+-------------+"
      ]
     },
     "metadata": {},
     "output_type": "display_data"
    },
    {
     "data": {
      "text/html": [
       "<pre>Optimization Complete: Maximum number of passes through the data reached.</pre>"
      ],
      "text/plain": [
       "Optimization Complete: Maximum number of passes through the data reached."
      ]
     },
     "metadata": {},
     "output_type": "display_data"
    },
    {
     "data": {
      "text/html": [
       "<pre>Computing final objective value and training RMSE.</pre>"
      ],
      "text/plain": [
       "Computing final objective value and training RMSE."
      ]
     },
     "metadata": {},
     "output_type": "display_data"
    },
    {
     "data": {
      "text/html": [
       "<pre>       Final objective value: 9.91172</pre>"
      ],
      "text/plain": [
       "       Final objective value: 9.91172"
      ]
     },
     "metadata": {},
     "output_type": "display_data"
    },
    {
     "data": {
      "text/html": [
       "<pre>       Final training RMSE: 2.62658</pre>"
      ],
      "text/plain": [
       "       Final training RMSE: 2.62658"
      ]
     },
     "metadata": {},
     "output_type": "display_data"
    },
    {
     "name": "stdout",
     "output_type": "stream",
     "text": [
      "\n",
      "Precision and recall summary statistics by cutoff\n",
      "+--------+----------------------+----------------------+\n",
      "| cutoff |    mean_precision    |     mean_recall      |\n",
      "+--------+----------------------+----------------------+\n",
      "|   1    | 0.07577807848443847  | 0.012784878711062353 |\n",
      "|   2    | 0.07104194857916103  | 0.03076711280176167  |\n",
      "|   3    | 0.07126747857465042  | 0.048375584784518866 |\n",
      "|   4    | 0.06529093369418133  | 0.05672860559960968  |\n",
      "|   5    | 0.06143437077131261  |  0.068196006685172   |\n",
      "|   6    | 0.05683355886332883  |  0.0740297065056656  |\n",
      "|   7    | 0.05548037889039242  |  0.0824915399408574  |\n",
      "|   8    | 0.05361975642760487  | 0.08933396111362717  |\n",
      "|   9    | 0.05187189896256204  | 0.09334218416478947  |\n",
      "|   10   | 0.049391069012178636 | 0.09854779892120422  |\n",
      "+--------+----------------------+----------------------+\n",
      "[10 rows x 3 columns]\n",
      "\n",
      "\n",
      "Overall RMSE: 3.2381507314460953\n",
      "\n",
      "Per User RMSE (best)\n",
      "+-----------+----------------------+-------+\n",
      "|  user_id  |         rmse         | count |\n",
      "+-----------+----------------------+-------+\n",
      "| mdverbeek | 0.016215519701653136 |   1   |\n",
      "+-----------+----------------------+-------+\n",
      "[1 rows x 3 columns]\n",
      "\n",
      "\n",
      "Per User RMSE (worst)\n",
      "+--------------+--------------------+-------+\n",
      "|   user_id    |        rmse        | count |\n",
      "+--------------+--------------------+-------+\n",
      "| scottamemnon | 29.100241306341395 |   1   |\n",
      "+--------------+--------------------+-------+\n",
      "[1 rows x 3 columns]\n",
      "\n",
      "\n",
      "Per Item RMSE (best)\n",
      "+---------+-----------------------+-------+\n",
      "| game_id |          rmse         | count |\n",
      "+---------+-----------------------+-------+\n",
      "|  10967  | 0.0014199139628026103 |   1   |\n",
      "+---------+-----------------------+-------+\n",
      "[1 rows x 3 columns]\n",
      "\n",
      "\n",
      "Per Item RMSE (worst)\n",
      "+---------+--------------------+-------+\n",
      "| game_id |        rmse        | count |\n",
      "+---------+--------------------+-------+\n",
      "|  16790  | 29.100241306341395 |   1   |\n",
      "+---------+--------------------+-------+\n",
      "[1 rows x 3 columns]\n",
      "\n"
     ]
    },
    {
     "data": {
      "text/plain": [
       "{'precision_recall_by_user': Columns:\n",
       " \tuser_id\tstr\n",
       " \tcutoff\tint\n",
       " \tprecision\tfloat\n",
       " \trecall\tfloat\n",
       " \tcount\tint\n",
       " \n",
       " Rows: 13302\n",
       " \n",
       " Data:\n",
       " +------------+--------+---------------------+--------------------+-------+\n",
       " |  user_id   | cutoff |      precision      |       recall       | count |\n",
       " +------------+--------+---------------------+--------------------+-------+\n",
       " | Majomaja92 |   1    |         1.0         | 0.3333333333333333 |   3   |\n",
       " | Majomaja92 |   2    |         0.5         | 0.3333333333333333 |   3   |\n",
       " | Majomaja92 |   3    |  0.3333333333333333 | 0.3333333333333333 |   3   |\n",
       " | Majomaja92 |   4    |         0.25        | 0.3333333333333333 |   3   |\n",
       " | Majomaja92 |   5    |         0.2         | 0.3333333333333333 |   3   |\n",
       " | Majomaja92 |   6    | 0.16666666666666666 | 0.3333333333333333 |   3   |\n",
       " | Majomaja92 |   7    | 0.14285714285714285 | 0.3333333333333333 |   3   |\n",
       " | Majomaja92 |   8    |        0.125        | 0.3333333333333333 |   3   |\n",
       " | Majomaja92 |   9    |  0.1111111111111111 | 0.3333333333333333 |   3   |\n",
       " | Majomaja92 |   10   |         0.1         | 0.3333333333333333 |   3   |\n",
       " +------------+--------+---------------------+--------------------+-------+\n",
       " [13302 rows x 5 columns]\n",
       " Note: Only the head of the SFrame is printed.\n",
       " You can use print_rows(num_rows=m, num_columns=n) to print more rows and columns.,\n",
       " 'precision_recall_overall': Columns:\n",
       " \tcutoff\tint\n",
       " \tprecision\tfloat\n",
       " \trecall\tfloat\n",
       " \n",
       " Rows: 18\n",
       " \n",
       " Data:\n",
       " +--------+---------------------+----------------------+\n",
       " | cutoff |      precision      |        recall        |\n",
       " +--------+---------------------+----------------------+\n",
       " |   1    | 0.07577807848443843 | 0.012784878711062353 |\n",
       " |   2    | 0.07104194857916105 | 0.03076711280176164  |\n",
       " |   3    | 0.07126747857465046 | 0.04837558478451887  |\n",
       " |   4    | 0.06529093369418135 | 0.05672860559960972  |\n",
       " |   5    | 0.06143437077131257 | 0.06819600668517199  |\n",
       " |   6    | 0.05683355886332881 | 0.07402970650566557  |\n",
       " |   7    | 0.05548037889039245 | 0.08249153994085735  |\n",
       " |   8    | 0.05361975642760488 | 0.08933396111362721  |\n",
       " |   9    | 0.05187189896256204 | 0.09334218416478939  |\n",
       " |   10   | 0.04939106901217866 | 0.09854779892120416  |\n",
       " +--------+---------------------+----------------------+\n",
       " [18 rows x 3 columns]\n",
       " Note: Only the head of the SFrame is printed.\n",
       " You can use print_rows(num_rows=m, num_columns=n) to print more rows and columns.,\n",
       " 'rmse_by_user': Columns:\n",
       " \tuser_id\tstr\n",
       " \trmse\tfloat\n",
       " \tcount\tint\n",
       " \n",
       " Rows: 739\n",
       " \n",
       " Data:\n",
       " +-----------------+---------------------+-------+\n",
       " |     user_id     |         rmse        | count |\n",
       " +-----------------+---------------------+-------+\n",
       " |    heronymus    |  2.016433880679586  |   25  |\n",
       " |      stlamb     | 0.33593165779903617 |   11  |\n",
       " | ecoboardgeek123 |  1.809486016047893  |  183  |\n",
       " |     Mikorax     | 0.10669184259704068 |   1   |\n",
       " |   TornadoLover  |  8.417860802802734  |   2   |\n",
       " |    cargowire    |  4.694367950962589  |   6   |\n",
       " |     eRxGeek     |  4.315910633998295  |   2   |\n",
       " |     rjplouis    |  1.032245111529573  |   8   |\n",
       " |     dking232    |  4.175237630229503  |   9   |\n",
       " |   fathermocker  |  8.926471168712697  |   1   |\n",
       " +-----------------+---------------------+-------+\n",
       " [739 rows x 3 columns]\n",
       " Note: Only the head of the SFrame is printed.\n",
       " You can use print_rows(num_rows=m, num_columns=n) to print more rows and columns.,\n",
       " 'rmse_by_item': Columns:\n",
       " \tgame_id\tint\n",
       " \trmse\tfloat\n",
       " \tcount\tint\n",
       " \n",
       " Rows: 2352\n",
       " \n",
       " Data:\n",
       " +---------+--------------------+-------+\n",
       " | game_id |        rmse        | count |\n",
       " +---------+--------------------+-------+\n",
       " |   5288  | 0.7207039311806227 |   1   |\n",
       " |  12158  | 2.8383914575812845 |   1   |\n",
       " |   5783  | 0.9494716413132912 |   2   |\n",
       " |   2847  | 3.774209364784649  |   2   |\n",
       " |   9234  | 2.5976192027083584 |   1   |\n",
       " |   3913  | 1.5599319048350173 |   1   |\n",
       " |   537   |  2.11097046714049  |   1   |\n",
       " |   526   | 3.6147403025471547 |   1   |\n",
       " |  17325  | 0.6478083754044803 |   1   |\n",
       " |  15982  | 1.489514994886683  |   1   |\n",
       " +---------+--------------------+-------+\n",
       " [2352 rows x 3 columns]\n",
       " Note: Only the head of the SFrame is printed.\n",
       " You can use print_rows(num_rows=m, num_columns=n) to print more rows and columns.,\n",
       " 'rmse_overall': 3.2381507314460953}"
      ]
     },
     "execution_count": 6,
     "metadata": {},
     "output_type": "execute_result"
    }
   ],
   "source": [
    "recommendation_models(actions,tc.ranking_factorization_recommender.create)"
   ]
  },
  {
   "cell_type": "code",
   "execution_count": 7,
   "metadata": {},
   "outputs": [
    {
     "data": {
      "text/html": [
       "<pre>Warning: Ignoring columns X1;</pre>"
      ],
      "text/plain": [
       "Warning: Ignoring columns X1;"
      ]
     },
     "metadata": {},
     "output_type": "display_data"
    },
    {
     "data": {
      "text/html": [
       "<pre>    To use these columns in scoring predictions, use a model that allows the use of additional features.</pre>"
      ],
      "text/plain": [
       "    To use these columns in scoring predictions, use a model that allows the use of additional features."
      ]
     },
     "metadata": {},
     "output_type": "display_data"
    },
    {
     "data": {
      "text/html": [
       "<pre>Preparing data set.</pre>"
      ],
      "text/plain": [
       "Preparing data set."
      ]
     },
     "metadata": {},
     "output_type": "display_data"
    },
    {
     "data": {
      "text/html": [
       "<pre>    Data has 12350437 observations with 403750 users and 21702 items.</pre>"
      ],
      "text/plain": [
       "    Data has 12350437 observations with 403750 users and 21702 items."
      ]
     },
     "metadata": {},
     "output_type": "display_data"
    },
    {
     "data": {
      "text/html": [
       "<pre>    Data prepared in: 9.20791s</pre>"
      ],
      "text/plain": [
       "    Data prepared in: 9.20791s"
      ]
     },
     "metadata": {},
     "output_type": "display_data"
    },
    {
     "data": {
      "text/html": [
       "<pre>Training model from provided data.</pre>"
      ],
      "text/plain": [
       "Training model from provided data."
      ]
     },
     "metadata": {},
     "output_type": "display_data"
    },
    {
     "data": {
      "text/html": [
       "<pre>Gathering per-item and per-user statistics.</pre>"
      ],
      "text/plain": [
       "Gathering per-item and per-user statistics."
      ]
     },
     "metadata": {},
     "output_type": "display_data"
    },
    {
     "data": {
      "text/html": [
       "<pre>+--------------------------------+------------+</pre>"
      ],
      "text/plain": [
       "+--------------------------------+------------+"
      ]
     },
     "metadata": {},
     "output_type": "display_data"
    },
    {
     "data": {
      "text/html": [
       "<pre>| Elapsed Time (Item Statistics) | % Complete |</pre>"
      ],
      "text/plain": [
       "| Elapsed Time (Item Statistics) | % Complete |"
      ]
     },
     "metadata": {},
     "output_type": "display_data"
    },
    {
     "data": {
      "text/html": [
       "<pre>+--------------------------------+------------+</pre>"
      ],
      "text/plain": [
       "+--------------------------------+------------+"
      ]
     },
     "metadata": {},
     "output_type": "display_data"
    },
    {
     "data": {
      "text/html": [
       "<pre>| 15.01ms                        | 0          |</pre>"
      ],
      "text/plain": [
       "| 15.01ms                        | 0          |"
      ]
     },
     "metadata": {},
     "output_type": "display_data"
    },
    {
     "data": {
      "text/html": [
       "<pre>| 284.561ms                      | 100        |</pre>"
      ],
      "text/plain": [
       "| 284.561ms                      | 100        |"
      ]
     },
     "metadata": {},
     "output_type": "display_data"
    },
    {
     "data": {
      "text/html": [
       "<pre>+--------------------------------+------------+</pre>"
      ],
      "text/plain": [
       "+--------------------------------+------------+"
      ]
     },
     "metadata": {},
     "output_type": "display_data"
    },
    {
     "data": {
      "text/html": [
       "<pre>Setting up lookup tables.</pre>"
      ],
      "text/plain": [
       "Setting up lookup tables."
      ]
     },
     "metadata": {},
     "output_type": "display_data"
    },
    {
     "data": {
      "text/html": [
       "<pre>Processing data in one pass using dense lookup tables.</pre>"
      ],
      "text/plain": [
       "Processing data in one pass using dense lookup tables."
      ]
     },
     "metadata": {},
     "output_type": "display_data"
    },
    {
     "data": {
      "text/html": [
       "<pre>+-------------------------------------+------------------+-----------------+</pre>"
      ],
      "text/plain": [
       "+-------------------------------------+------------------+-----------------+"
      ]
     },
     "metadata": {},
     "output_type": "display_data"
    },
    {
     "data": {
      "text/html": [
       "<pre>| Elapsed Time (Constructing Lookups) | Total % Complete | Items Processed |</pre>"
      ],
      "text/plain": [
       "| Elapsed Time (Constructing Lookups) | Total % Complete | Items Processed |"
      ]
     },
     "metadata": {},
     "output_type": "display_data"
    },
    {
     "data": {
      "text/html": [
       "<pre>+-------------------------------------+------------------+-----------------+</pre>"
      ],
      "text/plain": [
       "+-------------------------------------+------------------+-----------------+"
      ]
     },
     "metadata": {},
     "output_type": "display_data"
    },
    {
     "data": {
      "text/html": [
       "<pre>| 1.37s                               | 0                | 0               |</pre>"
      ],
      "text/plain": [
       "| 1.37s                               | 0                | 0               |"
      ]
     },
     "metadata": {},
     "output_type": "display_data"
    },
    {
     "data": {
      "text/html": [
       "<pre>| 4.39s                               | 28               | 6095            |</pre>"
      ],
      "text/plain": [
       "| 4.39s                               | 28               | 6095            |"
      ]
     },
     "metadata": {},
     "output_type": "display_data"
    },
    {
     "data": {
      "text/html": [
       "<pre>| 7.40s                               | 71.75            | 15581           |</pre>"
      ],
      "text/plain": [
       "| 7.40s                               | 71.75            | 15581           |"
      ]
     },
     "metadata": {},
     "output_type": "display_data"
    },
    {
     "data": {
      "text/html": [
       "<pre>| 13.39s                              | 100              | 21702           |</pre>"
      ],
      "text/plain": [
       "| 13.39s                              | 100              | 21702           |"
      ]
     },
     "metadata": {},
     "output_type": "display_data"
    },
    {
     "data": {
      "text/html": [
       "<pre>+-------------------------------------+------------------+-----------------+</pre>"
      ],
      "text/plain": [
       "+-------------------------------------+------------------+-----------------+"
      ]
     },
     "metadata": {},
     "output_type": "display_data"
    },
    {
     "data": {
      "text/html": [
       "<pre>Finalizing lookup tables.</pre>"
      ],
      "text/plain": [
       "Finalizing lookup tables."
      ]
     },
     "metadata": {},
     "output_type": "display_data"
    },
    {
     "data": {
      "text/html": [
       "<pre>Generating candidate set for working with new users.</pre>"
      ],
      "text/plain": [
       "Generating candidate set for working with new users."
      ]
     },
     "metadata": {},
     "output_type": "display_data"
    },
    {
     "data": {
      "text/html": [
       "<pre>Finished training in 13.8085s</pre>"
      ],
      "text/plain": [
       "Finished training in 13.8085s"
      ]
     },
     "metadata": {},
     "output_type": "display_data"
    },
    {
     "name": "stdout",
     "output_type": "stream",
     "text": [
      "\n",
      "Precision and recall summary statistics by cutoff\n",
      "+--------+---------------------+----------------------+\n",
      "| cutoff |    mean_precision   |     mean_recall      |\n",
      "+--------+---------------------+----------------------+\n",
      "|   1    | 0.12990527740189436 | 0.028809272093688068 |\n",
      "|   2    | 0.10487144790257104 | 0.046358681736989066 |\n",
      "|   3    | 0.09427153811456924 | 0.06161427384408022  |\n",
      "|   4    | 0.08728010825439779 |  0.0728899181353497  |\n",
      "|   5    | 0.08119079837618406 | 0.08090949951642092  |\n",
      "|   6    | 0.07668019846639607 | 0.09001232214195078  |\n",
      "|   7    | 0.07133191571621882 | 0.09688218054232696  |\n",
      "|   8    | 0.06867388362652231 | 0.10270734662637618  |\n",
      "|   9    | 0.06600511201323109 | 0.11085839020757411  |\n",
      "|   10   | 0.06414073071718539 | 0.11839622114048255  |\n",
      "+--------+---------------------+----------------------+\n",
      "[10 rows x 3 columns]\n",
      "\n",
      "\n",
      "Overall RMSE: 4.530671627038898\n",
      "\n",
      "Per User RMSE (best)\n",
      "+----------------+------+-------+\n",
      "|    user_id     | rmse | count |\n",
      "+----------------+------+-------+\n",
      "| DerSchwerpunkt | 0.0  |   19  |\n",
      "+----------------+------+-------+\n",
      "[1 rows x 3 columns]\n",
      "\n",
      "\n",
      "Per User RMSE (worst)\n",
      "+----------+------+-------+\n",
      "| user_id  | rmse | count |\n",
      "+----------+------+-------+\n",
      "| schoenke | 10.0 |   1   |\n",
      "+----------+------+-------+\n",
      "[1 rows x 3 columns]\n",
      "\n",
      "\n",
      "Per Item RMSE (best)\n",
      "+---------+------+-------+\n",
      "| game_id | rmse | count |\n",
      "+---------+------+-------+\n",
      "|  14109  | 0.0  |   1   |\n",
      "+---------+------+-------+\n",
      "[1 rows x 3 columns]\n",
      "\n",
      "\n",
      "Per Item RMSE (worst)\n",
      "+---------+------+-------+\n",
      "| game_id | rmse | count |\n",
      "+---------+------+-------+\n",
      "|  16790  | 10.0 |   1   |\n",
      "+---------+------+-------+\n",
      "[1 rows x 3 columns]\n",
      "\n"
     ]
    },
    {
     "data": {
      "text/plain": [
       "{'precision_recall_by_user': Columns:\n",
       " \tuser_id\tstr\n",
       " \tcutoff\tint\n",
       " \tprecision\tfloat\n",
       " \trecall\tfloat\n",
       " \tcount\tint\n",
       " \n",
       " Rows: 13302\n",
       " \n",
       " Data:\n",
       " +------------+--------+---------------------+--------------------+-------+\n",
       " |  user_id   | cutoff |      precision      |       recall       | count |\n",
       " +------------+--------+---------------------+--------------------+-------+\n",
       " | Majomaja92 |   1    |         0.0         |        0.0         |   3   |\n",
       " | Majomaja92 |   2    |         0.0         |        0.0         |   3   |\n",
       " | Majomaja92 |   3    |         0.0         |        0.0         |   3   |\n",
       " | Majomaja92 |   4    |         0.0         |        0.0         |   3   |\n",
       " | Majomaja92 |   5    |         0.0         |        0.0         |   3   |\n",
       " | Majomaja92 |   6    | 0.16666666666666666 | 0.3333333333333333 |   3   |\n",
       " | Majomaja92 |   7    | 0.14285714285714285 | 0.3333333333333333 |   3   |\n",
       " | Majomaja92 |   8    |        0.125        | 0.3333333333333333 |   3   |\n",
       " | Majomaja92 |   9    |  0.1111111111111111 | 0.3333333333333333 |   3   |\n",
       " | Majomaja92 |   10   |         0.2         | 0.6666666666666666 |   3   |\n",
       " +------------+--------+---------------------+--------------------+-------+\n",
       " [13302 rows x 5 columns]\n",
       " Note: Only the head of the SFrame is printed.\n",
       " You can use print_rows(num_rows=m, num_columns=n) to print more rows and columns.,\n",
       " 'precision_recall_overall': Columns:\n",
       " \tcutoff\tint\n",
       " \tprecision\tfloat\n",
       " \trecall\tfloat\n",
       " \n",
       " Rows: 18\n",
       " \n",
       " Data:\n",
       " +--------+---------------------+----------------------+\n",
       " | cutoff |      precision      |        recall        |\n",
       " +--------+---------------------+----------------------+\n",
       " |   1    |  0.1299052774018945 | 0.028809272093688068 |\n",
       " |   2    | 0.10487144790257104 | 0.046358681736989024 |\n",
       " |   3    | 0.09427153811456926 | 0.061614273844080227 |\n",
       " |   4    | 0.08728010825439782 | 0.07288991813534972  |\n",
       " |   5    | 0.08119079837618404 | 0.08090949951642093  |\n",
       " |   6    | 0.07668019846639601 | 0.09001232214195086  |\n",
       " |   7    |  0.0713319157162188 |  0.096882180542327   |\n",
       " |   8    | 0.06867388362652234 | 0.10270734662637618  |\n",
       " |   9    |  0.0660051120132311 | 0.11085839020757407  |\n",
       " |   10   | 0.06414073071718539 | 0.11839622114048254  |\n",
       " +--------+---------------------+----------------------+\n",
       " [18 rows x 3 columns]\n",
       " Note: Only the head of the SFrame is printed.\n",
       " You can use print_rows(num_rows=m, num_columns=n) to print more rows and columns.,\n",
       " 'rmse_by_user': Columns:\n",
       " \tuser_id\tstr\n",
       " \trmse\tfloat\n",
       " \tcount\tint\n",
       " \n",
       " Rows: 739\n",
       " \n",
       " Data:\n",
       " +-----------------+--------------------+-------+\n",
       " |     user_id     |        rmse        | count |\n",
       " +-----------------+--------------------+-------+\n",
       " |    heronymus    |        0.0         |   25  |\n",
       " |      stlamb     |        0.0         |   11  |\n",
       " | ecoboardgeek123 | 0.7428664791005419 |  183  |\n",
       " |     Mikorax     |        0.0         |   1   |\n",
       " |   TornadoLover  | 0.0671984977814819 |   2   |\n",
       " |    cargowire    | 5.330081816343385  |   6   |\n",
       " |     eRxGeek     | 4.927731716382009  |   2   |\n",
       " |     rjplouis    |        0.0         |   8   |\n",
       " |     dking232    | 6.755892629992841  |   9   |\n",
       " |   fathermocker  | 9.972111981648665  |   1   |\n",
       " +-----------------+--------------------+-------+\n",
       " [739 rows x 3 columns]\n",
       " Note: Only the head of the SFrame is printed.\n",
       " You can use print_rows(num_rows=m, num_columns=n) to print more rows and columns.,\n",
       " 'rmse_by_item': Columns:\n",
       " \tgame_id\tint\n",
       " \trmse\tfloat\n",
       " \tcount\tint\n",
       " \n",
       " Rows: 2352\n",
       " \n",
       " Data:\n",
       " +---------+------------------------+-------+\n",
       " | game_id |          rmse          | count |\n",
       " +---------+------------------------+-------+\n",
       " |   5288  |          0.0           |   1   |\n",
       " |  12158  |          0.0           |   1   |\n",
       " |   5783  |          0.0           |   2   |\n",
       " |   2847  |   4.595725603996765    |   2   |\n",
       " |   9234  |          0.0           |   1   |\n",
       " |   3913  |          0.0           |   1   |\n",
       " |   537   |  8.10450246612588e-05  |   1   |\n",
       " |   526   | 4.6585541911847104e-05 |   1   |\n",
       " |  17325  |          0.0           |   1   |\n",
       " |  15982  |          0.0           |   1   |\n",
       " +---------+------------------------+-------+\n",
       " [2352 rows x 3 columns]\n",
       " Note: Only the head of the SFrame is printed.\n",
       " You can use print_rows(num_rows=m, num_columns=n) to print more rows and columns.,\n",
       " 'rmse_overall': 4.530671627038898}"
      ]
     },
     "execution_count": 7,
     "metadata": {},
     "output_type": "execute_result"
    }
   ],
   "source": [
    "recommendation_models(actions,tc.item_similarity_recommender.create)\n"
   ]
  },
  {
   "cell_type": "code",
   "execution_count": 8,
   "metadata": {},
   "outputs": [
    {
     "data": {
      "text/html": [
       "<pre>Warning: Ignoring columns X1;</pre>"
      ],
      "text/plain": [
       "Warning: Ignoring columns X1;"
      ]
     },
     "metadata": {},
     "output_type": "display_data"
    },
    {
     "data": {
      "text/html": [
       "<pre>    To use these columns in scoring predictions, use a model that allows the use of additional features.</pre>"
      ],
      "text/plain": [
       "    To use these columns in scoring predictions, use a model that allows the use of additional features."
      ]
     },
     "metadata": {},
     "output_type": "display_data"
    },
    {
     "data": {
      "text/html": [
       "<pre>Preparing data set.</pre>"
      ],
      "text/plain": [
       "Preparing data set."
      ]
     },
     "metadata": {},
     "output_type": "display_data"
    },
    {
     "data": {
      "text/html": [
       "<pre>    Data has 12350437 observations with 403750 users and 21702 items.</pre>"
      ],
      "text/plain": [
       "    Data has 12350437 observations with 403750 users and 21702 items."
      ]
     },
     "metadata": {},
     "output_type": "display_data"
    },
    {
     "data": {
      "text/html": [
       "<pre>    Data prepared in: 9.48178s</pre>"
      ],
      "text/plain": [
       "    Data prepared in: 9.48178s"
      ]
     },
     "metadata": {},
     "output_type": "display_data"
    },
    {
     "data": {
      "text/html": [
       "<pre>12350437 observations to process; with 21702 unique items.</pre>"
      ],
      "text/plain": [
       "12350437 observations to process; with 21702 unique items."
      ]
     },
     "metadata": {},
     "output_type": "display_data"
    },
    {
     "name": "stdout",
     "output_type": "stream",
     "text": [
      "\n",
      "Precision and recall summary statistics by cutoff\n",
      "+--------+-----------------------+------------------------+\n",
      "| cutoff |     mean_precision    |      mean_recall       |\n",
      "+--------+-----------------------+------------------------+\n",
      "|   1    |          0.0          |          0.0           |\n",
      "|   2    | 0.0020297699594046025 | 0.00011673036030275546 |\n",
      "|   3    | 0.0018042399639151996 | 0.0001246436934778221  |\n",
      "|   4    | 0.0016914749661705007 | 0.00017668907705229906 |\n",
      "|   5    | 0.0016238159675236806 | 0.00021769453077764449 |\n",
      "|   6    | 0.0013531799729364009 | 0.0002176945307776445  |\n",
      "|   7    | 0.0011598685482312008 | 0.0002176945307776445  |\n",
      "|   8    | 0.0015223274695534506 | 0.0003243146259043056  |\n",
      "|   9    | 0.0034581265975041357 |  0.004269837040641878  |\n",
      "|   10   |  0.003112313937753722 |  0.004269837040641878  |\n",
      "+--------+-----------------------+------------------------+\n",
      "[10 rows x 3 columns]\n",
      "\n",
      "\n",
      "Overall RMSE: 3.391750085211376\n",
      "\n",
      "Per User RMSE (best)\n",
      "+----------+---------------------+-------+\n",
      "| user_id  |         rmse        | count |\n",
      "+----------+---------------------+-------+\n",
      "| sirazure | 0.31537780499427814 |   1   |\n",
      "+----------+---------------------+-------+\n",
      "[1 rows x 3 columns]\n",
      "\n",
      "\n",
      "Per User RMSE (worst)\n",
      "+--------------+-------------------+-------+\n",
      "|   user_id    |        rmse       | count |\n",
      "+--------------+-------------------+-------+\n",
      "| scottamemnon | 8.869408973690447 |   1   |\n",
      "+--------------+-------------------+-------+\n",
      "[1 rows x 3 columns]\n",
      "\n",
      "\n",
      "Per Item RMSE (best)\n",
      "+---------+------+-------+\n",
      "| game_id | rmse | count |\n",
      "+---------+------+-------+\n",
      "|  12971  | 0.0  |   1   |\n",
      "+---------+------+-------+\n",
      "[1 rows x 3 columns]\n",
      "\n",
      "\n",
      "Per Item RMSE (worst)\n",
      "+---------+-------------------+-------+\n",
      "| game_id |        rmse       | count |\n",
      "+---------+-------------------+-------+\n",
      "|   1820  | 8.885706018518519 |   1   |\n",
      "+---------+-------------------+-------+\n",
      "[1 rows x 3 columns]\n",
      "\n"
     ]
    },
    {
     "data": {
      "text/plain": [
       "{'precision_recall_by_user': Columns:\n",
       " \tuser_id\tstr\n",
       " \tcutoff\tint\n",
       " \tprecision\tfloat\n",
       " \trecall\tfloat\n",
       " \tcount\tint\n",
       " \n",
       " Rows: 13302\n",
       " \n",
       " Data:\n",
       " +------------+--------+-----------+--------+-------+\n",
       " |  user_id   | cutoff | precision | recall | count |\n",
       " +------------+--------+-----------+--------+-------+\n",
       " | Majomaja92 |   1    |    0.0    |  0.0   |   3   |\n",
       " | Majomaja92 |   2    |    0.0    |  0.0   |   3   |\n",
       " | Majomaja92 |   3    |    0.0    |  0.0   |   3   |\n",
       " | Majomaja92 |   4    |    0.0    |  0.0   |   3   |\n",
       " | Majomaja92 |   5    |    0.0    |  0.0   |   3   |\n",
       " | Majomaja92 |   6    |    0.0    |  0.0   |   3   |\n",
       " | Majomaja92 |   7    |    0.0    |  0.0   |   3   |\n",
       " | Majomaja92 |   8    |    0.0    |  0.0   |   3   |\n",
       " | Majomaja92 |   9    |    0.0    |  0.0   |   3   |\n",
       " | Majomaja92 |   10   |    0.0    |  0.0   |   3   |\n",
       " +------------+--------+-----------+--------+-------+\n",
       " [13302 rows x 5 columns]\n",
       " Note: Only the head of the SFrame is printed.\n",
       " You can use print_rows(num_rows=m, num_columns=n) to print more rows and columns.,\n",
       " 'precision_recall_overall': Columns:\n",
       " \tcutoff\tint\n",
       " \tprecision\tfloat\n",
       " \trecall\tfloat\n",
       " \n",
       " Rows: 18\n",
       " \n",
       " Data:\n",
       " +--------+-----------------------+------------------------+\n",
       " | cutoff |       precision       |         recall         |\n",
       " +--------+-----------------------+------------------------+\n",
       " |   1    |          0.0          |          0.0           |\n",
       " |   2    | 0.0020297699594046007 | 0.00011673036030275535 |\n",
       " |   3    | 0.0018042399639152007 | 0.00012464369347782206 |\n",
       " |   4    | 0.0016914749661705007 | 0.00017668907705229909 |\n",
       " |   5    | 0.0016238159675236806 | 0.00021769453077764449 |\n",
       " |   6    | 0.0013531799729364004 | 0.0002176945307776445  |\n",
       " |   7    | 0.0011598685482312008 | 0.00021769453077764457 |\n",
       " |   8    |  0.00152232746955345  | 0.0003243146259043055  |\n",
       " |   9    | 0.0034581265975041344 |  0.004269837040641877  |\n",
       " |   10   |  0.003112313937753724 |  0.004269837040641874  |\n",
       " +--------+-----------------------+------------------------+\n",
       " [18 rows x 3 columns]\n",
       " Note: Only the head of the SFrame is printed.\n",
       " You can use print_rows(num_rows=m, num_columns=n) to print more rows and columns.,\n",
       " 'rmse_by_user': Columns:\n",
       " \tuser_id\tstr\n",
       " \trmse\tfloat\n",
       " \tcount\tint\n",
       " \n",
       " Rows: 739\n",
       " \n",
       " Data:\n",
       " +-----------------+--------------------+-------+\n",
       " |     user_id     |        rmse        | count |\n",
       " +-----------------+--------------------+-------+\n",
       " |    heronymus    |  2.24266742952815  |   25  |\n",
       " |      stlamb     | 3.6400498257083576 |   11  |\n",
       " | ecoboardgeek123 | 2.368221998766549  |  183  |\n",
       " |     Mikorax     | 3.209934472293152  |   1   |\n",
       " |   TornadoLover  | 2.6137104725630516 |   2   |\n",
       " |    cargowire    | 3.6900698908251277 |   6   |\n",
       " |     eRxGeek     | 3.0916616555623198 |   2   |\n",
       " |     rjplouis    | 3.575373838187296  |   8   |\n",
       " |     dking232    |  5.06350662415954  |   9   |\n",
       " |   fathermocker  | 5.454070073829236  |   1   |\n",
       " +-----------------+--------------------+-------+\n",
       " [739 rows x 3 columns]\n",
       " Note: Only the head of the SFrame is printed.\n",
       " You can use print_rows(num_rows=m, num_columns=n) to print more rows and columns.,\n",
       " 'rmse_by_item': Columns:\n",
       " \tgame_id\tint\n",
       " \trmse\tfloat\n",
       " \tcount\tint\n",
       " \n",
       " Rows: 2352\n",
       " \n",
       " Data:\n",
       " +---------+--------------------+-------+\n",
       " | game_id |        rmse        | count |\n",
       " +---------+--------------------+-------+\n",
       " |   5288  | 1.5094183601532565 |   1   |\n",
       " |  12158  | 2.2771793149764945 |   1   |\n",
       " |   5783  | 2.6964876129032254 |   2   |\n",
       " |   2847  | 3.702741867593911  |   2   |\n",
       " |   9234  | 1.2619047619047619 |   1   |\n",
       " |   3913  | 1.1772256728778467 |   1   |\n",
       " |   537   | 1.3744274809160306 |   1   |\n",
       " |   526   | 2.506021897810219  |   1   |\n",
       " |  17325  | 0.9970833333333332 |   1   |\n",
       " |  15982  |        1.0         |   1   |\n",
       " +---------+--------------------+-------+\n",
       " [2352 rows x 3 columns]\n",
       " Note: Only the head of the SFrame is printed.\n",
       " You can use print_rows(num_rows=m, num_columns=n) to print more rows and columns.,\n",
       " 'rmse_overall': 3.391750085211376}"
      ]
     },
     "execution_count": 8,
     "metadata": {},
     "output_type": "execute_result"
    }
   ],
   "source": [
    "recommendation_models(actions,tc.popularity_recommender.create)"
   ]
  },
  {
   "cell_type": "code",
   "execution_count": null,
   "metadata": {},
   "outputs": [],
   "source": []
  },
  {
   "cell_type": "markdown",
   "metadata": {},
   "source": [
    "## Use factorization model to use side information when recommending items to new users (info. )\n",
    "\n",
    "TODO:extract game info. add to factorization model as item info. to see if it improves the model performance\n"
   ]
  },
  {
   "cell_type": "code",
   "execution_count": 9,
   "metadata": {},
   "outputs": [
    {
     "data": {
      "text/html": [
       "<pre>Finished parsing file /Users/shujdong/w210_game_recommendation/game_info_full.csv</pre>"
      ],
      "text/plain": [
       "Finished parsing file /Users/shujdong/w210_game_recommendation/game_info_full.csv"
      ]
     },
     "metadata": {},
     "output_type": "display_data"
    },
    {
     "data": {
      "text/html": [
       "<pre>Parsing completed. Parsed 100 lines in 0.757016 secs.</pre>"
      ],
      "text/plain": [
       "Parsing completed. Parsed 100 lines in 0.757016 secs."
      ]
     },
     "metadata": {},
     "output_type": "display_data"
    },
    {
     "name": "stdout",
     "output_type": "stream",
     "text": [
      "------------------------------------------------------\n",
      "Inferred types from first 100 line(s) of file as \n",
      "column_type_hints=[int,int,str,int,list,str,list,list]\n",
      "If parsing fails due to incorrect types, you can correct\n",
      "the inferred type list above and pass it to read_csv in\n",
      "the column_type_hints argument\n",
      "------------------------------------------------------\n"
     ]
    },
    {
     "data": {
      "text/html": [
       "<pre>Finished parsing file /Users/shujdong/w210_game_recommendation/game_info_full.csv</pre>"
      ],
      "text/plain": [
       "Finished parsing file /Users/shujdong/w210_game_recommendation/game_info_full.csv"
      ]
     },
     "metadata": {},
     "output_type": "display_data"
    },
    {
     "data": {
      "text/html": [
       "<pre>Parsing completed. Parsed 108571 lines in 0.647931 secs.</pre>"
      ],
      "text/plain": [
       "Parsing completed. Parsed 108571 lines in 0.647931 secs."
      ]
     },
     "metadata": {},
     "output_type": "display_data"
    }
   ],
   "source": [
    "items = tc.SFrame.read_csv('game_info_full.csv')\n"
   ]
  },
  {
   "cell_type": "code",
   "execution_count": 10,
   "metadata": {},
   "outputs": [],
   "source": [
    "items_final=items.dropna()"
   ]
  },
  {
   "cell_type": "code",
   "execution_count": 11,
   "metadata": {},
   "outputs": [
    {
     "data": {
      "text/html": [
       "<div style=\"max-height:1000px;max-width:1500px;overflow:auto;\"><table frame=\"box\" rules=\"cols\">\n",
       "    <tr>\n",
       "        <th style=\"padding-left: 1em; padding-right: 1em; text-align: center\">X1</th>\n",
       "        <th style=\"padding-left: 1em; padding-right: 1em; text-align: center\">game_id</th>\n",
       "        <th style=\"padding-left: 1em; padding-right: 1em; text-align: center\">game_title</th>\n",
       "        <th style=\"padding-left: 1em; padding-right: 1em; text-align: center\">release_year</th>\n",
       "        <th style=\"padding-left: 1em; padding-right: 1em; text-align: center\">persons_duration_age_rati<br>ng ...</th>\n",
       "        <th style=\"padding-left: 1em; padding-right: 1em; text-align: center\">publisher</th>\n",
       "    </tr>\n",
       "    <tr>\n",
       "        <td style=\"padding-left: 1em; padding-right: 1em; text-align: center; vertical-align: top\">0</td>\n",
       "        <td style=\"padding-left: 1em; padding-right: 1em; text-align: center; vertical-align: top\">1</td>\n",
       "        <td style=\"padding-left: 1em; padding-right: 1em; text-align: center; vertical-align: top\">Die Macher</td>\n",
       "        <td style=\"padding-left: 1em; padding-right: 1em; text-align: center; vertical-align: top\">1986</td>\n",
       "        <td style=\"padding-left: 1em; padding-right: 1em; text-align: center; vertical-align: top\">[3–5, 240, 14+, 4.34]</td>\n",
       "        <td style=\"padding-left: 1em; padding-right: 1em; text-align: center; vertical-align: top\">[[&#x27;Karl-Heinz Schmiel&#x27;],<br>[&#x27;Marcus Gschwendtner&#x27;, ...</td>\n",
       "    </tr>\n",
       "    <tr>\n",
       "        <td style=\"padding-left: 1em; padding-right: 1em; text-align: center; vertical-align: top\">1</td>\n",
       "        <td style=\"padding-left: 1em; padding-right: 1em; text-align: center; vertical-align: top\">2</td>\n",
       "        <td style=\"padding-left: 1em; padding-right: 1em; text-align: center; vertical-align: top\">Dragonmaster</td>\n",
       "        <td style=\"padding-left: 1em; padding-right: 1em; text-align: center; vertical-align: top\">1981</td>\n",
       "        <td style=\"padding-left: 1em; padding-right: 1em; text-align: center; vertical-align: top\">[3–4, 30, 12+, 1.96]</td>\n",
       "        <td style=\"padding-left: 1em; padding-right: 1em; text-align: center; vertical-align: top\">[[&#x27;G. W. &quot;Jerry&quot;<br>D&#x27;Arcey&#x27;], [&#x27;Bob ...</td>\n",
       "    </tr>\n",
       "    <tr>\n",
       "        <td style=\"padding-left: 1em; padding-right: 1em; text-align: center; vertical-align: top\">2</td>\n",
       "        <td style=\"padding-left: 1em; padding-right: 1em; text-align: center; vertical-align: top\">3</td>\n",
       "        <td style=\"padding-left: 1em; padding-right: 1em; text-align: center; vertical-align: top\">Samurai</td>\n",
       "        <td style=\"padding-left: 1em; padding-right: 1em; text-align: center; vertical-align: top\">1998</td>\n",
       "        <td style=\"padding-left: 1em; padding-right: 1em; text-align: center; vertical-align: top\">[2–4, 30–60, 10+, 2.50]</td>\n",
       "        <td style=\"padding-left: 1em; padding-right: 1em; text-align: center; vertical-align: top\">[[&#x27;Reiner Knizia&#x27;],<br>[&#x27;Franz Vohwinkel&#x27;], ...</td>\n",
       "    </tr>\n",
       "    <tr>\n",
       "        <td style=\"padding-left: 1em; padding-right: 1em; text-align: center; vertical-align: top\">3</td>\n",
       "        <td style=\"padding-left: 1em; padding-right: 1em; text-align: center; vertical-align: top\">4</td>\n",
       "        <td style=\"padding-left: 1em; padding-right: 1em; text-align: center; vertical-align: top\">Tal der Könige</td>\n",
       "        <td style=\"padding-left: 1em; padding-right: 1em; text-align: center; vertical-align: top\">1992</td>\n",
       "        <td style=\"padding-left: 1em; padding-right: 1em; text-align: center; vertical-align: top\">[2–4, 60, 12+, 2.67]</td>\n",
       "        <td style=\"padding-left: 1em; padding-right: 1em; text-align: center; vertical-align: top\">[[&#x27;Christian Beierer&#x27;],<br>[&#x27;Thomas di Paolo&#x27;], ...</td>\n",
       "    </tr>\n",
       "    <tr>\n",
       "        <td style=\"padding-left: 1em; padding-right: 1em; text-align: center; vertical-align: top\">4</td>\n",
       "        <td style=\"padding-left: 1em; padding-right: 1em; text-align: center; vertical-align: top\">5</td>\n",
       "        <td style=\"padding-left: 1em; padding-right: 1em; text-align: center; vertical-align: top\">Acquire</td>\n",
       "        <td style=\"padding-left: 1em; padding-right: 1em; text-align: center; vertical-align: top\">1964</td>\n",
       "        <td style=\"padding-left: 1em; padding-right: 1em; text-align: center; vertical-align: top\">[2–6, 90, 12+, 2.51]</td>\n",
       "        <td style=\"padding-left: 1em; padding-right: 1em; text-align: center; vertical-align: top\">[[&#x27;Sid Sackson&#x27;], [&#x27;Scott<br>Okumura&#x27;, &#x27;Peter ...</td>\n",
       "    </tr>\n",
       "    <tr>\n",
       "        <td style=\"padding-left: 1em; padding-right: 1em; text-align: center; vertical-align: top\">5</td>\n",
       "        <td style=\"padding-left: 1em; padding-right: 1em; text-align: center; vertical-align: top\">6</td>\n",
       "        <td style=\"padding-left: 1em; padding-right: 1em; text-align: center; vertical-align: top\">Mare Mediterraneum</td>\n",
       "        <td style=\"padding-left: 1em; padding-right: 1em; text-align: center; vertical-align: top\">1989</td>\n",
       "        <td style=\"padding-left: 1em; padding-right: 1em; text-align: center; vertical-align: top\">[2–6, 240, 12+, 3.00]</td>\n",
       "        <td style=\"padding-left: 1em; padding-right: 1em; text-align: center; vertical-align: top\">[[&#x27;Jean du Poël&#x27;], [&#x27;Jean<br>du Poël&#x27;], [&#x27;Historien ...</td>\n",
       "    </tr>\n",
       "    <tr>\n",
       "        <td style=\"padding-left: 1em; padding-right: 1em; text-align: center; vertical-align: top\">6</td>\n",
       "        <td style=\"padding-left: 1em; padding-right: 1em; text-align: center; vertical-align: top\">7</td>\n",
       "        <td style=\"padding-left: 1em; padding-right: 1em; text-align: center; vertical-align: top\">Cathedral</td>\n",
       "        <td style=\"padding-left: 1em; padding-right: 1em; text-align: center; vertical-align: top\">1978</td>\n",
       "        <td style=\"padding-left: 1em; padding-right: 1em; text-align: center; vertical-align: top\">[2, 20, 8+, 1.81]</td>\n",
       "        <td style=\"padding-left: 1em; padding-right: 1em; text-align: center; vertical-align: top\">[[&#x27; \\t\\t\\t\\t\\tCastle<br>City,  &#x27;, &#x27; ...</td>\n",
       "    </tr>\n",
       "    <tr>\n",
       "        <td style=\"padding-left: 1em; padding-right: 1em; text-align: center; vertical-align: top\">7</td>\n",
       "        <td style=\"padding-left: 1em; padding-right: 1em; text-align: center; vertical-align: top\">8</td>\n",
       "        <td style=\"padding-left: 1em; padding-right: 1em; text-align: center; vertical-align: top\">Lords of Creation</td>\n",
       "        <td style=\"padding-left: 1em; padding-right: 1em; text-align: center; vertical-align: top\">1993</td>\n",
       "        <td style=\"padding-left: 1em; padding-right: 1em; text-align: center; vertical-align: top\">[2–5, 120, 12+, 2.40]</td>\n",
       "        <td style=\"padding-left: 1em; padding-right: 1em; text-align: center; vertical-align: top\">[[&#x27;Martin Wallace&#x27;],<br>[&#x27;Bryan King&#x27;], ...</td>\n",
       "    </tr>\n",
       "    <tr>\n",
       "        <td style=\"padding-left: 1em; padding-right: 1em; text-align: center; vertical-align: top\">8</td>\n",
       "        <td style=\"padding-left: 1em; padding-right: 1em; text-align: center; vertical-align: top\">9</td>\n",
       "        <td style=\"padding-left: 1em; padding-right: 1em; text-align: center; vertical-align: top\">El Caballero</td>\n",
       "        <td style=\"padding-left: 1em; padding-right: 1em; text-align: center; vertical-align: top\">1998</td>\n",
       "        <td style=\"padding-left: 1em; padding-right: 1em; text-align: center; vertical-align: top\">[2–4, 90, 13+, 3.19]</td>\n",
       "        <td style=\"padding-left: 1em; padding-right: 1em; text-align: center; vertical-align: top\">[[&#x27;Wolfgang Kramer&#x27;,<br>&#x27;Richard Ulrich&#x27;], ...</td>\n",
       "    </tr>\n",
       "    <tr>\n",
       "        <td style=\"padding-left: 1em; padding-right: 1em; text-align: center; vertical-align: top\">9</td>\n",
       "        <td style=\"padding-left: 1em; padding-right: 1em; text-align: center; vertical-align: top\">10</td>\n",
       "        <td style=\"padding-left: 1em; padding-right: 1em; text-align: center; vertical-align: top\">Elfenland</td>\n",
       "        <td style=\"padding-left: 1em; padding-right: 1em; text-align: center; vertical-align: top\">1998</td>\n",
       "        <td style=\"padding-left: 1em; padding-right: 1em; text-align: center; vertical-align: top\">[2–6, 60, 10+, 2.16]</td>\n",
       "        <td style=\"padding-left: 1em; padding-right: 1em; text-align: center; vertical-align: top\">[[&#x27;Alan R. Moon&#x27;],<br>[&#x27;Doris Matthäus&#x27;], ...</td>\n",
       "    </tr>\n",
       "</table>\n",
       "<table frame=\"box\" rules=\"cols\">\n",
       "    <tr>\n",
       "        <th style=\"padding-left: 1em; padding-right: 1em; text-align: center\">genre</th>\n",
       "        <th style=\"padding-left: 1em; padding-right: 1em; text-align: center\">label</th>\n",
       "    </tr>\n",
       "    <tr>\n",
       "        <td style=\"padding-left: 1em; padding-right: 1em; text-align: center; vertical-align: top\">[Strategy]</td>\n",
       "        <td style=\"padding-left: 1em; padding-right: 1em; text-align: center; vertical-align: top\">[Economic, Negotiation,<br>Political] ...</td>\n",
       "    </tr>\n",
       "    <tr>\n",
       "        <td style=\"padding-left: 1em; padding-right: 1em; text-align: center; vertical-align: top\">[Strategy]</td>\n",
       "        <td style=\"padding-left: 1em; padding-right: 1em; text-align: center; vertical-align: top\">[Card Game, Fantasy]</td>\n",
       "    </tr>\n",
       "    <tr>\n",
       "        <td style=\"padding-left: 1em; padding-right: 1em; text-align: center; vertical-align: top\">[Strategy]</td>\n",
       "        <td style=\"padding-left: 1em; padding-right: 1em; text-align: center; vertical-align: top\">[Abstract Strategy,<br>Medieval] ...</td>\n",
       "    </tr>\n",
       "    <tr>\n",
       "        <td style=\"padding-left: 1em; padding-right: 1em; text-align: center; vertical-align: top\">[None]</td>\n",
       "        <td style=\"padding-left: 1em; padding-right: 1em; text-align: center; vertical-align: top\">[Ancient]</td>\n",
       "    </tr>\n",
       "    <tr>\n",
       "        <td style=\"padding-left: 1em; padding-right: 1em; text-align: center; vertical-align: top\">[Strategy]</td>\n",
       "        <td style=\"padding-left: 1em; padding-right: 1em; text-align: center; vertical-align: top\">[Economic]</td>\n",
       "    </tr>\n",
       "    <tr>\n",
       "        <td style=\"padding-left: 1em; padding-right: 1em; text-align: center; vertical-align: top\">[None]</td>\n",
       "        <td style=\"padding-left: 1em; padding-right: 1em; text-align: center; vertical-align: top\">[Civilization, Nautical]</td>\n",
       "    </tr>\n",
       "    <tr>\n",
       "        <td style=\"padding-left: 1em; padding-right: 1em; text-align: center; vertical-align: top\">[Abstract]</td>\n",
       "        <td style=\"padding-left: 1em; padding-right: 1em; text-align: center; vertical-align: top\">[Abstract Strategy]</td>\n",
       "    </tr>\n",
       "    <tr>\n",
       "        <td style=\"padding-left: 1em; padding-right: 1em; text-align: center; vertical-align: top\">[None]</td>\n",
       "        <td style=\"padding-left: 1em; padding-right: 1em; text-align: center; vertical-align: top\">[Civilization, Fantasy]</td>\n",
       "    </tr>\n",
       "    <tr>\n",
       "        <td style=\"padding-left: 1em; padding-right: 1em; text-align: center; vertical-align: top\">[Strategy]</td>\n",
       "        <td style=\"padding-left: 1em; padding-right: 1em; text-align: center; vertical-align: top\">[Exploration]</td>\n",
       "    </tr>\n",
       "    <tr>\n",
       "        <td style=\"padding-left: 1em; padding-right: 1em; text-align: center; vertical-align: top\">[Family]</td>\n",
       "        <td style=\"padding-left: 1em; padding-right: 1em; text-align: center; vertical-align: top\">[Fantasy, Travel]</td>\n",
       "    </tr>\n",
       "</table>\n",
       "[10 rows x 8 columns]<br/>\n",
       "</div>"
      ],
      "text/plain": [
       "Columns:\n",
       "\tX1\tint\n",
       "\tgame_id\tint\n",
       "\tgame_title\tstr\n",
       "\trelease_year\tint\n",
       "\tpersons_duration_age_rating\tlist\n",
       "\tpublisher\tstr\n",
       "\tgenre\tlist\n",
       "\tlabel\tlist\n",
       "\n",
       "Rows: 10\n",
       "\n",
       "Data:\n",
       "+----+---------+--------------------+--------------+\n",
       "| X1 | game_id |     game_title     | release_year |\n",
       "+----+---------+--------------------+--------------+\n",
       "| 0  |    1    |     Die Macher     |     1986     |\n",
       "| 1  |    2    |    Dragonmaster    |     1981     |\n",
       "| 2  |    3    |      Samurai       |     1998     |\n",
       "| 3  |    4    |   Tal der Könige   |     1992     |\n",
       "| 4  |    5    |      Acquire       |     1964     |\n",
       "| 5  |    6    | Mare Mediterraneum |     1989     |\n",
       "| 6  |    7    |     Cathedral      |     1978     |\n",
       "| 7  |    8    | Lords of Creation  |     1993     |\n",
       "| 8  |    9    |    El Caballero    |     1998     |\n",
       "| 9  |    10   |     Elfenland      |     1998     |\n",
       "+----+---------+--------------------+--------------+\n",
       "+-----------------------------+-------------------------------+------------+\n",
       "| persons_duration_age_rating |           publisher           |   genre    |\n",
       "+-----------------------------+-------------------------------+------------+\n",
       "|    [3–5, 240, 14+, 4.34]    | [['Karl-Heinz Schmiel'], [... | [Strategy] |\n",
       "|     [3–4, 30, 12+, 1.96]    | [['G. W. \"Jerry\" D'Arcey']... | [Strategy] |\n",
       "|   [2–4, 30–60, 10+, 2.50]   | [['Reiner Knizia'], ['Fran... | [Strategy] |\n",
       "|     [2–4, 60, 12+, 2.67]    | [['Christian Beierer'], ['... |   [None]   |\n",
       "|     [2–6, 90, 12+, 2.51]    | [['Sid Sackson'], ['Scott ... | [Strategy] |\n",
       "|    [2–6, 240, 12+, 3.00]    | [['Jean du Poël'], ['Jean ... |   [None]   |\n",
       "|      [2, 20, 8+, 1.81]      | [[' \\t\\t\\t\\t\\tCastle City,... | [Abstract] |\n",
       "|    [2–5, 120, 12+, 2.40]    | [['Martin Wallace'], ['Bry... |   [None]   |\n",
       "|     [2–4, 90, 13+, 3.19]    | [['Wolfgang Kramer', 'Rich... | [Strategy] |\n",
       "|     [2–6, 60, 10+, 2.16]    | [['Alan R. Moon'], ['Doris... |  [Family]  |\n",
       "+-----------------------------+-------------------------------+------------+\n",
       "+-------------------------------+\n",
       "|             label             |\n",
       "+-------------------------------+\n",
       "| [Economic, Negotiation, Po... |\n",
       "|      [Card Game, Fantasy]     |\n",
       "| [Abstract Strategy, Medieval] |\n",
       "|           [Ancient]           |\n",
       "|           [Economic]          |\n",
       "|    [Civilization, Nautical]   |\n",
       "|      [Abstract Strategy]      |\n",
       "|    [Civilization, Fantasy]    |\n",
       "|         [Exploration]         |\n",
       "|       [Fantasy, Travel]       |\n",
       "+-------------------------------+\n",
       "[10 rows x 8 columns]"
      ]
     },
     "execution_count": 11,
     "metadata": {},
     "output_type": "execute_result"
    }
   ],
   "source": [
    "items_final.head()"
   ]
  },
  {
   "cell_type": "code",
   "execution_count": 12,
   "metadata": {},
   "outputs": [],
   "source": [
    "items_final.head()\n",
    "items_final=items_final[['game_id','genre','label']]"
   ]
  },
  {
   "cell_type": "code",
   "execution_count": 13,
   "metadata": {},
   "outputs": [],
   "source": [
    "def recommendation_models_game_info(action_data,game_info, model):\n",
    "\n",
    "    training_data, validation_data = tc.recommender.util.random_split_by_user(action_data, 'user_id', 'game_id')\n",
    "    ml = model(training_data, 'user_id', 'game_id',target='rating',item_data=game_info,side_data_factorization=True)\n",
    "    evaluation = ml.evaluate(validation_data)\n",
    "    #precision_recall =ml.evaluate_precision_recall(validation_data)\n",
    "    return evaluation"
   ]
  },
  {
   "cell_type": "code",
   "execution_count": 14,
   "metadata": {},
   "outputs": [
    {
     "data": {
      "text/html": [
       "<pre>Preparing data set.</pre>"
      ],
      "text/plain": [
       "Preparing data set."
      ]
     },
     "metadata": {},
     "output_type": "display_data"
    },
    {
     "data": {
      "text/html": [
       "<pre>    Data has 12350437 observations with 403750 users and 102371 items.</pre>"
      ],
      "text/plain": [
       "    Data has 12350437 observations with 403750 users and 102371 items."
      ]
     },
     "metadata": {},
     "output_type": "display_data"
    },
    {
     "data": {
      "text/html": [
       "<pre>    Data prepared in: 11.208s</pre>"
      ],
      "text/plain": [
       "    Data prepared in: 11.208s"
      ]
     },
     "metadata": {},
     "output_type": "display_data"
    },
    {
     "data": {
      "text/html": [
       "<pre>Training factorization_recommender for recommendations.</pre>"
      ],
      "text/plain": [
       "Training factorization_recommender for recommendations."
      ]
     },
     "metadata": {},
     "output_type": "display_data"
    },
    {
     "data": {
      "text/html": [
       "<pre>+--------------------------------+--------------------------------------------------+----------+</pre>"
      ],
      "text/plain": [
       "+--------------------------------+--------------------------------------------------+----------+"
      ]
     },
     "metadata": {},
     "output_type": "display_data"
    },
    {
     "data": {
      "text/html": [
       "<pre>| Parameter                      | Description                                      | Value    |</pre>"
      ],
      "text/plain": [
       "| Parameter                      | Description                                      | Value    |"
      ]
     },
     "metadata": {},
     "output_type": "display_data"
    },
    {
     "data": {
      "text/html": [
       "<pre>+--------------------------------+--------------------------------------------------+----------+</pre>"
      ],
      "text/plain": [
       "+--------------------------------+--------------------------------------------------+----------+"
      ]
     },
     "metadata": {},
     "output_type": "display_data"
    },
    {
     "data": {
      "text/html": [
       "<pre>| num_factors                    | Factor Dimension                                 | 8        |</pre>"
      ],
      "text/plain": [
       "| num_factors                    | Factor Dimension                                 | 8        |"
      ]
     },
     "metadata": {},
     "output_type": "display_data"
    },
    {
     "data": {
      "text/html": [
       "<pre>| regularization                 | L2 Regularization on Factors                     | 1e-08    |</pre>"
      ],
      "text/plain": [
       "| regularization                 | L2 Regularization on Factors                     | 1e-08    |"
      ]
     },
     "metadata": {},
     "output_type": "display_data"
    },
    {
     "data": {
      "text/html": [
       "<pre>| solver                         | Solver used for training                         | adagrad  |</pre>"
      ],
      "text/plain": [
       "| solver                         | Solver used for training                         | adagrad  |"
      ]
     },
     "metadata": {},
     "output_type": "display_data"
    },
    {
     "data": {
      "text/html": [
       "<pre>| linear_regularization          | L2 Regularization on Linear Coefficients         | 1e-10    |</pre>"
      ],
      "text/plain": [
       "| linear_regularization          | L2 Regularization on Linear Coefficients         | 1e-10    |"
      ]
     },
     "metadata": {},
     "output_type": "display_data"
    },
    {
     "data": {
      "text/html": [
       "<pre>| side_data_factorization        | Assign Factors for Side Data                     | True     |</pre>"
      ],
      "text/plain": [
       "| side_data_factorization        | Assign Factors for Side Data                     | True     |"
      ]
     },
     "metadata": {},
     "output_type": "display_data"
    },
    {
     "data": {
      "text/html": [
       "<pre>| max_iterations                 | Maximum Number of Iterations                     | 50       |</pre>"
      ],
      "text/plain": [
       "| max_iterations                 | Maximum Number of Iterations                     | 50       |"
      ]
     },
     "metadata": {},
     "output_type": "display_data"
    },
    {
     "data": {
      "text/html": [
       "<pre>+--------------------------------+--------------------------------------------------+----------+</pre>"
      ],
      "text/plain": [
       "+--------------------------------+--------------------------------------------------+----------+"
      ]
     },
     "metadata": {},
     "output_type": "display_data"
    },
    {
     "data": {
      "text/html": [
       "<pre>  Optimizing model using SGD; tuning step size.</pre>"
      ],
      "text/plain": [
       "  Optimizing model using SGD; tuning step size."
      ]
     },
     "metadata": {},
     "output_type": "display_data"
    },
    {
     "data": {
      "text/html": [
       "<pre>  Using 1543804 / 12350437 points for tuning the step size.</pre>"
      ],
      "text/plain": [
       "  Using 1543804 / 12350437 points for tuning the step size."
      ]
     },
     "metadata": {},
     "output_type": "display_data"
    },
    {
     "data": {
      "text/html": [
       "<pre>+---------+-------------------+------------------------------------------+</pre>"
      ],
      "text/plain": [
       "+---------+-------------------+------------------------------------------+"
      ]
     },
     "metadata": {},
     "output_type": "display_data"
    },
    {
     "data": {
      "text/html": [
       "<pre>| Attempt | Initial Step Size | Estimated Objective Value                |</pre>"
      ],
      "text/plain": [
       "| Attempt | Initial Step Size | Estimated Objective Value                |"
      ]
     },
     "metadata": {},
     "output_type": "display_data"
    },
    {
     "data": {
      "text/html": [
       "<pre>+---------+-------------------+------------------------------------------+</pre>"
      ],
      "text/plain": [
       "+---------+-------------------+------------------------------------------+"
      ]
     },
     "metadata": {},
     "output_type": "display_data"
    },
    {
     "data": {
      "text/html": [
       "<pre>| 0       | 10                | Not Viable                               |</pre>"
      ],
      "text/plain": [
       "| 0       | 10                | Not Viable                               |"
      ]
     },
     "metadata": {},
     "output_type": "display_data"
    },
    {
     "data": {
      "text/html": [
       "<pre>| 1       | 2.5               | 5.14836                                  |</pre>"
      ],
      "text/plain": [
       "| 1       | 2.5               | 5.14836                                  |"
      ]
     },
     "metadata": {},
     "output_type": "display_data"
    },
    {
     "data": {
      "text/html": [
       "<pre>| 2       | 1.25              | 3.68536                                  |</pre>"
      ],
      "text/plain": [
       "| 2       | 1.25              | 3.68536                                  |"
      ]
     },
     "metadata": {},
     "output_type": "display_data"
    },
    {
     "data": {
      "text/html": [
       "<pre>| 3       | 0.625             | 2.76368                                  |</pre>"
      ],
      "text/plain": [
       "| 3       | 0.625             | 2.76368                                  |"
      ]
     },
     "metadata": {},
     "output_type": "display_data"
    },
    {
     "data": {
      "text/html": [
       "<pre>| 4       | 0.3125            | 4.90737                                  |</pre>"
      ],
      "text/plain": [
       "| 4       | 0.3125            | 4.90737                                  |"
      ]
     },
     "metadata": {},
     "output_type": "display_data"
    },
    {
     "data": {
      "text/html": [
       "<pre>| 5       | 0.15625           | 5.46524                                  |</pre>"
      ],
      "text/plain": [
       "| 5       | 0.15625           | 5.46524                                  |"
      ]
     },
     "metadata": {},
     "output_type": "display_data"
    },
    {
     "data": {
      "text/html": [
       "<pre>| 6       | 0.078125          | 5.5677                                   |</pre>"
      ],
      "text/plain": [
       "| 6       | 0.078125          | 5.5677                                   |"
      ]
     },
     "metadata": {},
     "output_type": "display_data"
    },
    {
     "data": {
      "text/html": [
       "<pre>+---------+-------------------+------------------------------------------+</pre>"
      ],
      "text/plain": [
       "+---------+-------------------+------------------------------------------+"
      ]
     },
     "metadata": {},
     "output_type": "display_data"
    },
    {
     "data": {
      "text/html": [
       "<pre>| Final   | 0.625             | 2.76368                                  |</pre>"
      ],
      "text/plain": [
       "| Final   | 0.625             | 2.76368                                  |"
      ]
     },
     "metadata": {},
     "output_type": "display_data"
    },
    {
     "data": {
      "text/html": [
       "<pre>+---------+-------------------+------------------------------------------+</pre>"
      ],
      "text/plain": [
       "+---------+-------------------+------------------------------------------+"
      ]
     },
     "metadata": {},
     "output_type": "display_data"
    },
    {
     "data": {
      "text/html": [
       "<pre>Starting Optimization.</pre>"
      ],
      "text/plain": [
       "Starting Optimization."
      ]
     },
     "metadata": {},
     "output_type": "display_data"
    },
    {
     "data": {
      "text/html": [
       "<pre>+---------+--------------+-------------------+-----------------------+-------------+</pre>"
      ],
      "text/plain": [
       "+---------+--------------+-------------------+-----------------------+-------------+"
      ]
     },
     "metadata": {},
     "output_type": "display_data"
    },
    {
     "data": {
      "text/html": [
       "<pre>| Iter.   | Elapsed Time | Approx. Objective | Approx. Training RMSE | Step Size   |</pre>"
      ],
      "text/plain": [
       "| Iter.   | Elapsed Time | Approx. Objective | Approx. Training RMSE | Step Size   |"
      ]
     },
     "metadata": {},
     "output_type": "display_data"
    },
    {
     "data": {
      "text/html": [
       "<pre>+---------+--------------+-------------------+-----------------------+-------------+</pre>"
      ],
      "text/plain": [
       "+---------+--------------+-------------------+-----------------------+-------------+"
      ]
     },
     "metadata": {},
     "output_type": "display_data"
    },
    {
     "data": {
      "text/html": [
       "<pre>| Initial | 274us        | 11.9176           | 3.45219               |             |</pre>"
      ],
      "text/plain": [
       "| Initial | 274us        | 11.9176           | 3.45219               |             |"
      ]
     },
     "metadata": {},
     "output_type": "display_data"
    },
    {
     "data": {
      "text/html": [
       "<pre>+---------+--------------+-------------------+-----------------------+-------------+</pre>"
      ],
      "text/plain": [
       "+---------+--------------+-------------------+-----------------------+-------------+"
      ]
     },
     "metadata": {},
     "output_type": "display_data"
    },
    {
     "data": {
      "text/html": [
       "<pre>| 1       | 3.63s        | 10.5429           | 3.24388               | 0.625       |</pre>"
      ],
      "text/plain": [
       "| 1       | 3.63s        | 10.5429           | 3.24388               | 0.625       |"
      ]
     },
     "metadata": {},
     "output_type": "display_data"
    },
    {
     "data": {
      "text/html": [
       "<pre>| 2       | 7.13s        | 6.09409           | 2.46535               | 0.625       |</pre>"
      ],
      "text/plain": [
       "| 2       | 7.13s        | 6.09409           | 2.46535               | 0.625       |"
      ]
     },
     "metadata": {},
     "output_type": "display_data"
    },
    {
     "data": {
      "text/html": [
       "<pre>| 3       | 10.52s       | 12.5369           | 3.53892               | 0.625       |</pre>"
      ],
      "text/plain": [
       "| 3       | 10.52s       | 12.5369           | 3.53892               | 0.625       |"
      ]
     },
     "metadata": {},
     "output_type": "display_data"
    },
    {
     "data": {
      "text/html": [
       "<pre>| 4       | 14.76s       | DIVERGED          | DIVERGED              | 0.625       |</pre>"
      ],
      "text/plain": [
       "| 4       | 14.76s       | DIVERGED          | DIVERGED              | 0.625       |"
      ]
     },
     "metadata": {},
     "output_type": "display_data"
    },
    {
     "data": {
      "text/html": [
       "<pre>| RESET   | 15.78s       | 11.9174           | 3.45216               |             |</pre>"
      ],
      "text/plain": [
       "| RESET   | 15.78s       | 11.9174           | 3.45216               |             |"
      ]
     },
     "metadata": {},
     "output_type": "display_data"
    },
    {
     "data": {
      "text/html": [
       "<pre>| 1       | 19.35s       | 8.45216           | 2.9061                | 0.3125      |</pre>"
      ],
      "text/plain": [
       "| 1       | 19.35s       | 8.45216           | 2.9061                | 0.3125      |"
      ]
     },
     "metadata": {},
     "output_type": "display_data"
    },
    {
     "data": {
      "text/html": [
       "<pre>| 2       | 22.80s       | 7.48434           | 2.73478               | 0.3125      |</pre>"
      ],
      "text/plain": [
       "| 2       | 22.80s       | 7.48434           | 2.73478               | 0.3125      |"
      ]
     },
     "metadata": {},
     "output_type": "display_data"
    },
    {
     "data": {
      "text/html": [
       "<pre>| 4       | 29.71s       | 6.2674            | 2.50265               | 0.3125      |</pre>"
      ],
      "text/plain": [
       "| 4       | 29.71s       | 6.2674            | 2.50265               | 0.3125      |"
      ]
     },
     "metadata": {},
     "output_type": "display_data"
    },
    {
     "data": {
      "text/html": [
       "<pre>| 5       | 33.49s       | 6.23702           | 2.49659               | 0.3125      |</pre>"
      ],
      "text/plain": [
       "| 5       | 33.49s       | 6.23702           | 2.49659               | 0.3125      |"
      ]
     },
     "metadata": {},
     "output_type": "display_data"
    },
    {
     "data": {
      "text/html": [
       "<pre>| 6       | 37.17s       | 5.92815           | 2.43393               | 0.3125      |</pre>"
      ],
      "text/plain": [
       "| 6       | 37.17s       | 5.92815           | 2.43393               | 0.3125      |"
      ]
     },
     "metadata": {},
     "output_type": "display_data"
    },
    {
     "data": {
      "text/html": [
       "<pre>| 7       | 40.62s       | 5.76273           | 2.3997                | 0.3125      |</pre>"
      ],
      "text/plain": [
       "| 7       | 40.62s       | 5.76273           | 2.3997                | 0.3125      |"
      ]
     },
     "metadata": {},
     "output_type": "display_data"
    },
    {
     "data": {
      "text/html": [
       "<pre>| 8       | 44.14s       | 5.59189           | 2.36382               | 0.3125      |</pre>"
      ],
      "text/plain": [
       "| 8       | 44.14s       | 5.59189           | 2.36382               | 0.3125      |"
      ]
     },
     "metadata": {},
     "output_type": "display_data"
    },
    {
     "data": {
      "text/html": [
       "<pre>| 9       | 47.48s       | 5.48818           | 2.34178               | 0.3125      |</pre>"
      ],
      "text/plain": [
       "| 9       | 47.48s       | 5.48818           | 2.34178               | 0.3125      |"
      ]
     },
     "metadata": {},
     "output_type": "display_data"
    },
    {
     "data": {
      "text/html": [
       "<pre>| 10      | 50.97s       | 5.43166           | 2.32967               | 0.3125      |</pre>"
      ],
      "text/plain": [
       "| 10      | 50.97s       | 5.43166           | 2.32967               | 0.3125      |"
      ]
     },
     "metadata": {},
     "output_type": "display_data"
    },
    {
     "data": {
      "text/html": [
       "<pre>| 11      | 54.55s       | 5.3565            | 2.31348               | 0.3125      |</pre>"
      ],
      "text/plain": [
       "| 11      | 54.55s       | 5.3565            | 2.31348               | 0.3125      |"
      ]
     },
     "metadata": {},
     "output_type": "display_data"
    },
    {
     "data": {
      "text/html": [
       "<pre>| 12      | 57.98s       | 5.29524           | 2.30019               | 0.3125      |</pre>"
      ],
      "text/plain": [
       "| 12      | 57.98s       | 5.29524           | 2.30019               | 0.3125      |"
      ]
     },
     "metadata": {},
     "output_type": "display_data"
    },
    {
     "data": {
      "text/html": [
       "<pre>| 13      | 1m 1s        | 5.2419            | 2.28856               | 0.3125      |</pre>"
      ],
      "text/plain": [
       "| 13      | 1m 1s        | 5.2419            | 2.28856               | 0.3125      |"
      ]
     },
     "metadata": {},
     "output_type": "display_data"
    },
    {
     "data": {
      "text/html": [
       "<pre>| 14      | 1m 5s        | 5.20227           | 2.27988               | 0.3125      |</pre>"
      ],
      "text/plain": [
       "| 14      | 1m 5s        | 5.20227           | 2.27988               | 0.3125      |"
      ]
     },
     "metadata": {},
     "output_type": "display_data"
    },
    {
     "data": {
      "text/html": [
       "<pre>| 15      | 1m 8s        | 5.17121           | 2.27306               | 0.3125      |</pre>"
      ],
      "text/plain": [
       "| 15      | 1m 8s        | 5.17121           | 2.27306               | 0.3125      |"
      ]
     },
     "metadata": {},
     "output_type": "display_data"
    },
    {
     "data": {
      "text/html": [
       "<pre>| 16      | 1m 12s       | 5.13521           | 2.26512               | 0.3125      |</pre>"
      ],
      "text/plain": [
       "| 16      | 1m 12s       | 5.13521           | 2.26512               | 0.3125      |"
      ]
     },
     "metadata": {},
     "output_type": "display_data"
    },
    {
     "data": {
      "text/html": [
       "<pre>| 17      | 1m 16s       | 5.10758           | 2.25901               | 0.3125      |</pre>"
      ],
      "text/plain": [
       "| 17      | 1m 16s       | 5.10758           | 2.25901               | 0.3125      |"
      ]
     },
     "metadata": {},
     "output_type": "display_data"
    },
    {
     "data": {
      "text/html": [
       "<pre>| 18      | 1m 19s       | 5.08065           | 2.25304               | 0.3125      |</pre>"
      ],
      "text/plain": [
       "| 18      | 1m 19s       | 5.08065           | 2.25304               | 0.3125      |"
      ]
     },
     "metadata": {},
     "output_type": "display_data"
    },
    {
     "data": {
      "text/html": [
       "<pre>| 19      | 1m 23s       | 5.06851           | 2.25034               | 0.3125      |</pre>"
      ],
      "text/plain": [
       "| 19      | 1m 23s       | 5.06851           | 2.25034               | 0.3125      |"
      ]
     },
     "metadata": {},
     "output_type": "display_data"
    },
    {
     "data": {
      "text/html": [
       "<pre>| 20      | 1m 26s       | 5.0452            | 2.24515               | 0.3125      |</pre>"
      ],
      "text/plain": [
       "| 20      | 1m 26s       | 5.0452            | 2.24515               | 0.3125      |"
      ]
     },
     "metadata": {},
     "output_type": "display_data"
    },
    {
     "data": {
      "text/html": [
       "<pre>| 21      | 1m 30s       | 5.03279           | 2.24238               | 0.3125      |</pre>"
      ],
      "text/plain": [
       "| 21      | 1m 30s       | 5.03279           | 2.24238               | 0.3125      |"
      ]
     },
     "metadata": {},
     "output_type": "display_data"
    },
    {
     "data": {
      "text/html": [
       "<pre>| 22      | 1m 33s       | 5.00765           | 2.23677               | 0.3125      |</pre>"
      ],
      "text/plain": [
       "| 22      | 1m 33s       | 5.00765           | 2.23677               | 0.3125      |"
      ]
     },
     "metadata": {},
     "output_type": "display_data"
    },
    {
     "data": {
      "text/html": [
       "<pre>| 23      | 1m 37s       | 4.99503           | 2.23394               | 0.3125      |</pre>"
      ],
      "text/plain": [
       "| 23      | 1m 37s       | 4.99503           | 2.23394               | 0.3125      |"
      ]
     },
     "metadata": {},
     "output_type": "display_data"
    },
    {
     "data": {
      "text/html": [
       "<pre>| 24      | 1m 40s       | 4.98478           | 2.23164               | 0.3125      |</pre>"
      ],
      "text/plain": [
       "| 24      | 1m 40s       | 4.98478           | 2.23164               | 0.3125      |"
      ]
     },
     "metadata": {},
     "output_type": "display_data"
    },
    {
     "data": {
      "text/html": [
       "<pre>| 25      | 1m 44s       | 4.97318           | 2.22904               | 0.3125      |</pre>"
      ],
      "text/plain": [
       "| 25      | 1m 44s       | 4.97318           | 2.22904               | 0.3125      |"
      ]
     },
     "metadata": {},
     "output_type": "display_data"
    },
    {
     "data": {
      "text/html": [
       "<pre>| 26      | 1m 47s       | 4.96045           | 2.22618               | 0.3125      |</pre>"
      ],
      "text/plain": [
       "| 26      | 1m 47s       | 4.96045           | 2.22618               | 0.3125      |"
      ]
     },
     "metadata": {},
     "output_type": "display_data"
    },
    {
     "data": {
      "text/html": [
       "<pre>| 27      | 1m 51s       | 4.94682           | 2.22312               | 0.3125      |</pre>"
      ],
      "text/plain": [
       "| 27      | 1m 51s       | 4.94682           | 2.22312               | 0.3125      |"
      ]
     },
     "metadata": {},
     "output_type": "display_data"
    },
    {
     "data": {
      "text/html": [
       "<pre>| 28      | 1m 54s       | 4.9364            | 2.22077               | 0.3125      |</pre>"
      ],
      "text/plain": [
       "| 28      | 1m 54s       | 4.9364            | 2.22077               | 0.3125      |"
      ]
     },
     "metadata": {},
     "output_type": "display_data"
    },
    {
     "data": {
      "text/html": [
       "<pre>| 29      | 1m 58s       | 4.91925           | 2.2169                | 0.3125      |</pre>"
      ],
      "text/plain": [
       "| 29      | 1m 58s       | 4.91925           | 2.2169                | 0.3125      |"
      ]
     },
     "metadata": {},
     "output_type": "display_data"
    },
    {
     "data": {
      "text/html": [
       "<pre>| 30      | 2m 1s        | 4.91337           | 2.21557               | 0.3125      |</pre>"
      ],
      "text/plain": [
       "| 30      | 2m 1s        | 4.91337           | 2.21557               | 0.3125      |"
      ]
     },
     "metadata": {},
     "output_type": "display_data"
    },
    {
     "data": {
      "text/html": [
       "<pre>| 31      | 2m 5s        | 4.89796           | 2.21209               | 0.3125      |</pre>"
      ],
      "text/plain": [
       "| 31      | 2m 5s        | 4.89796           | 2.21209               | 0.3125      |"
      ]
     },
     "metadata": {},
     "output_type": "display_data"
    },
    {
     "data": {
      "text/html": [
       "<pre>| 32      | 2m 8s        | 4.89137           | 2.2106                | 0.3125      |</pre>"
      ],
      "text/plain": [
       "| 32      | 2m 8s        | 4.89137           | 2.2106                | 0.3125      |"
      ]
     },
     "metadata": {},
     "output_type": "display_data"
    },
    {
     "data": {
      "text/html": [
       "<pre>| 33      | 2m 12s       | 4.87776           | 2.20752               | 0.3125      |</pre>"
      ],
      "text/plain": [
       "| 33      | 2m 12s       | 4.87776           | 2.20752               | 0.3125      |"
      ]
     },
     "metadata": {},
     "output_type": "display_data"
    },
    {
     "data": {
      "text/html": [
       "<pre>| 34      | 2m 15s       | 4.8687            | 2.20546               | 0.3125      |</pre>"
      ],
      "text/plain": [
       "| 34      | 2m 15s       | 4.8687            | 2.20546               | 0.3125      |"
      ]
     },
     "metadata": {},
     "output_type": "display_data"
    },
    {
     "data": {
      "text/html": [
       "<pre>| 35      | 2m 19s       | 4.86135           | 2.20379               | 0.3125      |</pre>"
      ],
      "text/plain": [
       "| 35      | 2m 19s       | 4.86135           | 2.20379               | 0.3125      |"
      ]
     },
     "metadata": {},
     "output_type": "display_data"
    },
    {
     "data": {
      "text/html": [
       "<pre>| 36      | 2m 22s       | 4.84948           | 2.2011                | 0.3125      |</pre>"
      ],
      "text/plain": [
       "| 36      | 2m 22s       | 4.84948           | 2.2011                | 0.3125      |"
      ]
     },
     "metadata": {},
     "output_type": "display_data"
    },
    {
     "data": {
      "text/html": [
       "<pre>| 37      | 2m 26s       | 4.84692           | 2.20051               | 0.3125      |</pre>"
      ],
      "text/plain": [
       "| 37      | 2m 26s       | 4.84692           | 2.20051               | 0.3125      |"
      ]
     },
     "metadata": {},
     "output_type": "display_data"
    },
    {
     "data": {
      "text/html": [
       "<pre>| 38      | 2m 29s       | 4.83666           | 2.19818               | 0.3125      |</pre>"
      ],
      "text/plain": [
       "| 38      | 2m 29s       | 4.83666           | 2.19818               | 0.3125      |"
      ]
     },
     "metadata": {},
     "output_type": "display_data"
    },
    {
     "data": {
      "text/html": [
       "<pre>| 39      | 2m 33s       | 4.83199           | 2.19712               | 0.3125      |</pre>"
      ],
      "text/plain": [
       "| 39      | 2m 33s       | 4.83199           | 2.19712               | 0.3125      |"
      ]
     },
     "metadata": {},
     "output_type": "display_data"
    },
    {
     "data": {
      "text/html": [
       "<pre>| 40      | 2m 36s       | 4.82415           | 2.19533               | 0.3125      |</pre>"
      ],
      "text/plain": [
       "| 40      | 2m 36s       | 4.82415           | 2.19533               | 0.3125      |"
      ]
     },
     "metadata": {},
     "output_type": "display_data"
    },
    {
     "data": {
      "text/html": [
       "<pre>| 41      | 2m 40s       | 4.81513           | 2.19327               | 0.3125      |</pre>"
      ],
      "text/plain": [
       "| 41      | 2m 40s       | 4.81513           | 2.19327               | 0.3125      |"
      ]
     },
     "metadata": {},
     "output_type": "display_data"
    },
    {
     "data": {
      "text/html": [
       "<pre>| 42      | 2m 43s       | 4.80787           | 2.19162               | 0.3125      |</pre>"
      ],
      "text/plain": [
       "| 42      | 2m 43s       | 4.80787           | 2.19162               | 0.3125      |"
      ]
     },
     "metadata": {},
     "output_type": "display_data"
    },
    {
     "data": {
      "text/html": [
       "<pre>| 43      | 2m 47s       | 4.79891           | 2.18957               | 0.3125      |</pre>"
      ],
      "text/plain": [
       "| 43      | 2m 47s       | 4.79891           | 2.18957               | 0.3125      |"
      ]
     },
     "metadata": {},
     "output_type": "display_data"
    },
    {
     "data": {
      "text/html": [
       "<pre>| 44      | 2m 50s       | 4.79361           | 2.18836               | 0.3125      |</pre>"
      ],
      "text/plain": [
       "| 44      | 2m 50s       | 4.79361           | 2.18836               | 0.3125      |"
      ]
     },
     "metadata": {},
     "output_type": "display_data"
    },
    {
     "data": {
      "text/html": [
       "<pre>| 45      | 2m 54s       | 4.78411           | 2.18618               | 0.3125      |</pre>"
      ],
      "text/plain": [
       "| 45      | 2m 54s       | 4.78411           | 2.18618               | 0.3125      |"
      ]
     },
     "metadata": {},
     "output_type": "display_data"
    },
    {
     "data": {
      "text/html": [
       "<pre>| 46      | 2m 57s       | 4.77958           | 2.18515               | 0.3125      |</pre>"
      ],
      "text/plain": [
       "| 46      | 2m 57s       | 4.77958           | 2.18515               | 0.3125      |"
      ]
     },
     "metadata": {},
     "output_type": "display_data"
    },
    {
     "data": {
      "text/html": [
       "<pre>| 47      | 3m 1s        | 4.77262           | 2.18355               | 0.3125      |</pre>"
      ],
      "text/plain": [
       "| 47      | 3m 1s        | 4.77262           | 2.18355               | 0.3125      |"
      ]
     },
     "metadata": {},
     "output_type": "display_data"
    },
    {
     "data": {
      "text/html": [
       "<pre>| 48      | 3m 4s        | 4.76945           | 2.18282               | 0.3125      |</pre>"
      ],
      "text/plain": [
       "| 48      | 3m 4s        | 4.76945           | 2.18282               | 0.3125      |"
      ]
     },
     "metadata": {},
     "output_type": "display_data"
    },
    {
     "data": {
      "text/html": [
       "<pre>| 49      | 3m 7s        | 4.76245           | 2.18122               | 0.3125      |</pre>"
      ],
      "text/plain": [
       "| 49      | 3m 7s        | 4.76245           | 2.18122               | 0.3125      |"
      ]
     },
     "metadata": {},
     "output_type": "display_data"
    },
    {
     "data": {
      "text/html": [
       "<pre>| 50      | 3m 11s       | 4.75628           | 2.1798                | 0.3125      |</pre>"
      ],
      "text/plain": [
       "| 50      | 3m 11s       | 4.75628           | 2.1798                | 0.3125      |"
      ]
     },
     "metadata": {},
     "output_type": "display_data"
    },
    {
     "data": {
      "text/html": [
       "<pre>+---------+--------------+-------------------+-----------------------+-------------+</pre>"
      ],
      "text/plain": [
       "+---------+--------------+-------------------+-----------------------+-------------+"
      ]
     },
     "metadata": {},
     "output_type": "display_data"
    },
    {
     "data": {
      "text/html": [
       "<pre>Optimization Complete: Maximum number of passes through the data reached.</pre>"
      ],
      "text/plain": [
       "Optimization Complete: Maximum number of passes through the data reached."
      ]
     },
     "metadata": {},
     "output_type": "display_data"
    },
    {
     "data": {
      "text/html": [
       "<pre>Computing final objective value and training RMSE.</pre>"
      ],
      "text/plain": [
       "Computing final objective value and training RMSE."
      ]
     },
     "metadata": {},
     "output_type": "display_data"
    },
    {
     "data": {
      "text/html": [
       "<pre>       Final objective value: 4.66592</pre>"
      ],
      "text/plain": [
       "       Final objective value: 4.66592"
      ]
     },
     "metadata": {},
     "output_type": "display_data"
    },
    {
     "data": {
      "text/html": [
       "<pre>       Final training RMSE: 2.15898</pre>"
      ],
      "text/plain": [
       "       Final training RMSE: 2.15898"
      ]
     },
     "metadata": {},
     "output_type": "display_data"
    },
    {
     "name": "stdout",
     "output_type": "stream",
     "text": [
      "\n",
      "Precision and recall summary statistics by cutoff\n",
      "+--------+----------------------+----------------------+\n",
      "| cutoff |    mean_precision    |     mean_recall      |\n",
      "+--------+----------------------+----------------------+\n",
      "|   1    | 0.06495263870094725  | 0.011394976098817053 |\n",
      "|   2    | 0.05345060893098782  | 0.023087568752963483 |\n",
      "|   3    | 0.041497519170049596 |  0.031973078822506   |\n",
      "|   4    | 0.03721244925575102  | 0.03893666615483489  |\n",
      "|   5    | 0.03410013531799725  | 0.04525830175204473  |\n",
      "|   6    | 0.031123139377537218 | 0.05049975883669189  |\n",
      "|   7    | 0.028996713705780004 | 0.05668334305463515  |\n",
      "|   8    | 0.02621786197564276  | 0.05881782336908837  |\n",
      "|   9    | 0.024206886182528916 | 0.06226697726784729  |\n",
      "|   10   | 0.02273342354533151  | 0.06375074897809854  |\n",
      "+--------+----------------------+----------------------+\n",
      "[10 rows x 3 columns]\n",
      "\n",
      "\n",
      "Overall RMSE: 2.626382357603605\n",
      "\n",
      "Per User RMSE (best)\n",
      "+------------+----------------------+-------+\n",
      "|  user_id   |         rmse         | count |\n",
      "+------------+----------------------+-------+\n",
      "| DevicsPrey | 0.010734406181548639 |   1   |\n",
      "+------------+----------------------+-------+\n",
      "[1 rows x 3 columns]\n",
      "\n",
      "\n",
      "Per User RMSE (worst)\n",
      "+----------+--------------------+-------+\n",
      "| user_id  |        rmse        | count |\n",
      "+----------+--------------------+-------+\n",
      "| H0gzilla | 16.205475618231766 |   1   |\n",
      "+----------+--------------------+-------+\n",
      "[1 rows x 3 columns]\n",
      "\n",
      "\n",
      "Per Item RMSE (best)\n",
      "+---------+----------------------+-------+\n",
      "| game_id |         rmse         | count |\n",
      "+---------+----------------------+-------+\n",
      "|  12533  | 0.000201686542041557 |   1   |\n",
      "+---------+----------------------+-------+\n",
      "[1 rows x 3 columns]\n",
      "\n",
      "\n",
      "Per Item RMSE (worst)\n",
      "+---------+-------------------+-------+\n",
      "| game_id |        rmse       | count |\n",
      "+---------+-------------------+-------+\n",
      "|  20673  | 11.53405292248085 |   2   |\n",
      "+---------+-------------------+-------+\n",
      "[1 rows x 3 columns]\n",
      "\n"
     ]
    },
    {
     "data": {
      "text/plain": [
       "{'precision_recall_by_user': Columns:\n",
       " \tuser_id\tstr\n",
       " \tcutoff\tint\n",
       " \tprecision\tfloat\n",
       " \trecall\tfloat\n",
       " \tcount\tint\n",
       " \n",
       " Rows: 13302\n",
       " \n",
       " Data:\n",
       " +------------+--------+-----------+--------+-------+\n",
       " |  user_id   | cutoff | precision | recall | count |\n",
       " +------------+--------+-----------+--------+-------+\n",
       " | Majomaja92 |   1    |    0.0    |  0.0   |   3   |\n",
       " | Majomaja92 |   2    |    0.0    |  0.0   |   3   |\n",
       " | Majomaja92 |   3    |    0.0    |  0.0   |   3   |\n",
       " | Majomaja92 |   4    |    0.0    |  0.0   |   3   |\n",
       " | Majomaja92 |   5    |    0.0    |  0.0   |   3   |\n",
       " | Majomaja92 |   6    |    0.0    |  0.0   |   3   |\n",
       " | Majomaja92 |   7    |    0.0    |  0.0   |   3   |\n",
       " | Majomaja92 |   8    |    0.0    |  0.0   |   3   |\n",
       " | Majomaja92 |   9    |    0.0    |  0.0   |   3   |\n",
       " | Majomaja92 |   10   |    0.0    |  0.0   |   3   |\n",
       " +------------+--------+-----------+--------+-------+\n",
       " [13302 rows x 5 columns]\n",
       " Note: Only the head of the SFrame is printed.\n",
       " You can use print_rows(num_rows=m, num_columns=n) to print more rows and columns.,\n",
       " 'precision_recall_overall': Columns:\n",
       " \tcutoff\tint\n",
       " \tprecision\tfloat\n",
       " \trecall\tfloat\n",
       " \n",
       " Rows: 18\n",
       " \n",
       " Data:\n",
       " +--------+----------------------+----------------------+\n",
       " | cutoff |      precision       |        recall        |\n",
       " +--------+----------------------+----------------------+\n",
       " |   1    | 0.06495263870094725  | 0.011394976098817053 |\n",
       " |   2    | 0.05345060893098781  | 0.023087568752963472 |\n",
       " |   3    | 0.04149751917004958  | 0.03197307882250602  |\n",
       " |   4    | 0.03721244925575102  |  0.0389366661548349  |\n",
       " |   5    | 0.034100135317997285 | 0.045258301752044774 |\n",
       " |   6    | 0.031123139377537228 | 0.05049975883669191  |\n",
       " |   7    | 0.028996713705779994 | 0.05668334305463514  |\n",
       " |   8    | 0.026217861975642767 | 0.05881782336908839  |\n",
       " |   9    | 0.02420688618252892  | 0.06226697726784725  |\n",
       " |   10   | 0.022733423545331515 | 0.06375074897809853  |\n",
       " +--------+----------------------+----------------------+\n",
       " [18 rows x 3 columns]\n",
       " Note: Only the head of the SFrame is printed.\n",
       " You can use print_rows(num_rows=m, num_columns=n) to print more rows and columns.,\n",
       " 'rmse_by_user': Columns:\n",
       " \tuser_id\tstr\n",
       " \trmse\tfloat\n",
       " \tcount\tint\n",
       " \n",
       " Rows: 739\n",
       " \n",
       " Data:\n",
       " +-----------------+--------------------+-------+\n",
       " |     user_id     |        rmse        | count |\n",
       " +-----------------+--------------------+-------+\n",
       " |    heronymus    | 0.5321821381623091 |   25  |\n",
       " |      stlamb     | 0.6475252863409207 |   11  |\n",
       " | ecoboardgeek123 | 0.9164803626568109 |  183  |\n",
       " |     Mikorax     | 0.1734248232067941 |   1   |\n",
       " |   TornadoLover  | 2.7549029185551785 |   2   |\n",
       " |    cargowire    | 4.195799591870459  |   6   |\n",
       " |     eRxGeek     | 4.203670064138577  |   2   |\n",
       " |     rjplouis    | 0.9214328512193671 |   8   |\n",
       " |     dking232    | 3.9954895741910237 |   9   |\n",
       " |   fathermocker  | 7.7126717638815645 |   1   |\n",
       " +-----------------+--------------------+-------+\n",
       " [739 rows x 3 columns]\n",
       " Note: Only the head of the SFrame is printed.\n",
       " You can use print_rows(num_rows=m, num_columns=n) to print more rows and columns.,\n",
       " 'rmse_by_item': Columns:\n",
       " \tgame_id\tint\n",
       " \trmse\tfloat\n",
       " \tcount\tint\n",
       " \n",
       " Rows: 2352\n",
       " \n",
       " Data:\n",
       " +---------+---------------------+-------+\n",
       " | game_id |         rmse        | count |\n",
       " +---------+---------------------+-------+\n",
       " |   5288  |  0.3688568449727221 |   1   |\n",
       " |  12158  |  1.3864022751217564 |   1   |\n",
       " |   5783  |  0.830090981298442  |   2   |\n",
       " |   2847  |  1.453611043869031  |   2   |\n",
       " |   9234  | 0.27636653846033665 |   1   |\n",
       " |   3913  | 0.05150230947083445 |   1   |\n",
       " |   537   |  0.5997482193571297 |   1   |\n",
       " |   526   |  1.4236042751745295 |   1   |\n",
       " |  17325  | 0.39464706522421666 |   1   |\n",
       " |  15982  |  1.2594683971218839 |   1   |\n",
       " +---------+---------------------+-------+\n",
       " [2352 rows x 3 columns]\n",
       " Note: Only the head of the SFrame is printed.\n",
       " You can use print_rows(num_rows=m, num_columns=n) to print more rows and columns.,\n",
       " 'rmse_overall': 2.626382357603605}"
      ]
     },
     "execution_count": 14,
     "metadata": {},
     "output_type": "execute_result"
    }
   ],
   "source": [
    "recommendation_models_game_info(actions,items_final,tc.factorization_recommender.create)"
   ]
  },
  {
   "cell_type": "code",
   "execution_count": 15,
   "metadata": {},
   "outputs": [
    {
     "data": {
      "text/html": [
       "<pre>Preparing data set.</pre>"
      ],
      "text/plain": [
       "Preparing data set."
      ]
     },
     "metadata": {},
     "output_type": "display_data"
    },
    {
     "data": {
      "text/html": [
       "<pre>    Data has 12350437 observations with 403750 users and 102371 items.</pre>"
      ],
      "text/plain": [
       "    Data has 12350437 observations with 403750 users and 102371 items."
      ]
     },
     "metadata": {},
     "output_type": "display_data"
    },
    {
     "data": {
      "text/html": [
       "<pre>    Data prepared in: 11.8532s</pre>"
      ],
      "text/plain": [
       "    Data prepared in: 11.8532s"
      ]
     },
     "metadata": {},
     "output_type": "display_data"
    },
    {
     "data": {
      "text/html": [
       "<pre>Training ranking_factorization_recommender for recommendations.</pre>"
      ],
      "text/plain": [
       "Training ranking_factorization_recommender for recommendations."
      ]
     },
     "metadata": {},
     "output_type": "display_data"
    },
    {
     "data": {
      "text/html": [
       "<pre>+--------------------------------+--------------------------------------------------+----------+</pre>"
      ],
      "text/plain": [
       "+--------------------------------+--------------------------------------------------+----------+"
      ]
     },
     "metadata": {},
     "output_type": "display_data"
    },
    {
     "data": {
      "text/html": [
       "<pre>| Parameter                      | Description                                      | Value    |</pre>"
      ],
      "text/plain": [
       "| Parameter                      | Description                                      | Value    |"
      ]
     },
     "metadata": {},
     "output_type": "display_data"
    },
    {
     "data": {
      "text/html": [
       "<pre>+--------------------------------+--------------------------------------------------+----------+</pre>"
      ],
      "text/plain": [
       "+--------------------------------+--------------------------------------------------+----------+"
      ]
     },
     "metadata": {},
     "output_type": "display_data"
    },
    {
     "data": {
      "text/html": [
       "<pre>| num_factors                    | Factor Dimension                                 | 32       |</pre>"
      ],
      "text/plain": [
       "| num_factors                    | Factor Dimension                                 | 32       |"
      ]
     },
     "metadata": {},
     "output_type": "display_data"
    },
    {
     "data": {
      "text/html": [
       "<pre>| regularization                 | L2 Regularization on Factors                     | 1e-09    |</pre>"
      ],
      "text/plain": [
       "| regularization                 | L2 Regularization on Factors                     | 1e-09    |"
      ]
     },
     "metadata": {},
     "output_type": "display_data"
    },
    {
     "data": {
      "text/html": [
       "<pre>| solver                         | Solver used for training                         | adagrad  |</pre>"
      ],
      "text/plain": [
       "| solver                         | Solver used for training                         | adagrad  |"
      ]
     },
     "metadata": {},
     "output_type": "display_data"
    },
    {
     "data": {
      "text/html": [
       "<pre>| linear_regularization          | L2 Regularization on Linear Coefficients         | 1e-09    |</pre>"
      ],
      "text/plain": [
       "| linear_regularization          | L2 Regularization on Linear Coefficients         | 1e-09    |"
      ]
     },
     "metadata": {},
     "output_type": "display_data"
    },
    {
     "data": {
      "text/html": [
       "<pre>| ranking_regularization         | Rank-based Regularization Weight                 | 0.25     |</pre>"
      ],
      "text/plain": [
       "| ranking_regularization         | Rank-based Regularization Weight                 | 0.25     |"
      ]
     },
     "metadata": {},
     "output_type": "display_data"
    },
    {
     "data": {
      "text/html": [
       "<pre>| side_data_factorization        | Assign Factors for Side Data                     | True     |</pre>"
      ],
      "text/plain": [
       "| side_data_factorization        | Assign Factors for Side Data                     | True     |"
      ]
     },
     "metadata": {},
     "output_type": "display_data"
    },
    {
     "data": {
      "text/html": [
       "<pre>| max_iterations                 | Maximum Number of Iterations                     | 25       |</pre>"
      ],
      "text/plain": [
       "| max_iterations                 | Maximum Number of Iterations                     | 25       |"
      ]
     },
     "metadata": {},
     "output_type": "display_data"
    },
    {
     "data": {
      "text/html": [
       "<pre>+--------------------------------+--------------------------------------------------+----------+</pre>"
      ],
      "text/plain": [
       "+--------------------------------+--------------------------------------------------+----------+"
      ]
     },
     "metadata": {},
     "output_type": "display_data"
    },
    {
     "data": {
      "text/html": [
       "<pre>  Optimizing model using SGD; tuning step size.</pre>"
      ],
      "text/plain": [
       "  Optimizing model using SGD; tuning step size."
      ]
     },
     "metadata": {},
     "output_type": "display_data"
    },
    {
     "data": {
      "text/html": [
       "<pre>  Using 1543804 / 12350437 points for tuning the step size.</pre>"
      ],
      "text/plain": [
       "  Using 1543804 / 12350437 points for tuning the step size."
      ]
     },
     "metadata": {},
     "output_type": "display_data"
    },
    {
     "data": {
      "text/html": [
       "<pre>+---------+-------------------+------------------------------------------+</pre>"
      ],
      "text/plain": [
       "+---------+-------------------+------------------------------------------+"
      ]
     },
     "metadata": {},
     "output_type": "display_data"
    },
    {
     "data": {
      "text/html": [
       "<pre>| Attempt | Initial Step Size | Estimated Objective Value                |</pre>"
      ],
      "text/plain": [
       "| Attempt | Initial Step Size | Estimated Objective Value                |"
      ]
     },
     "metadata": {},
     "output_type": "display_data"
    },
    {
     "data": {
      "text/html": [
       "<pre>+---------+-------------------+------------------------------------------+</pre>"
      ],
      "text/plain": [
       "+---------+-------------------+------------------------------------------+"
      ]
     },
     "metadata": {},
     "output_type": "display_data"
    },
    {
     "data": {
      "text/html": [
       "<pre>| 0       | 10                | Not Viable                               |</pre>"
      ],
      "text/plain": [
       "| 0       | 10                | Not Viable                               |"
      ]
     },
     "metadata": {},
     "output_type": "display_data"
    },
    {
     "data": {
      "text/html": [
       "<pre>| 1       | 2.5               | Not Viable                               |</pre>"
      ],
      "text/plain": [
       "| 1       | 2.5               | Not Viable                               |"
      ]
     },
     "metadata": {},
     "output_type": "display_data"
    },
    {
     "data": {
      "text/html": [
       "<pre>| 2       | 0.625             | 7.10179                                  |</pre>"
      ],
      "text/plain": [
       "| 2       | 0.625             | 7.10179                                  |"
      ]
     },
     "metadata": {},
     "output_type": "display_data"
    },
    {
     "data": {
      "text/html": [
       "<pre>| 3       | 0.3125            | 9.67355                                  |</pre>"
      ],
      "text/plain": [
       "| 3       | 0.3125            | 9.67355                                  |"
      ]
     },
     "metadata": {},
     "output_type": "display_data"
    },
    {
     "data": {
      "text/html": [
       "<pre>| 4       | 0.15625           | 5.17172                                  |</pre>"
      ],
      "text/plain": [
       "| 4       | 0.15625           | 5.17172                                  |"
      ]
     },
     "metadata": {},
     "output_type": "display_data"
    },
    {
     "data": {
      "text/html": [
       "<pre>| 5       | 0.078125          | 5.81637                                  |</pre>"
      ],
      "text/plain": [
       "| 5       | 0.078125          | 5.81637                                  |"
      ]
     },
     "metadata": {},
     "output_type": "display_data"
    },
    {
     "data": {
      "text/html": [
       "<pre>| 6       | 0.0390625         | 6.97498                                  |</pre>"
      ],
      "text/plain": [
       "| 6       | 0.0390625         | 6.97498                                  |"
      ]
     },
     "metadata": {},
     "output_type": "display_data"
    },
    {
     "data": {
      "text/html": [
       "<pre>| 7       | 0.0195312         | 8.7899                                   |</pre>"
      ],
      "text/plain": [
       "| 7       | 0.0195312         | 8.7899                                   |"
      ]
     },
     "metadata": {},
     "output_type": "display_data"
    },
    {
     "data": {
      "text/html": [
       "<pre>+---------+-------------------+------------------------------------------+</pre>"
      ],
      "text/plain": [
       "+---------+-------------------+------------------------------------------+"
      ]
     },
     "metadata": {},
     "output_type": "display_data"
    },
    {
     "data": {
      "text/html": [
       "<pre>| Final   | 0.15625           | 5.17172                                  |</pre>"
      ],
      "text/plain": [
       "| Final   | 0.15625           | 5.17172                                  |"
      ]
     },
     "metadata": {},
     "output_type": "display_data"
    },
    {
     "data": {
      "text/html": [
       "<pre>+---------+-------------------+------------------------------------------+</pre>"
      ],
      "text/plain": [
       "+---------+-------------------+------------------------------------------+"
      ]
     },
     "metadata": {},
     "output_type": "display_data"
    },
    {
     "data": {
      "text/html": [
       "<pre>Starting Optimization.</pre>"
      ],
      "text/plain": [
       "Starting Optimization."
      ]
     },
     "metadata": {},
     "output_type": "display_data"
    },
    {
     "data": {
      "text/html": [
       "<pre>+---------+--------------+-------------------+-----------------------+-------------+</pre>"
      ],
      "text/plain": [
       "+---------+--------------+-------------------+-----------------------+-------------+"
      ]
     },
     "metadata": {},
     "output_type": "display_data"
    },
    {
     "data": {
      "text/html": [
       "<pre>| Iter.   | Elapsed Time | Approx. Objective | Approx. Training RMSE | Step Size   |</pre>"
      ],
      "text/plain": [
       "| Iter.   | Elapsed Time | Approx. Objective | Approx. Training RMSE | Step Size   |"
      ]
     },
     "metadata": {},
     "output_type": "display_data"
    },
    {
     "data": {
      "text/html": [
       "<pre>+---------+--------------+-------------------+-----------------------+-------------+</pre>"
      ],
      "text/plain": [
       "+---------+--------------+-------------------+-----------------------+-------------+"
      ]
     },
     "metadata": {},
     "output_type": "display_data"
    },
    {
     "data": {
      "text/html": [
       "<pre>| Initial | 309us        | 23.3638           | 3.45218               |             |</pre>"
      ],
      "text/plain": [
       "| Initial | 309us        | 23.3638           | 3.45218               |             |"
      ]
     },
     "metadata": {},
     "output_type": "display_data"
    },
    {
     "data": {
      "text/html": [
       "<pre>+---------+--------------+-------------------+-----------------------+-------------+</pre>"
      ],
      "text/plain": [
       "+---------+--------------+-------------------+-----------------------+-------------+"
      ]
     },
     "metadata": {},
     "output_type": "display_data"
    },
    {
     "data": {
      "text/html": [
       "<pre>| 1       | 22.28s       | 10.9366           | 2.94778               | 0.15625     |</pre>"
      ],
      "text/plain": [
       "| 1       | 22.28s       | 10.9366           | 2.94778               | 0.15625     |"
      ]
     },
     "metadata": {},
     "output_type": "display_data"
    },
    {
     "data": {
      "text/html": [
       "<pre>| 2       | 43.42s       | 8.3144            | 2.59659               | 0.15625     |</pre>"
      ],
      "text/plain": [
       "| 2       | 43.42s       | 8.3144            | 2.59659               | 0.15625     |"
      ]
     },
     "metadata": {},
     "output_type": "display_data"
    },
    {
     "data": {
      "text/html": [
       "<pre>| 3       | 1m 6s        | 7.28151           | 2.42008               | 0.15625     |</pre>"
      ],
      "text/plain": [
       "| 3       | 1m 6s        | 7.28151           | 2.42008               | 0.15625     |"
      ]
     },
     "metadata": {},
     "output_type": "display_data"
    },
    {
     "data": {
      "text/html": [
       "<pre>| 4       | 1m 25s       | 6.8256            | 2.34361               | 0.15625     |</pre>"
      ],
      "text/plain": [
       "| 4       | 1m 25s       | 6.8256            | 2.34361               | 0.15625     |"
      ]
     },
     "metadata": {},
     "output_type": "display_data"
    },
    {
     "data": {
      "text/html": [
       "<pre>| 5       | 1m 45s       | 6.5019            | 2.2868                | 0.15625     |</pre>"
      ],
      "text/plain": [
       "| 5       | 1m 45s       | 6.5019            | 2.2868                | 0.15625     |"
      ]
     },
     "metadata": {},
     "output_type": "display_data"
    },
    {
     "data": {
      "text/html": [
       "<pre>| 7       | 2m 23s       | 6.03416           | 2.20167               | 0.15625     |</pre>"
      ],
      "text/plain": [
       "| 7       | 2m 23s       | 6.03416           | 2.20167               | 0.15625     |"
      ]
     },
     "metadata": {},
     "output_type": "display_data"
    },
    {
     "data": {
      "text/html": [
       "<pre>| 8       | 2m 42s       | 5.87358           | 2.17175               | 0.15625     |</pre>"
      ],
      "text/plain": [
       "| 8       | 2m 42s       | 5.87358           | 2.17175               | 0.15625     |"
      ]
     },
     "metadata": {},
     "output_type": "display_data"
    },
    {
     "data": {
      "text/html": [
       "<pre>| 9       | 3m 2s        | 5.73227           | 2.14464               | 0.15625     |</pre>"
      ],
      "text/plain": [
       "| 9       | 3m 2s        | 5.73227           | 2.14464               | 0.15625     |"
      ]
     },
     "metadata": {},
     "output_type": "display_data"
    },
    {
     "data": {
      "text/html": [
       "<pre>| 10      | 3m 21s       | 5.62149           | 2.12391               | 0.15625     |</pre>"
      ],
      "text/plain": [
       "| 10      | 3m 21s       | 5.62149           | 2.12391               | 0.15625     |"
      ]
     },
     "metadata": {},
     "output_type": "display_data"
    },
    {
     "data": {
      "text/html": [
       "<pre>| 11      | 3m 40s       | 5.53065           | 2.10564               | 0.15625     |</pre>"
      ],
      "text/plain": [
       "| 11      | 3m 40s       | 5.53065           | 2.10564               | 0.15625     |"
      ]
     },
     "metadata": {},
     "output_type": "display_data"
    },
    {
     "data": {
      "text/html": [
       "<pre>| 12      | 3m 59s       | 5.44952           | 2.08984               | 0.15625     |</pre>"
      ],
      "text/plain": [
       "| 12      | 3m 59s       | 5.44952           | 2.08984               | 0.15625     |"
      ]
     },
     "metadata": {},
     "output_type": "display_data"
    },
    {
     "data": {
      "text/html": [
       "<pre>| 13      | 4m 19s       | 5.36715           | 2.0743                | 0.15625     |</pre>"
      ],
      "text/plain": [
       "| 13      | 4m 19s       | 5.36715           | 2.0743                | 0.15625     |"
      ]
     },
     "metadata": {},
     "output_type": "display_data"
    },
    {
     "data": {
      "text/html": [
       "<pre>| 14      | 4m 38s       | 5.30467           | 2.06166               | 0.15625     |</pre>"
      ],
      "text/plain": [
       "| 14      | 4m 38s       | 5.30467           | 2.06166               | 0.15625     |"
      ]
     },
     "metadata": {},
     "output_type": "display_data"
    },
    {
     "data": {
      "text/html": [
       "<pre>| 15      | 4m 56s       | 5.24842           | 2.05037               | 0.15625     |</pre>"
      ],
      "text/plain": [
       "| 15      | 4m 56s       | 5.24842           | 2.05037               | 0.15625     |"
      ]
     },
     "metadata": {},
     "output_type": "display_data"
    },
    {
     "data": {
      "text/html": [
       "<pre>| 16      | 5m 17s       | 5.19584           | 2.0401                | 0.15625     |</pre>"
      ],
      "text/plain": [
       "| 16      | 5m 17s       | 5.19584           | 2.0401                | 0.15625     |"
      ]
     },
     "metadata": {},
     "output_type": "display_data"
    },
    {
     "data": {
      "text/html": [
       "<pre>| 17      | 5m 40s       | 5.14855           | 2.03053               | 0.15625     |</pre>"
      ],
      "text/plain": [
       "| 17      | 5m 40s       | 5.14855           | 2.03053               | 0.15625     |"
      ]
     },
     "metadata": {},
     "output_type": "display_data"
    },
    {
     "data": {
      "text/html": [
       "<pre>| 18      | 6m 3s        | 5.10549           | 2.0217                | 0.15625     |</pre>"
      ],
      "text/plain": [
       "| 18      | 6m 3s        | 5.10549           | 2.0217                | 0.15625     |"
      ]
     },
     "metadata": {},
     "output_type": "display_data"
    },
    {
     "data": {
      "text/html": [
       "<pre>| 19      | 6m 21s       | 5.06534           | 2.01361               | 0.15625     |</pre>"
      ],
      "text/plain": [
       "| 19      | 6m 21s       | 5.06534           | 2.01361               | 0.15625     |"
      ]
     },
     "metadata": {},
     "output_type": "display_data"
    },
    {
     "data": {
      "text/html": [
       "<pre>| 20      | 6m 40s       | 5.03287           | 2.00694               | 0.15625     |</pre>"
      ],
      "text/plain": [
       "| 20      | 6m 40s       | 5.03287           | 2.00694               | 0.15625     |"
      ]
     },
     "metadata": {},
     "output_type": "display_data"
    },
    {
     "data": {
      "text/html": [
       "<pre>| 21      | 6m 59s       | 4.99788           | 1.9996                | 0.15625     |</pre>"
      ],
      "text/plain": [
       "| 21      | 6m 59s       | 4.99788           | 1.9996                | 0.15625     |"
      ]
     },
     "metadata": {},
     "output_type": "display_data"
    },
    {
     "data": {
      "text/html": [
       "<pre>| 22      | 7m 20s       | 4.96919           | 1.99391               | 0.15625     |</pre>"
      ],
      "text/plain": [
       "| 22      | 7m 20s       | 4.96919           | 1.99391               | 0.15625     |"
      ]
     },
     "metadata": {},
     "output_type": "display_data"
    },
    {
     "data": {
      "text/html": [
       "<pre>| 23      | 7m 39s       | 4.94202           | 1.98851               | 0.15625     |</pre>"
      ],
      "text/plain": [
       "| 23      | 7m 39s       | 4.94202           | 1.98851               | 0.15625     |"
      ]
     },
     "metadata": {},
     "output_type": "display_data"
    },
    {
     "data": {
      "text/html": [
       "<pre>| 24      | 8m 1s        | 4.91719           | 1.98312               | 0.15625     |</pre>"
      ],
      "text/plain": [
       "| 24      | 8m 1s        | 4.91719           | 1.98312               | 0.15625     |"
      ]
     },
     "metadata": {},
     "output_type": "display_data"
    },
    {
     "data": {
      "text/html": [
       "<pre>| 25      | 8m 20s       | 4.8913            | 1.97741               | 0.15625     |</pre>"
      ],
      "text/plain": [
       "| 25      | 8m 20s       | 4.8913            | 1.97741               | 0.15625     |"
      ]
     },
     "metadata": {},
     "output_type": "display_data"
    },
    {
     "data": {
      "text/html": [
       "<pre>+---------+--------------+-------------------+-----------------------+-------------+</pre>"
      ],
      "text/plain": [
       "+---------+--------------+-------------------+-----------------------+-------------+"
      ]
     },
     "metadata": {},
     "output_type": "display_data"
    },
    {
     "data": {
      "text/html": [
       "<pre>Optimization Complete: Maximum number of passes through the data reached.</pre>"
      ],
      "text/plain": [
       "Optimization Complete: Maximum number of passes through the data reached."
      ]
     },
     "metadata": {},
     "output_type": "display_data"
    },
    {
     "data": {
      "text/html": [
       "<pre>Computing final objective value and training RMSE.</pre>"
      ],
      "text/plain": [
       "Computing final objective value and training RMSE."
      ]
     },
     "metadata": {},
     "output_type": "display_data"
    },
    {
     "data": {
      "text/html": [
       "<pre>       Final objective value: 4.79553</pre>"
      ],
      "text/plain": [
       "       Final objective value: 4.79553"
      ]
     },
     "metadata": {},
     "output_type": "display_data"
    },
    {
     "data": {
      "text/html": [
       "<pre>       Final training RMSE: 1.96147</pre>"
      ],
      "text/plain": [
       "       Final training RMSE: 1.96147"
      ]
     },
     "metadata": {},
     "output_type": "display_data"
    },
    {
     "name": "stdout",
     "output_type": "stream",
     "text": [
      "\n",
      "Precision and recall summary statistics by cutoff\n",
      "+--------+----------------------+---------------------+\n",
      "| cutoff |    mean_precision    |     mean_recall     |\n",
      "+--------+----------------------+---------------------+\n",
      "|   1    | 0.11366711772665765  | 0.03240800763287351 |\n",
      "|   2    | 0.09472259810554802  | 0.05496512718357886 |\n",
      "|   3    | 0.07758231844835368  |  0.0639933994846084 |\n",
      "|   4    | 0.07104194857916105  | 0.07281525904858313 |\n",
      "|   5    | 0.06468200270635995  |  0.0820830015456251 |\n",
      "|   6    | 0.062246278755074415 | 0.09575542094191745 |\n",
      "|   7    | 0.059153295959791206 |  0.1016393367329531 |\n",
      "|   8    | 0.054972936400541274 | 0.10781495834321488 |\n",
      "|   9    | 0.05277401894451958  |  0.1149469995934787 |\n",
      "|   10   | 0.05087956698240866  | 0.11894820932683005 |\n",
      "+--------+----------------------+---------------------+\n",
      "[10 rows x 3 columns]\n",
      "\n",
      "\n",
      "Overall RMSE: 2.834940526338545\n",
      "\n",
      "Per User RMSE (best)\n",
      "+----------------+----------------------+-------+\n",
      "|    user_id     |         rmse         | count |\n",
      "+----------------+----------------------+-------+\n",
      "| KillerCrusoe11 | 0.010691206192458225 |   1   |\n",
      "+----------------+----------------------+-------+\n",
      "[1 rows x 3 columns]\n",
      "\n",
      "\n",
      "Per User RMSE (worst)\n",
      "+----------+-------------------+-------+\n",
      "| user_id  |        rmse       | count |\n",
      "+----------+-------------------+-------+\n",
      "| KRONOSSS | 12.86019537603642 |   1   |\n",
      "+----------+-------------------+-------+\n",
      "[1 rows x 3 columns]\n",
      "\n",
      "\n",
      "Per Item RMSE (best)\n",
      "+---------+----------------------+-------+\n",
      "| game_id |         rmse         | count |\n",
      "+---------+----------------------+-------+\n",
      "|  12012  | 0.000985469986167331 |   1   |\n",
      "+---------+----------------------+-------+\n",
      "[1 rows x 3 columns]\n",
      "\n",
      "\n",
      "Per Item RMSE (worst)\n",
      "+---------+-------------------+-------+\n",
      "| game_id |        rmse       | count |\n",
      "+---------+-------------------+-------+\n",
      "|  15946  | 12.86019537603642 |   1   |\n",
      "+---------+-------------------+-------+\n",
      "[1 rows x 3 columns]\n",
      "\n"
     ]
    },
    {
     "data": {
      "text/plain": [
       "{'precision_recall_by_user': Columns:\n",
       " \tuser_id\tstr\n",
       " \tcutoff\tint\n",
       " \tprecision\tfloat\n",
       " \trecall\tfloat\n",
       " \tcount\tint\n",
       " \n",
       " Rows: 13302\n",
       " \n",
       " Data:\n",
       " +------------+--------+-----------+--------------------+-------+\n",
       " |  user_id   | cutoff | precision |       recall       | count |\n",
       " +------------+--------+-----------+--------------------+-------+\n",
       " | Majomaja92 |   1    |    0.0    |        0.0         |   3   |\n",
       " | Majomaja92 |   2    |    0.0    |        0.0         |   3   |\n",
       " | Majomaja92 |   3    |    0.0    |        0.0         |   3   |\n",
       " | Majomaja92 |   4    |    0.0    |        0.0         |   3   |\n",
       " | Majomaja92 |   5    |    0.0    |        0.0         |   3   |\n",
       " | Majomaja92 |   6    |    0.0    |        0.0         |   3   |\n",
       " | Majomaja92 |   7    |    0.0    |        0.0         |   3   |\n",
       " | Majomaja92 |   8    |    0.0    |        0.0         |   3   |\n",
       " | Majomaja92 |   9    |    0.0    |        0.0         |   3   |\n",
       " | Majomaja92 |   10   |    0.1    | 0.3333333333333333 |   3   |\n",
       " +------------+--------+-----------+--------------------+-------+\n",
       " [13302 rows x 5 columns]\n",
       " Note: Only the head of the SFrame is printed.\n",
       " You can use print_rows(num_rows=m, num_columns=n) to print more rows and columns.,\n",
       " 'precision_recall_overall': Columns:\n",
       " \tcutoff\tint\n",
       " \tprecision\tfloat\n",
       " \trecall\tfloat\n",
       " \n",
       " Rows: 18\n",
       " \n",
       " Data:\n",
       " +--------+----------------------+----------------------+\n",
       " | cutoff |      precision       |        recall        |\n",
       " +--------+----------------------+----------------------+\n",
       " |   1    | 0.11366711772665765  |  0.0324080076328735  |\n",
       " |   2    | 0.09472259810554802  | 0.054965127183578905 |\n",
       " |   3    | 0.07758231844835367  | 0.06399339948460835  |\n",
       " |   4    |  0.071041948579161   |  0.0728152590485831  |\n",
       " |   5    | 0.06468200270635995  | 0.08208300154562512  |\n",
       " |   6    | 0.062246278755074436 | 0.09575542094191745  |\n",
       " |   7    | 0.05915329595979121  | 0.10163933673295306  |\n",
       " |   8    | 0.054972936400541274 | 0.10781495834321488  |\n",
       " |   9    |  0.0527740189445196  | 0.11494699959347872  |\n",
       " |   10   | 0.05087956698240867  | 0.11894820932683003  |\n",
       " +--------+----------------------+----------------------+\n",
       " [18 rows x 3 columns]\n",
       " Note: Only the head of the SFrame is printed.\n",
       " You can use print_rows(num_rows=m, num_columns=n) to print more rows and columns.,\n",
       " 'rmse_by_user': Columns:\n",
       " \tuser_id\tstr\n",
       " \trmse\tfloat\n",
       " \tcount\tint\n",
       " \n",
       " Rows: 739\n",
       " \n",
       " Data:\n",
       " +-----------------+---------------------+-------+\n",
       " |     user_id     |         rmse        | count |\n",
       " +-----------------+---------------------+-------+\n",
       " |    heronymus    |  0.8967637769616829 |   25  |\n",
       " |      stlamb     |  0.7145798809250442 |   11  |\n",
       " | ecoboardgeek123 |  1.2661269963291082 |  183  |\n",
       " |     Mikorax     | 0.11078729419758382 |   1   |\n",
       " |   TornadoLover  |  3.5529851838462263 |   2   |\n",
       " |    cargowire    |  2.7696768148010826 |   6   |\n",
       " |     eRxGeek     |  3.7307426189332564 |   2   |\n",
       " |     rjplouis    |  1.0220460286036868 |   8   |\n",
       " |     dking232    |  4.508050922014239  |   9   |\n",
       " |   fathermocker  |  12.114181746155229 |   1   |\n",
       " +-----------------+---------------------+-------+\n",
       " [739 rows x 3 columns]\n",
       " Note: Only the head of the SFrame is printed.\n",
       " You can use print_rows(num_rows=m, num_columns=n) to print more rows and columns.,\n",
       " 'rmse_by_item': Columns:\n",
       " \tgame_id\tint\n",
       " \trmse\tfloat\n",
       " \tcount\tint\n",
       " \n",
       " Rows: 2352\n",
       " \n",
       " Data:\n",
       " +---------+--------------------+-------+\n",
       " | game_id |        rmse        | count |\n",
       " +---------+--------------------+-------+\n",
       " |   5288  | 0.2887527451171916 |   1   |\n",
       " |  12158  | 1.2284009393819684 |   1   |\n",
       " |   5783  | 1.5212303901245163 |   2   |\n",
       " |   2847  | 5.643992901587853  |   2   |\n",
       " |   9234  | 2.608739203205607  |   1   |\n",
       " |   3913  | 1.809076367823831  |   1   |\n",
       " |   537   | 0.5859252844886615 |   1   |\n",
       " |   526   | 0.8249783127700248 |   1   |\n",
       " |  17325  | 1.0473251456019312 |   1   |\n",
       " |  15982  | 0.874355541109205  |   1   |\n",
       " +---------+--------------------+-------+\n",
       " [2352 rows x 3 columns]\n",
       " Note: Only the head of the SFrame is printed.\n",
       " You can use print_rows(num_rows=m, num_columns=n) to print more rows and columns.,\n",
       " 'rmse_overall': 2.834940526338545}"
      ]
     },
     "execution_count": 15,
     "metadata": {},
     "output_type": "execute_result"
    }
   ],
   "source": [
    "recommendation_models_game_info(actions,items_final,tc.ranking_factorization_recommender.create)"
   ]
  },
  {
   "cell_type": "code",
   "execution_count": null,
   "metadata": {},
   "outputs": [],
   "source": []
  },
  {
   "cell_type": "code",
   "execution_count": 18,
   "metadata": {},
   "outputs": [
    {
     "data": {
      "text/html": [
       "<pre>Preparing data set.</pre>"
      ],
      "text/plain": [
       "Preparing data set."
      ]
     },
     "metadata": {},
     "output_type": "display_data"
    },
    {
     "data": {
      "text/html": [
       "<pre>    Data has 12350437 observations with 403750 users and 21702 items.</pre>"
      ],
      "text/plain": [
       "    Data has 12350437 observations with 403750 users and 21702 items."
      ]
     },
     "metadata": {},
     "output_type": "display_data"
    },
    {
     "data": {
      "text/html": [
       "<pre>    Data prepared in: 12.5528s</pre>"
      ],
      "text/plain": [
       "    Data prepared in: 12.5528s"
      ]
     },
     "metadata": {},
     "output_type": "display_data"
    },
    {
     "data": {
      "text/html": [
       "<pre>Training factorization_recommender for recommendations.</pre>"
      ],
      "text/plain": [
       "Training factorization_recommender for recommendations."
      ]
     },
     "metadata": {},
     "output_type": "display_data"
    },
    {
     "data": {
      "text/html": [
       "<pre>+--------------------------------+--------------------------------------------------+----------+</pre>"
      ],
      "text/plain": [
       "+--------------------------------+--------------------------------------------------+----------+"
      ]
     },
     "metadata": {},
     "output_type": "display_data"
    },
    {
     "data": {
      "text/html": [
       "<pre>| Parameter                      | Description                                      | Value    |</pre>"
      ],
      "text/plain": [
       "| Parameter                      | Description                                      | Value    |"
      ]
     },
     "metadata": {},
     "output_type": "display_data"
    },
    {
     "data": {
      "text/html": [
       "<pre>+--------------------------------+--------------------------------------------------+----------+</pre>"
      ],
      "text/plain": [
       "+--------------------------------+--------------------------------------------------+----------+"
      ]
     },
     "metadata": {},
     "output_type": "display_data"
    },
    {
     "data": {
      "text/html": [
       "<pre>| num_factors                    | Factor Dimension                                 | 8        |</pre>"
      ],
      "text/plain": [
       "| num_factors                    | Factor Dimension                                 | 8        |"
      ]
     },
     "metadata": {},
     "output_type": "display_data"
    },
    {
     "data": {
      "text/html": [
       "<pre>| regularization                 | L2 Regularization on Factors                     | 1e-08    |</pre>"
      ],
      "text/plain": [
       "| regularization                 | L2 Regularization on Factors                     | 1e-08    |"
      ]
     },
     "metadata": {},
     "output_type": "display_data"
    },
    {
     "data": {
      "text/html": [
       "<pre>| solver                         | Solver used for training                         | adagrad  |</pre>"
      ],
      "text/plain": [
       "| solver                         | Solver used for training                         | adagrad  |"
      ]
     },
     "metadata": {},
     "output_type": "display_data"
    },
    {
     "data": {
      "text/html": [
       "<pre>| linear_regularization          | L2 Regularization on Linear Coefficients         | 1e-10    |</pre>"
      ],
      "text/plain": [
       "| linear_regularization          | L2 Regularization on Linear Coefficients         | 1e-10    |"
      ]
     },
     "metadata": {},
     "output_type": "display_data"
    },
    {
     "data": {
      "text/html": [
       "<pre>| max_iterations                 | Maximum Number of Iterations                     | 50       |</pre>"
      ],
      "text/plain": [
       "| max_iterations                 | Maximum Number of Iterations                     | 50       |"
      ]
     },
     "metadata": {},
     "output_type": "display_data"
    },
    {
     "data": {
      "text/html": [
       "<pre>+--------------------------------+--------------------------------------------------+----------+</pre>"
      ],
      "text/plain": [
       "+--------------------------------+--------------------------------------------------+----------+"
      ]
     },
     "metadata": {},
     "output_type": "display_data"
    },
    {
     "data": {
      "text/html": [
       "<pre>  Optimizing model using SGD; tuning step size.</pre>"
      ],
      "text/plain": [
       "  Optimizing model using SGD; tuning step size."
      ]
     },
     "metadata": {},
     "output_type": "display_data"
    },
    {
     "data": {
      "text/html": [
       "<pre>  Using 1543804 / 12350437 points for tuning the step size.</pre>"
      ],
      "text/plain": [
       "  Using 1543804 / 12350437 points for tuning the step size."
      ]
     },
     "metadata": {},
     "output_type": "display_data"
    },
    {
     "data": {
      "text/html": [
       "<pre>+---------+-------------------+------------------------------------------+</pre>"
      ],
      "text/plain": [
       "+---------+-------------------+------------------------------------------+"
      ]
     },
     "metadata": {},
     "output_type": "display_data"
    },
    {
     "data": {
      "text/html": [
       "<pre>| Attempt | Initial Step Size | Estimated Objective Value                |</pre>"
      ],
      "text/plain": [
       "| Attempt | Initial Step Size | Estimated Objective Value                |"
      ]
     },
     "metadata": {},
     "output_type": "display_data"
    },
    {
     "data": {
      "text/html": [
       "<pre>+---------+-------------------+------------------------------------------+</pre>"
      ],
      "text/plain": [
       "+---------+-------------------+------------------------------------------+"
      ]
     },
     "metadata": {},
     "output_type": "display_data"
    },
    {
     "data": {
      "text/html": [
       "<pre>| 0       | 16.6667           | Not Viable                               |</pre>"
      ],
      "text/plain": [
       "| 0       | 16.6667           | Not Viable                               |"
      ]
     },
     "metadata": {},
     "output_type": "display_data"
    },
    {
     "data": {
      "text/html": [
       "<pre>| 1       | 4.16667           | Not Viable                               |</pre>"
      ],
      "text/plain": [
       "| 1       | 4.16667           | Not Viable                               |"
      ]
     },
     "metadata": {},
     "output_type": "display_data"
    },
    {
     "data": {
      "text/html": [
       "<pre>| 2       | 1.04167           | 3.8636                                   |</pre>"
      ],
      "text/plain": [
       "| 2       | 1.04167           | 3.8636                                   |"
      ]
     },
     "metadata": {},
     "output_type": "display_data"
    },
    {
     "data": {
      "text/html": [
       "<pre>| 3       | 0.520833          | 3.73943                                  |</pre>"
      ],
      "text/plain": [
       "| 3       | 0.520833          | 3.73943                                  |"
      ]
     },
     "metadata": {},
     "output_type": "display_data"
    },
    {
     "data": {
      "text/html": [
       "<pre>| 4       | 0.260417          | 4.28638                                  |</pre>"
      ],
      "text/plain": [
       "| 4       | 0.260417          | 4.28638                                  |"
      ]
     },
     "metadata": {},
     "output_type": "display_data"
    },
    {
     "data": {
      "text/html": [
       "<pre>| 5       | 0.130208          | 5.01827                                  |</pre>"
      ],
      "text/plain": [
       "| 5       | 0.130208          | 5.01827                                  |"
      ]
     },
     "metadata": {},
     "output_type": "display_data"
    },
    {
     "data": {
      "text/html": [
       "<pre>| 6       | 0.0651042         | 7.47944                                  |</pre>"
      ],
      "text/plain": [
       "| 6       | 0.0651042         | 7.47944                                  |"
      ]
     },
     "metadata": {},
     "output_type": "display_data"
    },
    {
     "data": {
      "text/html": [
       "<pre>+---------+-------------------+------------------------------------------+</pre>"
      ],
      "text/plain": [
       "+---------+-------------------+------------------------------------------+"
      ]
     },
     "metadata": {},
     "output_type": "display_data"
    },
    {
     "data": {
      "text/html": [
       "<pre>| Final   | 0.520833          | 3.73943                                  |</pre>"
      ],
      "text/plain": [
       "| Final   | 0.520833          | 3.73943                                  |"
      ]
     },
     "metadata": {},
     "output_type": "display_data"
    },
    {
     "data": {
      "text/html": [
       "<pre>+---------+-------------------+------------------------------------------+</pre>"
      ],
      "text/plain": [
       "+---------+-------------------+------------------------------------------+"
      ]
     },
     "metadata": {},
     "output_type": "display_data"
    },
    {
     "data": {
      "text/html": [
       "<pre>Starting Optimization.</pre>"
      ],
      "text/plain": [
       "Starting Optimization."
      ]
     },
     "metadata": {},
     "output_type": "display_data"
    },
    {
     "data": {
      "text/html": [
       "<pre>+---------+--------------+-------------------+-----------------------+-------------+</pre>"
      ],
      "text/plain": [
       "+---------+--------------+-------------------+-----------------------+-------------+"
      ]
     },
     "metadata": {},
     "output_type": "display_data"
    },
    {
     "data": {
      "text/html": [
       "<pre>| Iter.   | Elapsed Time | Approx. Objective | Approx. Training RMSE | Step Size   |</pre>"
      ],
      "text/plain": [
       "| Iter.   | Elapsed Time | Approx. Objective | Approx. Training RMSE | Step Size   |"
      ]
     },
     "metadata": {},
     "output_type": "display_data"
    },
    {
     "data": {
      "text/html": [
       "<pre>+---------+--------------+-------------------+-----------------------+-------------+</pre>"
      ],
      "text/plain": [
       "+---------+--------------+-------------------+-----------------------+-------------+"
      ]
     },
     "metadata": {},
     "output_type": "display_data"
    },
    {
     "data": {
      "text/html": [
       "<pre>| Initial | 329us        | 11.9172           | 3.45213               |             |</pre>"
      ],
      "text/plain": [
       "| Initial | 329us        | 11.9172           | 3.45213               |             |"
      ]
     },
     "metadata": {},
     "output_type": "display_data"
    },
    {
     "data": {
      "text/html": [
       "<pre>+---------+--------------+-------------------+-----------------------+-------------+</pre>"
      ],
      "text/plain": [
       "+---------+--------------+-------------------+-----------------------+-------------+"
      ]
     },
     "metadata": {},
     "output_type": "display_data"
    },
    {
     "data": {
      "text/html": [
       "<pre>| 1       | 2.89s        | 8.01499           | 2.82776               | 0.520833    |</pre>"
      ],
      "text/plain": [
       "| 1       | 2.89s        | 8.01499           | 2.82776               | 0.520833    |"
      ]
     },
     "metadata": {},
     "output_type": "display_data"
    },
    {
     "data": {
      "text/html": [
       "<pre>| 2       | 6.94s        | 7.78472           | 2.78761               | 0.520833    |</pre>"
      ],
      "text/plain": [
       "| 2       | 6.94s        | 7.78472           | 2.78761               | 0.520833    |"
      ]
     },
     "metadata": {},
     "output_type": "display_data"
    },
    {
     "data": {
      "text/html": [
       "<pre>| 3       | 10.03s       | 6.65209           | 2.57691               | 0.520833    |</pre>"
      ],
      "text/plain": [
       "| 3       | 10.03s       | 6.65209           | 2.57691               | 0.520833    |"
      ]
     },
     "metadata": {},
     "output_type": "display_data"
    },
    {
     "data": {
      "text/html": [
       "<pre>| 4       | 12.82s       | 5.60074           | 2.36436               | 0.520833    |</pre>"
      ],
      "text/plain": [
       "| 4       | 12.82s       | 5.60074           | 2.36436               | 0.520833    |"
      ]
     },
     "metadata": {},
     "output_type": "display_data"
    },
    {
     "data": {
      "text/html": [
       "<pre>| 5       | 15.70s       | 6.18919           | 2.48589               | 0.520833    |</pre>"
      ],
      "text/plain": [
       "| 5       | 15.70s       | 6.18919           | 2.48589               | 0.520833    |"
      ]
     },
     "metadata": {},
     "output_type": "display_data"
    },
    {
     "data": {
      "text/html": [
       "<pre>| 7       | 21.00s       | 5.62593           | 2.37005               | 0.520833    |</pre>"
      ],
      "text/plain": [
       "| 7       | 21.00s       | 5.62593           | 2.37005               | 0.520833    |"
      ]
     },
     "metadata": {},
     "output_type": "display_data"
    },
    {
     "data": {
      "text/html": [
       "<pre>| 8       | 23.47s       | 5.16367           | 2.27042               | 0.520833    |</pre>"
      ],
      "text/plain": [
       "| 8       | 23.47s       | 5.16367           | 2.27042               | 0.520833    |"
      ]
     },
     "metadata": {},
     "output_type": "display_data"
    },
    {
     "data": {
      "text/html": [
       "<pre>| 9       | 27.40s       | 4.96808           | 2.22691               | 0.520833    |</pre>"
      ],
      "text/plain": [
       "| 9       | 27.40s       | 4.96808           | 2.22691               | 0.520833    |"
      ]
     },
     "metadata": {},
     "output_type": "display_data"
    },
    {
     "data": {
      "text/html": [
       "<pre>| 10      | 30.79s       | 4.84552           | 2.1992                | 0.520833    |</pre>"
      ],
      "text/plain": [
       "| 10      | 30.79s       | 4.84552           | 2.1992                | 0.520833    |"
      ]
     },
     "metadata": {},
     "output_type": "display_data"
    },
    {
     "data": {
      "text/html": [
       "<pre>| 11      | 33.49s       | 4.75989           | 2.17963               | 0.520833    |</pre>"
      ],
      "text/plain": [
       "| 11      | 33.49s       | 4.75989           | 2.17963               | 0.520833    |"
      ]
     },
     "metadata": {},
     "output_type": "display_data"
    },
    {
     "data": {
      "text/html": [
       "<pre>| 12      | 36.57s       | 4.71816           | 2.17002               | 0.520833    |</pre>"
      ],
      "text/plain": [
       "| 12      | 36.57s       | 4.71816           | 2.17002               | 0.520833    |"
      ]
     },
     "metadata": {},
     "output_type": "display_data"
    },
    {
     "data": {
      "text/html": [
       "<pre>| 13      | 39.94s       | 4.66222           | 2.15708               | 0.520833    |</pre>"
      ],
      "text/plain": [
       "| 13      | 39.94s       | 4.66222           | 2.15708               | 0.520833    |"
      ]
     },
     "metadata": {},
     "output_type": "display_data"
    },
    {
     "data": {
      "text/html": [
       "<pre>| 14      | 42.53s       | 4.75356           | 2.17816               | 0.520833    |</pre>"
      ],
      "text/plain": [
       "| 14      | 42.53s       | 4.75356           | 2.17816               | 0.520833    |"
      ]
     },
     "metadata": {},
     "output_type": "display_data"
    },
    {
     "data": {
      "text/html": [
       "<pre>| 15      | 45.19s       | 5.31783           | 2.30412               | 0.520833    |</pre>"
      ],
      "text/plain": [
       "| 15      | 45.19s       | 5.31783           | 2.30412               | 0.520833    |"
      ]
     },
     "metadata": {},
     "output_type": "display_data"
    },
    {
     "data": {
      "text/html": [
       "<pre>| 16      | 47.84s       | 5.08841           | 2.2538                | 0.520833    |</pre>"
      ],
      "text/plain": [
       "| 16      | 47.84s       | 5.08841           | 2.2538                | 0.520833    |"
      ]
     },
     "metadata": {},
     "output_type": "display_data"
    },
    {
     "data": {
      "text/html": [
       "<pre>| 17      | 50.60s       | 4.94752           | 2.22234               | 0.520833    |</pre>"
      ],
      "text/plain": [
       "| 17      | 50.60s       | 4.94752           | 2.22234               | 0.520833    |"
      ]
     },
     "metadata": {},
     "output_type": "display_data"
    },
    {
     "data": {
      "text/html": [
       "<pre>| 18      | 53.18s       | 4.80658           | 2.1904                | 0.520833    |</pre>"
      ],
      "text/plain": [
       "| 18      | 53.18s       | 4.80658           | 2.1904                | 0.520833    |"
      ]
     },
     "metadata": {},
     "output_type": "display_data"
    },
    {
     "data": {
      "text/html": [
       "<pre>| 19      | 57.20s       | 4.69428           | 2.16461               | 0.520833    |</pre>"
      ],
      "text/plain": [
       "| 19      | 57.20s       | 4.69428           | 2.16461               | 0.520833    |"
      ]
     },
     "metadata": {},
     "output_type": "display_data"
    },
    {
     "data": {
      "text/html": [
       "<pre>| 20      | 1m 0s        | 4.6479            | 2.15386               | 0.520833    |</pre>"
      ],
      "text/plain": [
       "| 20      | 1m 0s        | 4.6479            | 2.15386               | 0.520833    |"
      ]
     },
     "metadata": {},
     "output_type": "display_data"
    },
    {
     "data": {
      "text/html": [
       "<pre>| 21      | 1m 3s        | 4.61736           | 2.14674               | 0.520833    |</pre>"
      ],
      "text/plain": [
       "| 21      | 1m 3s        | 4.61736           | 2.14674               | 0.520833    |"
      ]
     },
     "metadata": {},
     "output_type": "display_data"
    },
    {
     "data": {
      "text/html": [
       "<pre>| 22      | 1m 8s        | 4.5759            | 2.13705               | 0.520833    |</pre>"
      ],
      "text/plain": [
       "| 22      | 1m 8s        | 4.5759            | 2.13705               | 0.520833    |"
      ]
     },
     "metadata": {},
     "output_type": "display_data"
    },
    {
     "data": {
      "text/html": [
       "<pre>| 23      | 1m 14s       | 4.54638           | 2.13012               | 0.520833    |</pre>"
      ],
      "text/plain": [
       "| 23      | 1m 14s       | 4.54638           | 2.13012               | 0.520833    |"
      ]
     },
     "metadata": {},
     "output_type": "display_data"
    },
    {
     "data": {
      "text/html": [
       "<pre>| 24      | 1m 18s       | 4.52403           | 2.12486               | 0.520833    |</pre>"
      ],
      "text/plain": [
       "| 24      | 1m 18s       | 4.52403           | 2.12486               | 0.520833    |"
      ]
     },
     "metadata": {},
     "output_type": "display_data"
    },
    {
     "data": {
      "text/html": [
       "<pre>| 25      | 1m 21s       | 4.50071           | 2.11935               | 0.520833    |</pre>"
      ],
      "text/plain": [
       "| 25      | 1m 21s       | 4.50071           | 2.11935               | 0.520833    |"
      ]
     },
     "metadata": {},
     "output_type": "display_data"
    },
    {
     "data": {
      "text/html": [
       "<pre>| 26      | 1m 24s       | 4.47826           | 2.11404               | 0.520833    |</pre>"
      ],
      "text/plain": [
       "| 26      | 1m 24s       | 4.47826           | 2.11404               | 0.520833    |"
      ]
     },
     "metadata": {},
     "output_type": "display_data"
    },
    {
     "data": {
      "text/html": [
       "<pre>| 27      | 1m 30s       | 4.46129           | 2.11001               | 0.520833    |</pre>"
      ],
      "text/plain": [
       "| 27      | 1m 30s       | 4.46129           | 2.11001               | 0.520833    |"
      ]
     },
     "metadata": {},
     "output_type": "display_data"
    },
    {
     "data": {
      "text/html": [
       "<pre>| 28      | 1m 33s       | 4.45033           | 2.10741               | 0.520833    |</pre>"
      ],
      "text/plain": [
       "| 28      | 1m 33s       | 4.45033           | 2.10741               | 0.520833    |"
      ]
     },
     "metadata": {},
     "output_type": "display_data"
    },
    {
     "data": {
      "text/html": [
       "<pre>| 29      | 1m 37s       | 4.44795           | 2.10683               | 0.520833    |</pre>"
      ],
      "text/plain": [
       "| 29      | 1m 37s       | 4.44795           | 2.10683               | 0.520833    |"
      ]
     },
     "metadata": {},
     "output_type": "display_data"
    },
    {
     "data": {
      "text/html": [
       "<pre>| 30      | 1m 47s       | 4.47301           | 2.11277               | 0.520833    |</pre>"
      ],
      "text/plain": [
       "| 30      | 1m 47s       | 4.47301           | 2.11277               | 0.520833    |"
      ]
     },
     "metadata": {},
     "output_type": "display_data"
    },
    {
     "data": {
      "text/html": [
       "<pre>| 31      | 1m 53s       | 4.57676           | 2.13719               | 0.520833    |</pre>"
      ],
      "text/plain": [
       "| 31      | 1m 53s       | 4.57676           | 2.13719               | 0.520833    |"
      ]
     },
     "metadata": {},
     "output_type": "display_data"
    },
    {
     "data": {
      "text/html": [
       "<pre>| 32      | 1m 58s       | 4.61098           | 2.14518               | 0.520833    |</pre>"
      ],
      "text/plain": [
       "| 32      | 1m 58s       | 4.61098           | 2.14518               | 0.520833    |"
      ]
     },
     "metadata": {},
     "output_type": "display_data"
    },
    {
     "data": {
      "text/html": [
       "<pre>| 33      | 2m 2s        | 4.59545           | 2.14155               | 0.520833    |</pre>"
      ],
      "text/plain": [
       "| 33      | 2m 2s        | 4.59545           | 2.14155               | 0.520833    |"
      ]
     },
     "metadata": {},
     "output_type": "display_data"
    },
    {
     "data": {
      "text/html": [
       "<pre>| 34      | 2m 6s        | 4.53139           | 2.12653               | 0.520833    |</pre>"
      ],
      "text/plain": [
       "| 34      | 2m 6s        | 4.53139           | 2.12653               | 0.520833    |"
      ]
     },
     "metadata": {},
     "output_type": "display_data"
    },
    {
     "data": {
      "text/html": [
       "<pre>| 35      | 2m 10s       | 4.5744            | 2.13662               | 0.520833    |</pre>"
      ],
      "text/plain": [
       "| 35      | 2m 10s       | 4.5744            | 2.13662               | 0.520833    |"
      ]
     },
     "metadata": {},
     "output_type": "display_data"
    },
    {
     "data": {
      "text/html": [
       "<pre>| 36      | 2m 13s       | 4.55757           | 2.13267               | 0.520833    |</pre>"
      ],
      "text/plain": [
       "| 36      | 2m 13s       | 4.55757           | 2.13267               | 0.520833    |"
      ]
     },
     "metadata": {},
     "output_type": "display_data"
    },
    {
     "data": {
      "text/html": [
       "<pre>| 37      | 2m 16s       | 4.57878           | 2.13763               | 0.520833    |</pre>"
      ],
      "text/plain": [
       "| 37      | 2m 16s       | 4.57878           | 2.13763               | 0.520833    |"
      ]
     },
     "metadata": {},
     "output_type": "display_data"
    },
    {
     "data": {
      "text/html": [
       "<pre>| 38      | 2m 19s       | 4.56954           | 2.13546               | 0.520833    |</pre>"
      ],
      "text/plain": [
       "| 38      | 2m 19s       | 4.56954           | 2.13546               | 0.520833    |"
      ]
     },
     "metadata": {},
     "output_type": "display_data"
    },
    {
     "data": {
      "text/html": [
       "<pre>| 39      | 2m 23s       | 4.57234           | 2.1361                | 0.520833    |</pre>"
      ],
      "text/plain": [
       "| 39      | 2m 23s       | 4.57234           | 2.1361                | 0.520833    |"
      ]
     },
     "metadata": {},
     "output_type": "display_data"
    },
    {
     "data": {
      "text/html": [
       "<pre>| 40      | 2m 26s       | 4.55709           | 2.13252               | 0.520833    |</pre>"
      ],
      "text/plain": [
       "| 40      | 2m 26s       | 4.55709           | 2.13252               | 0.520833    |"
      ]
     },
     "metadata": {},
     "output_type": "display_data"
    },
    {
     "data": {
      "text/html": [
       "<pre>| 41      | 2m 31s       | 4.54664           | 2.13006               | 0.520833    |</pre>"
      ],
      "text/plain": [
       "| 41      | 2m 31s       | 4.54664           | 2.13006               | 0.520833    |"
      ]
     },
     "metadata": {},
     "output_type": "display_data"
    },
    {
     "data": {
      "text/html": [
       "<pre>| 42      | 2m 39s       | 4.53998           | 2.12849               | 0.520833    |</pre>"
      ],
      "text/plain": [
       "| 42      | 2m 39s       | 4.53998           | 2.12849               | 0.520833    |"
      ]
     },
     "metadata": {},
     "output_type": "display_data"
    },
    {
     "data": {
      "text/html": [
       "<pre>| 43      | 2m 53s       | 4.5407            | 2.12865               | 0.520833    |</pre>"
      ],
      "text/plain": [
       "| 43      | 2m 53s       | 4.5407            | 2.12865               | 0.520833    |"
      ]
     },
     "metadata": {},
     "output_type": "display_data"
    },
    {
     "data": {
      "text/html": [
       "<pre>| 44      | 3m 6s        | 4.51801           | 2.12331               | 0.520833    |</pre>"
      ],
      "text/plain": [
       "| 44      | 3m 6s        | 4.51801           | 2.12331               | 0.520833    |"
      ]
     },
     "metadata": {},
     "output_type": "display_data"
    },
    {
     "data": {
      "text/html": [
       "<pre>| 45      | 3m 23s       | 4.50952           | 2.1213                | 0.520833    |</pre>"
      ],
      "text/plain": [
       "| 45      | 3m 23s       | 4.50952           | 2.1213                | 0.520833    |"
      ]
     },
     "metadata": {},
     "output_type": "display_data"
    },
    {
     "data": {
      "text/html": [
       "<pre>| 46      | 3m 31s       | 4.49676           | 2.11828               | 0.520833    |</pre>"
      ],
      "text/plain": [
       "| 46      | 3m 31s       | 4.49676           | 2.11828               | 0.520833    |"
      ]
     },
     "metadata": {},
     "output_type": "display_data"
    },
    {
     "data": {
      "text/html": [
       "<pre>| 47      | 3m 37s       | 4.50718           | 2.12073               | 0.520833    |</pre>"
      ],
      "text/plain": [
       "| 47      | 3m 37s       | 4.50718           | 2.12073               | 0.520833    |"
      ]
     },
     "metadata": {},
     "output_type": "display_data"
    },
    {
     "data": {
      "text/html": [
       "<pre>| 48      | 3m 41s       | 4.47664           | 2.11351               | 0.520833    |</pre>"
      ],
      "text/plain": [
       "| 48      | 3m 41s       | 4.47664           | 2.11351               | 0.520833    |"
      ]
     },
     "metadata": {},
     "output_type": "display_data"
    },
    {
     "data": {
      "text/html": [
       "<pre>| 49      | 3m 45s       | 4.48441           | 2.11535               | 0.520833    |</pre>"
      ],
      "text/plain": [
       "| 49      | 3m 45s       | 4.48441           | 2.11535               | 0.520833    |"
      ]
     },
     "metadata": {},
     "output_type": "display_data"
    },
    {
     "data": {
      "text/html": [
       "<pre>| 50      | 3m 49s       | 4.451             | 2.10743               | 0.520833    |</pre>"
      ],
      "text/plain": [
       "| 50      | 3m 49s       | 4.451             | 2.10743               | 0.520833    |"
      ]
     },
     "metadata": {},
     "output_type": "display_data"
    },
    {
     "data": {
      "text/html": [
       "<pre>+---------+--------------+-------------------+-----------------------+-------------+</pre>"
      ],
      "text/plain": [
       "+---------+--------------+-------------------+-----------------------+-------------+"
      ]
     },
     "metadata": {},
     "output_type": "display_data"
    },
    {
     "data": {
      "text/html": [
       "<pre>Optimization Complete: Maximum number of passes through the data reached.</pre>"
      ],
      "text/plain": [
       "Optimization Complete: Maximum number of passes through the data reached."
      ]
     },
     "metadata": {},
     "output_type": "display_data"
    },
    {
     "data": {
      "text/html": [
       "<pre>Computing final objective value and training RMSE.</pre>"
      ],
      "text/plain": [
       "Computing final objective value and training RMSE."
      ]
     },
     "metadata": {},
     "output_type": "display_data"
    },
    {
     "data": {
      "text/html": [
       "<pre>       Final objective value: 4.34013</pre>"
      ],
      "text/plain": [
       "       Final objective value: 4.34013"
      ]
     },
     "metadata": {},
     "output_type": "display_data"
    },
    {
     "data": {
      "text/html": [
       "<pre>       Final training RMSE: 2.08096</pre>"
      ],
      "text/plain": [
       "       Final training RMSE: 2.08096"
      ]
     },
     "metadata": {},
     "output_type": "display_data"
    },
    {
     "name": "stdout",
     "output_type": "stream",
     "text": [
      "\n",
      "Precision and recall summary statistics by cutoff\n",
      "+--------+---------------------+----------------------+\n",
      "| cutoff |    mean_precision   |     mean_recall      |\n",
      "+--------+---------------------+----------------------+\n",
      "|   1    | 0.10148849797023005 | 0.029954360286945373 |\n",
      "|   2    | 0.09404600811907986 | 0.04836472247654015  |\n",
      "|   3    | 0.08930987821380243 | 0.07178204416248764  |\n",
      "|   4    | 0.07848443843031123 | 0.07921805623167678  |\n",
      "|   5    | 0.06874154262516916 | 0.08330452507088636  |\n",
      "|   6    | 0.06202074875958503 |  0.0876458828587503  |\n",
      "|   7    | 0.05838005026097038 | 0.09390268882239748  |\n",
      "|   8    | 0.05463464140730717 | 0.09905013937620953  |\n",
      "|   9    | 0.05217260562321451 | 0.10595546491689263  |\n",
      "|   10   | 0.04898511502029768 | 0.10873194800427974  |\n",
      "+--------+---------------------+----------------------+\n",
      "[10 rows x 3 columns]\n",
      "\n",
      "\n",
      "Overall RMSE: 2.6066072970955165\n",
      "\n",
      "Per User RMSE (best)\n",
      "+-------------+----------------------+-------+\n",
      "|   user_id   |         rmse         | count |\n",
      "+-------------+----------------------+-------+\n",
      "| ObeyMyBrain | 0.006615033580430918 |   1   |\n",
      "+-------------+----------------------+-------+\n",
      "[1 rows x 3 columns]\n",
      "\n",
      "\n",
      "Per User RMSE (worst)\n",
      "+--------------+--------------------+-------+\n",
      "|   user_id    |        rmse        | count |\n",
      "+--------------+--------------------+-------+\n",
      "| jeremyfreese | 15.645288156514354 |   1   |\n",
      "+--------------+--------------------+-------+\n",
      "[1 rows x 3 columns]\n",
      "\n",
      "\n",
      "Per Item RMSE (best)\n",
      "+---------+-----------------------+-------+\n",
      "| game_id |          rmse         | count |\n",
      "+---------+-----------------------+-------+\n",
      "|   6689  | 0.0010395661940971745 |   1   |\n",
      "+---------+-----------------------+-------+\n",
      "[1 rows x 3 columns]\n",
      "\n",
      "\n",
      "Per Item RMSE (worst)\n",
      "+---------+-------------------+-------+\n",
      "| game_id |        rmse       | count |\n",
      "+---------+-------------------+-------+\n",
      "|  21311  | 9.448821168406964 |   1   |\n",
      "+---------+-------------------+-------+\n",
      "[1 rows x 3 columns]\n",
      "\n"
     ]
    }
   ],
   "source": [
    "training_data, validation_data = tc.recommender.util.random_split_by_user(actions, 'user_id', 'game_id')\n",
    "ml = tc.factorization_recommender.create(training_data, 'user_id', 'game_id',target='rating')\n",
    "evaluation = ml.evaluate(validation_data)"
   ]
  },
  {
   "cell_type": "code",
   "execution_count": 40,
   "metadata": {},
   "outputs": [
    {
     "data": {
      "text/html": [
       "<div style=\"max-height:1000px;max-width:1500px;overflow:auto;\"><table frame=\"box\" rules=\"cols\">\n",
       "    <tr>\n",
       "        <th style=\"padding-left: 1em; padding-right: 1em; text-align: center\">X1</th>\n",
       "        <th style=\"padding-left: 1em; padding-right: 1em; text-align: center\">game_id</th>\n",
       "        <th style=\"padding-left: 1em; padding-right: 1em; text-align: center\">user_id</th>\n",
       "        <th style=\"padding-left: 1em; padding-right: 1em; text-align: center\">rating</th>\n",
       "    </tr>\n",
       "    <tr>\n",
       "        <td style=\"padding-left: 1em; padding-right: 1em; text-align: center; vertical-align: top\">0</td>\n",
       "        <td style=\"padding-left: 1em; padding-right: 1em; text-align: center; vertical-align: top\">0</td>\n",
       "        <td style=\"padding-left: 1em; padding-right: 1em; text-align: center; vertical-align: top\">Lil Red Head</td>\n",
       "        <td style=\"padding-left: 1em; padding-right: 1em; text-align: center; vertical-align: top\">7.0</td>\n",
       "    </tr>\n",
       "    <tr>\n",
       "        <td style=\"padding-left: 1em; padding-right: 1em; text-align: center; vertical-align: top\">1</td>\n",
       "        <td style=\"padding-left: 1em; padding-right: 1em; text-align: center; vertical-align: top\">0</td>\n",
       "        <td style=\"padding-left: 1em; padding-right: 1em; text-align: center; vertical-align: top\">hsjx945</td>\n",
       "        <td style=\"padding-left: 1em; padding-right: 1em; text-align: center; vertical-align: top\">8.0</td>\n",
       "    </tr>\n",
       "    <tr>\n",
       "        <td style=\"padding-left: 1em; padding-right: 1em; text-align: center; vertical-align: top\">2</td>\n",
       "        <td style=\"padding-left: 1em; padding-right: 1em; text-align: center; vertical-align: top\">0</td>\n",
       "        <td style=\"padding-left: 1em; padding-right: 1em; text-align: center; vertical-align: top\">RuffRyder</td>\n",
       "        <td style=\"padding-left: 1em; padding-right: 1em; text-align: center; vertical-align: top\">0.0</td>\n",
       "    </tr>\n",
       "    <tr>\n",
       "        <td style=\"padding-left: 1em; padding-right: 1em; text-align: center; vertical-align: top\">3</td>\n",
       "        <td style=\"padding-left: 1em; padding-right: 1em; text-align: center; vertical-align: top\">0</td>\n",
       "        <td style=\"padding-left: 1em; padding-right: 1em; text-align: center; vertical-align: top\">SkywalterDBZ</td>\n",
       "        <td style=\"padding-left: 1em; padding-right: 1em; text-align: center; vertical-align: top\">7.0</td>\n",
       "    </tr>\n",
       "    <tr>\n",
       "        <td style=\"padding-left: 1em; padding-right: 1em; text-align: center; vertical-align: top\">4</td>\n",
       "        <td style=\"padding-left: 1em; padding-right: 1em; text-align: center; vertical-align: top\">0</td>\n",
       "        <td style=\"padding-left: 1em; padding-right: 1em; text-align: center; vertical-align: top\">Olmestig</td>\n",
       "        <td style=\"padding-left: 1em; padding-right: 1em; text-align: center; vertical-align: top\">8.0</td>\n",
       "    </tr>\n",
       "    <tr>\n",
       "        <td style=\"padding-left: 1em; padding-right: 1em; text-align: center; vertical-align: top\">5</td>\n",
       "        <td style=\"padding-left: 1em; padding-right: 1em; text-align: center; vertical-align: top\">0</td>\n",
       "        <td style=\"padding-left: 1em; padding-right: 1em; text-align: center; vertical-align: top\">grassquit</td>\n",
       "        <td style=\"padding-left: 1em; padding-right: 1em; text-align: center; vertical-align: top\">9.0</td>\n",
       "    </tr>\n",
       "    <tr>\n",
       "        <td style=\"padding-left: 1em; padding-right: 1em; text-align: center; vertical-align: top\">6</td>\n",
       "        <td style=\"padding-left: 1em; padding-right: 1em; text-align: center; vertical-align: top\">0</td>\n",
       "        <td style=\"padding-left: 1em; padding-right: 1em; text-align: center; vertical-align: top\">erzengel</td>\n",
       "        <td style=\"padding-left: 1em; padding-right: 1em; text-align: center; vertical-align: top\">0.0</td>\n",
       "    </tr>\n",
       "    <tr>\n",
       "        <td style=\"padding-left: 1em; padding-right: 1em; text-align: center; vertical-align: top\">7</td>\n",
       "        <td style=\"padding-left: 1em; padding-right: 1em; text-align: center; vertical-align: top\">0</td>\n",
       "        <td style=\"padding-left: 1em; padding-right: 1em; text-align: center; vertical-align: top\">Feeble</td>\n",
       "        <td style=\"padding-left: 1em; padding-right: 1em; text-align: center; vertical-align: top\">0.0</td>\n",
       "    </tr>\n",
       "    <tr>\n",
       "        <td style=\"padding-left: 1em; padding-right: 1em; text-align: center; vertical-align: top\">8</td>\n",
       "        <td style=\"padding-left: 1em; padding-right: 1em; text-align: center; vertical-align: top\">0</td>\n",
       "        <td style=\"padding-left: 1em; padding-right: 1em; text-align: center; vertical-align: top\">thisisadamj</td>\n",
       "        <td style=\"padding-left: 1em; padding-right: 1em; text-align: center; vertical-align: top\">0.0</td>\n",
       "    </tr>\n",
       "    <tr>\n",
       "        <td style=\"padding-left: 1em; padding-right: 1em; text-align: center; vertical-align: top\">9</td>\n",
       "        <td style=\"padding-left: 1em; padding-right: 1em; text-align: center; vertical-align: top\">0</td>\n",
       "        <td style=\"padding-left: 1em; padding-right: 1em; text-align: center; vertical-align: top\">Tiberiusfox</td>\n",
       "        <td style=\"padding-left: 1em; padding-right: 1em; text-align: center; vertical-align: top\">9.0</td>\n",
       "    </tr>\n",
       "</table>\n",
       "[10 rows x 4 columns]<br/>\n",
       "</div>"
      ],
      "text/plain": [
       "Columns:\n",
       "\tX1\tint\n",
       "\tgame_id\tint\n",
       "\tuser_id\tstr\n",
       "\trating\tfloat\n",
       "\n",
       "Rows: 10\n",
       "\n",
       "Data:\n",
       "+----+---------+--------------+--------+\n",
       "| X1 | game_id |   user_id    | rating |\n",
       "+----+---------+--------------+--------+\n",
       "| 0  |    0    | Lil Red Head |  7.0   |\n",
       "| 1  |    0    |   hsjx945    |  8.0   |\n",
       "| 2  |    0    |  RuffRyder   |  0.0   |\n",
       "| 3  |    0    | SkywalterDBZ |  7.0   |\n",
       "| 4  |    0    |   Olmestig   |  8.0   |\n",
       "| 5  |    0    |  grassquit   |  9.0   |\n",
       "| 6  |    0    |   erzengel   |  0.0   |\n",
       "| 7  |    0    |    Feeble    |  0.0   |\n",
       "| 8  |    0    | thisisadamj  |  0.0   |\n",
       "| 9  |    0    | Tiberiusfox  |  9.0   |\n",
       "+----+---------+--------------+--------+\n",
       "[10 rows x 4 columns]"
      ]
     },
     "execution_count": 40,
     "metadata": {},
     "output_type": "execute_result"
    }
   ],
   "source": [
    "actions.head()\n"
   ]
  },
  {
   "cell_type": "code",
   "execution_count": 46,
   "metadata": {},
   "outputs": [
    {
     "data": {
      "text/html": [
       "<pre>Warning: Ignoring columns X1;</pre>"
      ],
      "text/plain": [
       "Warning: Ignoring columns X1;"
      ]
     },
     "metadata": {},
     "output_type": "display_data"
    },
    {
     "data": {
      "text/html": [
       "<pre>    To use these columns in scoring predictions, use a model that allows the use of additional features.</pre>"
      ],
      "text/plain": [
       "    To use these columns in scoring predictions, use a model that allows the use of additional features."
      ]
     },
     "metadata": {},
     "output_type": "display_data"
    },
    {
     "data": {
      "text/html": [
       "<pre>Preparing data set.</pre>"
      ],
      "text/plain": [
       "Preparing data set."
      ]
     },
     "metadata": {},
     "output_type": "display_data"
    },
    {
     "data": {
      "text/html": [
       "<pre>    Data has 12356262 observations with 403779 users and 21702 items.</pre>"
      ],
      "text/plain": [
       "    Data has 12356262 observations with 403779 users and 21702 items."
      ]
     },
     "metadata": {},
     "output_type": "display_data"
    },
    {
     "data": {
      "text/html": [
       "<pre>    Data prepared in: 16.8618s</pre>"
      ],
      "text/plain": [
       "    Data prepared in: 16.8618s"
      ]
     },
     "metadata": {},
     "output_type": "display_data"
    },
    {
     "data": {
      "text/html": [
       "<pre>Training model from provided data.</pre>"
      ],
      "text/plain": [
       "Training model from provided data."
      ]
     },
     "metadata": {},
     "output_type": "display_data"
    },
    {
     "data": {
      "text/html": [
       "<pre>Gathering per-item and per-user statistics.</pre>"
      ],
      "text/plain": [
       "Gathering per-item and per-user statistics."
      ]
     },
     "metadata": {},
     "output_type": "display_data"
    },
    {
     "data": {
      "text/html": [
       "<pre>+--------------------------------+------------+</pre>"
      ],
      "text/plain": [
       "+--------------------------------+------------+"
      ]
     },
     "metadata": {},
     "output_type": "display_data"
    },
    {
     "data": {
      "text/html": [
       "<pre>| Elapsed Time (Item Statistics) | % Complete |</pre>"
      ],
      "text/plain": [
       "| Elapsed Time (Item Statistics) | % Complete |"
      ]
     },
     "metadata": {},
     "output_type": "display_data"
    },
    {
     "data": {
      "text/html": [
       "<pre>+--------------------------------+------------+</pre>"
      ],
      "text/plain": [
       "+--------------------------------+------------+"
      ]
     },
     "metadata": {},
     "output_type": "display_data"
    },
    {
     "data": {
      "text/html": [
       "<pre>| 49.14ms                        | 0          |</pre>"
      ],
      "text/plain": [
       "| 49.14ms                        | 0          |"
      ]
     },
     "metadata": {},
     "output_type": "display_data"
    },
    {
     "data": {
      "text/html": [
       "<pre>| 578.882ms                      | 100        |</pre>"
      ],
      "text/plain": [
       "| 578.882ms                      | 100        |"
      ]
     },
     "metadata": {},
     "output_type": "display_data"
    },
    {
     "data": {
      "text/html": [
       "<pre>+--------------------------------+------------+</pre>"
      ],
      "text/plain": [
       "+--------------------------------+------------+"
      ]
     },
     "metadata": {},
     "output_type": "display_data"
    },
    {
     "data": {
      "text/html": [
       "<pre>Setting up lookup tables.</pre>"
      ],
      "text/plain": [
       "Setting up lookup tables."
      ]
     },
     "metadata": {},
     "output_type": "display_data"
    },
    {
     "data": {
      "text/html": [
       "<pre>Processing data in one pass using dense lookup tables.</pre>"
      ],
      "text/plain": [
       "Processing data in one pass using dense lookup tables."
      ]
     },
     "metadata": {},
     "output_type": "display_data"
    },
    {
     "data": {
      "text/html": [
       "<pre>+-------------------------------------+------------------+-----------------+</pre>"
      ],
      "text/plain": [
       "+-------------------------------------+------------------+-----------------+"
      ]
     },
     "metadata": {},
     "output_type": "display_data"
    },
    {
     "data": {
      "text/html": [
       "<pre>| Elapsed Time (Constructing Lookups) | Total % Complete | Items Processed |</pre>"
      ],
      "text/plain": [
       "| Elapsed Time (Constructing Lookups) | Total % Complete | Items Processed |"
      ]
     },
     "metadata": {},
     "output_type": "display_data"
    },
    {
     "data": {
      "text/html": [
       "<pre>+-------------------------------------+------------------+-----------------+</pre>"
      ],
      "text/plain": [
       "+-------------------------------------+------------------+-----------------+"
      ]
     },
     "metadata": {},
     "output_type": "display_data"
    },
    {
     "data": {
      "text/html": [
       "<pre>| 3.14s                               | 0                | 0               |</pre>"
      ],
      "text/plain": [
       "| 3.14s                               | 0                | 0               |"
      ]
     },
     "metadata": {},
     "output_type": "display_data"
    },
    {
     "data": {
      "text/html": [
       "<pre>| 6.15s                               | 8                | 1743            |</pre>"
      ],
      "text/plain": [
       "| 6.15s                               | 8                | 1743            |"
      ]
     },
     "metadata": {},
     "output_type": "display_data"
    },
    {
     "data": {
      "text/html": [
       "<pre>| 9.16s                               | 16               | 3515            |</pre>"
      ],
      "text/plain": [
       "| 9.16s                               | 16               | 3515            |"
      ]
     },
     "metadata": {},
     "output_type": "display_data"
    },
    {
     "data": {
      "text/html": [
       "<pre>| 12.18s                              | 23.75            | 5195            |</pre>"
      ],
      "text/plain": [
       "| 12.18s                              | 23.75            | 5195            |"
      ]
     },
     "metadata": {},
     "output_type": "display_data"
    },
    {
     "data": {
      "text/html": [
       "<pre>| 15.22s                              | 32.5             | 7074            |</pre>"
      ],
      "text/plain": [
       "| 15.22s                              | 32.5             | 7074            |"
      ]
     },
     "metadata": {},
     "output_type": "display_data"
    },
    {
     "data": {
      "text/html": [
       "<pre>| 18.20s                              | 41.5             | 9047            |</pre>"
      ],
      "text/plain": [
       "| 18.20s                              | 41.5             | 9047            |"
      ]
     },
     "metadata": {},
     "output_type": "display_data"
    },
    {
     "data": {
      "text/html": [
       "<pre>| 21.21s                              | 50               | 10894           |</pre>"
      ],
      "text/plain": [
       "| 21.21s                              | 50               | 10894           |"
      ]
     },
     "metadata": {},
     "output_type": "display_data"
    },
    {
     "data": {
      "text/html": [
       "<pre>| 24.23s                              | 63.25            | 13739           |</pre>"
      ],
      "text/plain": [
       "| 24.23s                              | 63.25            | 13739           |"
      ]
     },
     "metadata": {},
     "output_type": "display_data"
    },
    {
     "data": {
      "text/html": [
       "<pre>| 27.23s                              | 70.25            | 15249           |</pre>"
      ],
      "text/plain": [
       "| 27.23s                              | 70.25            | 15249           |"
      ]
     },
     "metadata": {},
     "output_type": "display_data"
    },
    {
     "data": {
      "text/html": [
       "<pre>| 30.25s                              | 76.75            | 16677           |</pre>"
      ],
      "text/plain": [
       "| 30.25s                              | 76.75            | 16677           |"
      ]
     },
     "metadata": {},
     "output_type": "display_data"
    },
    {
     "data": {
      "text/html": [
       "<pre>| 33.26s                              | 80.75            | 17569           |</pre>"
      ],
      "text/plain": [
       "| 33.26s                              | 80.75            | 17569           |"
      ]
     },
     "metadata": {},
     "output_type": "display_data"
    },
    {
     "data": {
      "text/html": [
       "<pre>| 36.27s                              | 86               | 18707           |</pre>"
      ],
      "text/plain": [
       "| 36.27s                              | 86               | 18707           |"
      ]
     },
     "metadata": {},
     "output_type": "display_data"
    },
    {
     "data": {
      "text/html": [
       "<pre>| 39.28s                              | 91.75            | 19917           |</pre>"
      ],
      "text/plain": [
       "| 39.28s                              | 91.75            | 19917           |"
      ]
     },
     "metadata": {},
     "output_type": "display_data"
    },
    {
     "data": {
      "text/html": [
       "<pre>| 42.29s                              | 96.5             | 20989           |</pre>"
      ],
      "text/plain": [
       "| 42.29s                              | 96.5             | 20989           |"
      ]
     },
     "metadata": {},
     "output_type": "display_data"
    },
    {
     "data": {
      "text/html": [
       "<pre>| 49.55s                              | 100              | 21702           |</pre>"
      ],
      "text/plain": [
       "| 49.55s                              | 100              | 21702           |"
      ]
     },
     "metadata": {},
     "output_type": "display_data"
    },
    {
     "data": {
      "text/html": [
       "<pre>+-------------------------------------+------------------+-----------------+</pre>"
      ],
      "text/plain": [
       "+-------------------------------------+------------------+-----------------+"
      ]
     },
     "metadata": {},
     "output_type": "display_data"
    },
    {
     "data": {
      "text/html": [
       "<pre>Finalizing lookup tables.</pre>"
      ],
      "text/plain": [
       "Finalizing lookup tables."
      ]
     },
     "metadata": {},
     "output_type": "display_data"
    },
    {
     "data": {
      "text/html": [
       "<pre>Generating candidate set for working with new users.</pre>"
      ],
      "text/plain": [
       "Generating candidate set for working with new users."
      ]
     },
     "metadata": {},
     "output_type": "display_data"
    },
    {
     "data": {
      "text/html": [
       "<pre>Finished training in 50.4311s</pre>"
      ],
      "text/plain": [
       "Finished training in 50.4311s"
      ]
     },
     "metadata": {},
     "output_type": "display_data"
    }
   ],
   "source": [
    "#recommendations = ml.recommend(users=['ce'],items=['3'])\n",
    "\n",
    "m = tc.item_similarity_recommender.create(actions,'user_id','game_id',target='rating',similarity_type='cosine')\n",
    "\n"
   ]
  },
  {
   "cell_type": "code",
   "execution_count": 53,
   "metadata": {},
   "outputs": [
    {
     "data": {
      "text/html": [
       "<div style=\"max-height:1000px;max-width:1500px;overflow:auto;\"><table frame=\"box\" rules=\"cols\">\n",
       "    <tr>\n",
       "        <th style=\"padding-left: 1em; padding-right: 1em; text-align: center\">game_id</th>\n",
       "        <th style=\"padding-left: 1em; padding-right: 1em; text-align: center\">similar</th>\n",
       "        <th style=\"padding-left: 1em; padding-right: 1em; text-align: center\">score</th>\n",
       "        <th style=\"padding-left: 1em; padding-right: 1em; text-align: center\">rank</th>\n",
       "    </tr>\n",
       "    <tr>\n",
       "        <td style=\"padding-left: 1em; padding-right: 1em; text-align: center; vertical-align: top\">0</td>\n",
       "        <td style=\"padding-left: 1em; padding-right: 1em; text-align: center; vertical-align: top\">3683</td>\n",
       "        <td style=\"padding-left: 1em; padding-right: 1em; text-align: center; vertical-align: top\">0.39362555742263794</td>\n",
       "        <td style=\"padding-left: 1em; padding-right: 1em; text-align: center; vertical-align: top\">1</td>\n",
       "    </tr>\n",
       "    <tr>\n",
       "        <td style=\"padding-left: 1em; padding-right: 1em; text-align: center; vertical-align: top\">0</td>\n",
       "        <td style=\"padding-left: 1em; padding-right: 1em; text-align: center; vertical-align: top\">8427</td>\n",
       "        <td style=\"padding-left: 1em; padding-right: 1em; text-align: center; vertical-align: top\">0.3672316074371338</td>\n",
       "        <td style=\"padding-left: 1em; padding-right: 1em; text-align: center; vertical-align: top\">2</td>\n",
       "    </tr>\n",
       "    <tr>\n",
       "        <td style=\"padding-left: 1em; padding-right: 1em; text-align: center; vertical-align: top\">0</td>\n",
       "        <td style=\"padding-left: 1em; padding-right: 1em; text-align: center; vertical-align: top\">414</td>\n",
       "        <td style=\"padding-left: 1em; padding-right: 1em; text-align: center; vertical-align: top\">0.36566251516342163</td>\n",
       "        <td style=\"padding-left: 1em; padding-right: 1em; text-align: center; vertical-align: top\">3</td>\n",
       "    </tr>\n",
       "    <tr>\n",
       "        <td style=\"padding-left: 1em; padding-right: 1em; text-align: center; vertical-align: top\">0</td>\n",
       "        <td style=\"padding-left: 1em; padding-right: 1em; text-align: center; vertical-align: top\">485</td>\n",
       "        <td style=\"padding-left: 1em; padding-right: 1em; text-align: center; vertical-align: top\">0.35234397649765015</td>\n",
       "        <td style=\"padding-left: 1em; padding-right: 1em; text-align: center; vertical-align: top\">4</td>\n",
       "    </tr>\n",
       "    <tr>\n",
       "        <td style=\"padding-left: 1em; padding-right: 1em; text-align: center; vertical-align: top\">0</td>\n",
       "        <td style=\"padding-left: 1em; padding-right: 1em; text-align: center; vertical-align: top\">4890</td>\n",
       "        <td style=\"padding-left: 1em; padding-right: 1em; text-align: center; vertical-align: top\">0.35048937797546387</td>\n",
       "        <td style=\"padding-left: 1em; padding-right: 1em; text-align: center; vertical-align: top\">5</td>\n",
       "    </tr>\n",
       "    <tr>\n",
       "        <td style=\"padding-left: 1em; padding-right: 1em; text-align: center; vertical-align: top\">3259</td>\n",
       "        <td style=\"padding-left: 1em; padding-right: 1em; text-align: center; vertical-align: top\">6107</td>\n",
       "        <td style=\"padding-left: 1em; padding-right: 1em; text-align: center; vertical-align: top\">0.2073848843574524</td>\n",
       "        <td style=\"padding-left: 1em; padding-right: 1em; text-align: center; vertical-align: top\">1</td>\n",
       "    </tr>\n",
       "    <tr>\n",
       "        <td style=\"padding-left: 1em; padding-right: 1em; text-align: center; vertical-align: top\">3259</td>\n",
       "        <td style=\"padding-left: 1em; padding-right: 1em; text-align: center; vertical-align: top\">2404</td>\n",
       "        <td style=\"padding-left: 1em; padding-right: 1em; text-align: center; vertical-align: top\">0.1597203016281128</td>\n",
       "        <td style=\"padding-left: 1em; padding-right: 1em; text-align: center; vertical-align: top\">2</td>\n",
       "    </tr>\n",
       "    <tr>\n",
       "        <td style=\"padding-left: 1em; padding-right: 1em; text-align: center; vertical-align: top\">3259</td>\n",
       "        <td style=\"padding-left: 1em; padding-right: 1em; text-align: center; vertical-align: top\">6149</td>\n",
       "        <td style=\"padding-left: 1em; padding-right: 1em; text-align: center; vertical-align: top\">0.15939772129058838</td>\n",
       "        <td style=\"padding-left: 1em; padding-right: 1em; text-align: center; vertical-align: top\">3</td>\n",
       "    </tr>\n",
       "    <tr>\n",
       "        <td style=\"padding-left: 1em; padding-right: 1em; text-align: center; vertical-align: top\">3259</td>\n",
       "        <td style=\"padding-left: 1em; padding-right: 1em; text-align: center; vertical-align: top\">198</td>\n",
       "        <td style=\"padding-left: 1em; padding-right: 1em; text-align: center; vertical-align: top\">0.14657926559448242</td>\n",
       "        <td style=\"padding-left: 1em; padding-right: 1em; text-align: center; vertical-align: top\">4</td>\n",
       "    </tr>\n",
       "    <tr>\n",
       "        <td style=\"padding-left: 1em; padding-right: 1em; text-align: center; vertical-align: top\">3259</td>\n",
       "        <td style=\"padding-left: 1em; padding-right: 1em; text-align: center; vertical-align: top\">67</td>\n",
       "        <td style=\"padding-left: 1em; padding-right: 1em; text-align: center; vertical-align: top\">0.14644795656204224</td>\n",
       "        <td style=\"padding-left: 1em; padding-right: 1em; text-align: center; vertical-align: top\">5</td>\n",
       "    </tr>\n",
       "</table>\n",
       "[97036 rows x 4 columns]<br/>Note: Only the head of the SFrame is printed.<br/>You can use print_rows(num_rows=m, num_columns=n) to print more rows and columns.\n",
       "</div>"
      ],
      "text/plain": [
       "Columns:\n",
       "\tgame_id\tint\n",
       "\tsimilar\tint\n",
       "\tscore\tfloat\n",
       "\trank\tint\n",
       "\n",
       "Rows: 97036\n",
       "\n",
       "Data:\n",
       "+---------+---------+---------------------+------+\n",
       "| game_id | similar |        score        | rank |\n",
       "+---------+---------+---------------------+------+\n",
       "|    0    |   3683  | 0.39362555742263794 |  1   |\n",
       "|    0    |   8427  |  0.3672316074371338 |  2   |\n",
       "|    0    |   414   | 0.36566251516342163 |  3   |\n",
       "|    0    |   485   | 0.35234397649765015 |  4   |\n",
       "|    0    |   4890  | 0.35048937797546387 |  5   |\n",
       "|   3259  |   6107  |  0.2073848843574524 |  1   |\n",
       "|   3259  |   2404  |  0.1597203016281128 |  2   |\n",
       "|   3259  |   6149  | 0.15939772129058838 |  3   |\n",
       "|   3259  |   198   | 0.14657926559448242 |  4   |\n",
       "|   3259  |    67   | 0.14644795656204224 |  5   |\n",
       "+---------+---------+---------------------+------+\n",
       "[97036 rows x 4 columns]\n",
       "Note: Only the head of the SFrame is printed.\n",
       "You can use print_rows(num_rows=m, num_columns=n) to print more rows and columns."
      ]
     },
     "execution_count": 53,
     "metadata": {},
     "output_type": "execute_result"
    }
   ],
   "source": [
    "\n",
    "similar_items = m.get_similar_items(k=5)\n",
    "similar_items"
   ]
  },
  {
   "cell_type": "code",
   "execution_count": 89,
   "metadata": {},
   "outputs": [],
   "source": [
    "new_obs_data = tc.SFrame({'user_id' : ['chai', 'chai'],\n",
    "                                'game_id' : ['13927', '2009']})\n",
    "recommendations = m.recommend(['chai'], new_observation_data = new_obs_data)\n",
    "\n",
    "#my_list_of_items=['6689','21311']\n",
    "#m.recommend(my_list_of_items)"
   ]
  },
  {
   "cell_type": "code",
   "execution_count": 90,
   "metadata": {},
   "outputs": [
    {
     "data": {
      "text/html": [
       "<div style=\"max-height:1000px;max-width:1500px;overflow:auto;\"><table frame=\"box\" rules=\"cols\">\n",
       "    <tr>\n",
       "        <th style=\"padding-left: 1em; padding-right: 1em; text-align: center\">user_id</th>\n",
       "        <th style=\"padding-left: 1em; padding-right: 1em; text-align: center\">game_id</th>\n",
       "        <th style=\"padding-left: 1em; padding-right: 1em; text-align: center\">score</th>\n",
       "        <th style=\"padding-left: 1em; padding-right: 1em; text-align: center\">rank</th>\n",
       "    </tr>\n",
       "    <tr>\n",
       "        <td style=\"padding-left: 1em; padding-right: 1em; text-align: center; vertical-align: top\">chai</td>\n",
       "        <td style=\"padding-left: 1em; padding-right: 1em; text-align: center; vertical-align: top\">720</td>\n",
       "        <td style=\"padding-left: 1em; padding-right: 1em; text-align: center; vertical-align: top\">0.23408204913139344</td>\n",
       "        <td style=\"padding-left: 1em; padding-right: 1em; text-align: center; vertical-align: top\">1</td>\n",
       "    </tr>\n",
       "    <tr>\n",
       "        <td style=\"padding-left: 1em; padding-right: 1em; text-align: center; vertical-align: top\">chai</td>\n",
       "        <td style=\"padding-left: 1em; padding-right: 1em; text-align: center; vertical-align: top\">2342</td>\n",
       "        <td style=\"padding-left: 1em; padding-right: 1em; text-align: center; vertical-align: top\">0.2317007315158844</td>\n",
       "        <td style=\"padding-left: 1em; padding-right: 1em; text-align: center; vertical-align: top\">2</td>\n",
       "    </tr>\n",
       "    <tr>\n",
       "        <td style=\"padding-left: 1em; padding-right: 1em; text-align: center; vertical-align: top\">chai</td>\n",
       "        <td style=\"padding-left: 1em; padding-right: 1em; text-align: center; vertical-align: top\">2738</td>\n",
       "        <td style=\"padding-left: 1em; padding-right: 1em; text-align: center; vertical-align: top\">0.23150307059288025</td>\n",
       "        <td style=\"padding-left: 1em; padding-right: 1em; text-align: center; vertical-align: top\">3</td>\n",
       "    </tr>\n",
       "    <tr>\n",
       "        <td style=\"padding-left: 1em; padding-right: 1em; text-align: center; vertical-align: top\">chai</td>\n",
       "        <td style=\"padding-left: 1em; padding-right: 1em; text-align: center; vertical-align: top\">12</td>\n",
       "        <td style=\"padding-left: 1em; padding-right: 1em; text-align: center; vertical-align: top\">0.23113720893859863</td>\n",
       "        <td style=\"padding-left: 1em; padding-right: 1em; text-align: center; vertical-align: top\">4</td>\n",
       "    </tr>\n",
       "    <tr>\n",
       "        <td style=\"padding-left: 1em; padding-right: 1em; text-align: center; vertical-align: top\">chai</td>\n",
       "        <td style=\"padding-left: 1em; padding-right: 1em; text-align: center; vertical-align: top\">417</td>\n",
       "        <td style=\"padding-left: 1em; padding-right: 1em; text-align: center; vertical-align: top\">0.21986159324645996</td>\n",
       "        <td style=\"padding-left: 1em; padding-right: 1em; text-align: center; vertical-align: top\">5</td>\n",
       "    </tr>\n",
       "    <tr>\n",
       "        <td style=\"padding-left: 1em; padding-right: 1em; text-align: center; vertical-align: top\">chai</td>\n",
       "        <td style=\"padding-left: 1em; padding-right: 1em; text-align: center; vertical-align: top\">8422</td>\n",
       "        <td style=\"padding-left: 1em; padding-right: 1em; text-align: center; vertical-align: top\">0.21902016043663025</td>\n",
       "        <td style=\"padding-left: 1em; padding-right: 1em; text-align: center; vertical-align: top\">6</td>\n",
       "    </tr>\n",
       "    <tr>\n",
       "        <td style=\"padding-left: 1em; padding-right: 1em; text-align: center; vertical-align: top\">chai</td>\n",
       "        <td style=\"padding-left: 1em; padding-right: 1em; text-align: center; vertical-align: top\">10</td>\n",
       "        <td style=\"padding-left: 1em; padding-right: 1em; text-align: center; vertical-align: top\">0.2186650538444519</td>\n",
       "        <td style=\"padding-left: 1em; padding-right: 1em; text-align: center; vertical-align: top\">7</td>\n",
       "    </tr>\n",
       "    <tr>\n",
       "        <td style=\"padding-left: 1em; padding-right: 1em; text-align: center; vertical-align: top\">chai</td>\n",
       "        <td style=\"padding-left: 1em; padding-right: 1em; text-align: center; vertical-align: top\">47</td>\n",
       "        <td style=\"padding-left: 1em; padding-right: 1em; text-align: center; vertical-align: top\">0.21175797462463378</td>\n",
       "        <td style=\"padding-left: 1em; padding-right: 1em; text-align: center; vertical-align: top\">8</td>\n",
       "    </tr>\n",
       "    <tr>\n",
       "        <td style=\"padding-left: 1em; padding-right: 1em; text-align: center; vertical-align: top\">chai</td>\n",
       "        <td style=\"padding-left: 1em; padding-right: 1em; text-align: center; vertical-align: top\">5686</td>\n",
       "        <td style=\"padding-left: 1em; padding-right: 1em; text-align: center; vertical-align: top\">0.20678720831871034</td>\n",
       "        <td style=\"padding-left: 1em; padding-right: 1em; text-align: center; vertical-align: top\">9</td>\n",
       "    </tr>\n",
       "    <tr>\n",
       "        <td style=\"padding-left: 1em; padding-right: 1em; text-align: center; vertical-align: top\">chai</td>\n",
       "        <td style=\"padding-left: 1em; padding-right: 1em; text-align: center; vertical-align: top\">39</td>\n",
       "        <td style=\"padding-left: 1em; padding-right: 1em; text-align: center; vertical-align: top\">0.20372353315353395</td>\n",
       "        <td style=\"padding-left: 1em; padding-right: 1em; text-align: center; vertical-align: top\">10</td>\n",
       "    </tr>\n",
       "</table>\n",
       "[10 rows x 4 columns]<br/>\n",
       "</div>"
      ],
      "text/plain": [
       "Columns:\n",
       "\tuser_id\tstr\n",
       "\tgame_id\tint\n",
       "\tscore\tfloat\n",
       "\trank\tint\n",
       "\n",
       "Rows: 10\n",
       "\n",
       "Data:\n",
       "+---------+---------+---------------------+------+\n",
       "| user_id | game_id |        score        | rank |\n",
       "+---------+---------+---------------------+------+\n",
       "|   chai  |   720   | 0.23408204913139344 |  1   |\n",
       "|   chai  |   2342  |  0.2317007315158844 |  2   |\n",
       "|   chai  |   2738  | 0.23150307059288025 |  3   |\n",
       "|   chai  |    12   | 0.23113720893859863 |  4   |\n",
       "|   chai  |   417   | 0.21986159324645996 |  5   |\n",
       "|   chai  |   8422  | 0.21902016043663025 |  6   |\n",
       "|   chai  |    10   |  0.2186650538444519 |  7   |\n",
       "|   chai  |    47   | 0.21175797462463378 |  8   |\n",
       "|   chai  |   5686  | 0.20678720831871034 |  9   |\n",
       "|   chai  |    39   | 0.20372353315353395 |  10  |\n",
       "+---------+---------+---------------------+------+\n",
       "[10 rows x 4 columns]"
      ]
     },
     "execution_count": 90,
     "metadata": {},
     "output_type": "execute_result"
    }
   ],
   "source": [
    "recommendations"
   ]
  },
  {
   "cell_type": "code",
   "execution_count": 91,
   "metadata": {},
   "outputs": [],
   "source": [
    "m.save('game_rec')"
   ]
  },
  {
   "cell_type": "code",
   "execution_count": null,
   "metadata": {},
   "outputs": [],
   "source": []
  },
  {
   "cell_type": "code",
   "execution_count": null,
   "metadata": {},
   "outputs": [],
   "source": []
  },
  {
   "cell_type": "code",
   "execution_count": null,
   "metadata": {},
   "outputs": [],
   "source": []
  },
  {
   "cell_type": "code",
   "execution_count": null,
   "metadata": {},
   "outputs": [],
   "source": []
  },
  {
   "cell_type": "code",
   "execution_count": null,
   "metadata": {},
   "outputs": [],
   "source": []
  }
 ],
 "metadata": {
  "kernelspec": {
   "display_name": "Python 3",
   "language": "python",
   "name": "python3"
  },
  "language_info": {
   "codemirror_mode": {
    "name": "ipython",
    "version": 3
   },
   "file_extension": ".py",
   "mimetype": "text/x-python",
   "name": "python",
   "nbconvert_exporter": "python",
   "pygments_lexer": "ipython3",
   "version": "3.6.9"
  }
 },
 "nbformat": 4,
 "nbformat_minor": 4
}
