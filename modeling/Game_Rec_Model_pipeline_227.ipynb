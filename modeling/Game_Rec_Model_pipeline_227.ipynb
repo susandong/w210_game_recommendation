{
 "cells": [
  {
   "cell_type": "markdown",
   "metadata": {},
   "source": [
    "## Modeling Pipeline :\n",
    "* 1.use item similarity to overcome cold start issue\n",
    "* 2.pipeline: train model, save model, import new user data, load model for recommendation, output recommendation, "
   ]
  },
  {
   "cell_type": "code",
   "execution_count": 327,
   "metadata": {},
   "outputs": [],
   "source": [
    "import boto3\n",
    "import pickle\n",
    "import h5py\n",
    "import tables\n",
    "import numpy as np\n",
    "import pandas as pd\n",
    "import sklearn\n",
    "import caserec\n",
    "import json"
   ]
  },
  {
   "cell_type": "code",
   "execution_count": 328,
   "metadata": {},
   "outputs": [],
   "source": [
    "import turicreate as tc"
   ]
  },
  {
   "cell_type": "code",
   "execution_count": 329,
   "metadata": {},
   "outputs": [
    {
     "data": {
      "text/html": [
       "<pre>Finished parsing file /Users/shujdong/w210_game_recommendation_local/modeling/training_data_3column_750.csv</pre>"
      ],
      "text/plain": [
       "Finished parsing file /Users/shujdong/w210_game_recommendation_local/modeling/training_data_3column_750.csv"
      ]
     },
     "metadata": {},
     "output_type": "display_data"
    },
    {
     "data": {
      "text/html": [
       "<pre>Parsing completed. Parsed 100 lines in 2.28271 secs.</pre>"
      ],
      "text/plain": [
       "Parsing completed. Parsed 100 lines in 2.28271 secs."
      ]
     },
     "metadata": {},
     "output_type": "display_data"
    },
    {
     "name": "stdout",
     "output_type": "stream",
     "text": [
      "------------------------------------------------------\n",
      "Inferred types from first 100 line(s) of file as \n",
      "column_type_hints=[int,int,str,float]\n",
      "If parsing fails due to incorrect types, you can correct\n",
      "the inferred type list above and pass it to read_csv in\n",
      "the column_type_hints argument\n",
      "------------------------------------------------------\n"
     ]
    },
    {
     "data": {
      "text/html": [
       "<pre>Read 2112641 lines. Lines per second: 788393</pre>"
      ],
      "text/plain": [
       "Read 2112641 lines. Lines per second: 788393"
      ]
     },
     "metadata": {},
     "output_type": "display_data"
    },
    {
     "data": {
      "text/html": [
       "<pre>Read 11703304 lines. Lines per second: 1.53387e+06</pre>"
      ],
      "text/plain": [
       "Read 11703304 lines. Lines per second: 1.53387e+06"
      ]
     },
     "metadata": {},
     "output_type": "display_data"
    },
    {
     "data": {
      "text/html": [
       "<pre>Read 22467246 lines. Lines per second: 1.75748e+06</pre>"
      ],
      "text/plain": [
       "Read 22467246 lines. Lines per second: 1.75748e+06"
      ]
     },
     "metadata": {},
     "output_type": "display_data"
    },
    {
     "data": {
      "text/html": [
       "<pre>Read 31209643 lines. Lines per second: 1.74568e+06</pre>"
      ],
      "text/plain": [
       "Read 31209643 lines. Lines per second: 1.74568e+06"
      ]
     },
     "metadata": {},
     "output_type": "display_data"
    },
    {
     "data": {
      "text/html": [
       "<pre>Read 38203887 lines. Lines per second: 1.66047e+06</pre>"
      ],
      "text/plain": [
       "Read 38203887 lines. Lines per second: 1.66047e+06"
      ]
     },
     "metadata": {},
     "output_type": "display_data"
    },
    {
     "data": {
      "text/html": [
       "<pre>Finished parsing file /Users/shujdong/w210_game_recommendation_local/modeling/training_data_3column_750.csv</pre>"
      ],
      "text/plain": [
       "Finished parsing file /Users/shujdong/w210_game_recommendation_local/modeling/training_data_3column_750.csv"
      ]
     },
     "metadata": {},
     "output_type": "display_data"
    },
    {
     "data": {
      "text/html": [
       "<pre>Parsing completed. Parsed 40096849 lines in 23.7351 secs.</pre>"
      ],
      "text/plain": [
       "Parsing completed. Parsed 40096849 lines in 23.7351 secs."
      ]
     },
     "metadata": {},
     "output_type": "display_data"
    },
    {
     "data": {
      "text/html": [
       "<pre>Finished parsing file /Users/shujdong/w210_game_recommendation_local/modeling/game_info_750.csv</pre>"
      ],
      "text/plain": [
       "Finished parsing file /Users/shujdong/w210_game_recommendation_local/modeling/game_info_750.csv"
      ]
     },
     "metadata": {},
     "output_type": "display_data"
    },
    {
     "data": {
      "text/html": [
       "<pre>Parsing completed. Parsed 100 lines in 0.053312 secs.</pre>"
      ],
      "text/plain": [
       "Parsing completed. Parsed 100 lines in 0.053312 secs."
      ]
     },
     "metadata": {},
     "output_type": "display_data"
    },
    {
     "name": "stdout",
     "output_type": "stream",
     "text": [
      "------------------------------------------------------\n",
      "Inferred types from first 100 line(s) of file as \n",
      "column_type_hints=[int,int,str,list,float,int,int,int]\n",
      "If parsing fails due to incorrect types, you can correct\n",
      "the inferred type list above and pass it to read_csv in\n",
      "the column_type_hints argument\n",
      "------------------------------------------------------\n"
     ]
    },
    {
     "data": {
      "text/html": [
       "<pre>Finished parsing file /Users/shujdong/w210_game_recommendation_local/modeling/game_info_750.csv</pre>"
      ],
      "text/plain": [
       "Finished parsing file /Users/shujdong/w210_game_recommendation_local/modeling/game_info_750.csv"
      ]
     },
     "metadata": {},
     "output_type": "display_data"
    },
    {
     "data": {
      "text/html": [
       "<pre>Parsing completed. Parsed 9595 lines in 0.055905 secs.</pre>"
      ],
      "text/plain": [
       "Parsing completed. Parsed 9595 lines in 0.055905 secs."
      ]
     },
     "metadata": {},
     "output_type": "display_data"
    }
   ],
   "source": [
    "actions = tc.SFrame.read_csv('training_data_3column_750.csv')\n",
    "items = tc.SFrame.read_csv('game_info_750.csv')\n",
    "df_items=pd.read_csv('game_info_750.csv')"
   ]
  },
  {
   "cell_type": "code",
   "execution_count": 330,
   "metadata": {},
   "outputs": [
    {
     "data": {
      "text/html": [
       "<div style=\"max-height:1000px;max-width:1500px;overflow:auto;\"><table frame=\"box\" rules=\"cols\">\n",
       "    <tr>\n",
       "        <th style=\"padding-left: 1em; padding-right: 1em; text-align: center\">game_id</th>\n",
       "        <th style=\"padding-left: 1em; padding-right: 1em; text-align: center\">user_id</th>\n",
       "        <th style=\"padding-left: 1em; padding-right: 1em; text-align: center\">rating</th>\n",
       "    </tr>\n",
       "    <tr>\n",
       "        <td style=\"padding-left: 1em; padding-right: 1em; text-align: center; vertical-align: top\">1</td>\n",
       "        <td style=\"padding-left: 1em; padding-right: 1em; text-align: center; vertical-align: top\">Lil Red Head</td>\n",
       "        <td style=\"padding-left: 1em; padding-right: 1em; text-align: center; vertical-align: top\">7.0</td>\n",
       "    </tr>\n",
       "    <tr>\n",
       "        <td style=\"padding-left: 1em; padding-right: 1em; text-align: center; vertical-align: top\">1</td>\n",
       "        <td style=\"padding-left: 1em; padding-right: 1em; text-align: center; vertical-align: top\">hsjx945</td>\n",
       "        <td style=\"padding-left: 1em; padding-right: 1em; text-align: center; vertical-align: top\">8.0</td>\n",
       "    </tr>\n",
       "    <tr>\n",
       "        <td style=\"padding-left: 1em; padding-right: 1em; text-align: center; vertical-align: top\">1</td>\n",
       "        <td style=\"padding-left: 1em; padding-right: 1em; text-align: center; vertical-align: top\">RuffRyder</td>\n",
       "        <td style=\"padding-left: 1em; padding-right: 1em; text-align: center; vertical-align: top\">0.0</td>\n",
       "    </tr>\n",
       "    <tr>\n",
       "        <td style=\"padding-left: 1em; padding-right: 1em; text-align: center; vertical-align: top\">1</td>\n",
       "        <td style=\"padding-left: 1em; padding-right: 1em; text-align: center; vertical-align: top\">SkywalterDBZ</td>\n",
       "        <td style=\"padding-left: 1em; padding-right: 1em; text-align: center; vertical-align: top\">7.0</td>\n",
       "    </tr>\n",
       "    <tr>\n",
       "        <td style=\"padding-left: 1em; padding-right: 1em; text-align: center; vertical-align: top\">1</td>\n",
       "        <td style=\"padding-left: 1em; padding-right: 1em; text-align: center; vertical-align: top\">Olmestig</td>\n",
       "        <td style=\"padding-left: 1em; padding-right: 1em; text-align: center; vertical-align: top\">8.0</td>\n",
       "    </tr>\n",
       "    <tr>\n",
       "        <td style=\"padding-left: 1em; padding-right: 1em; text-align: center; vertical-align: top\">1</td>\n",
       "        <td style=\"padding-left: 1em; padding-right: 1em; text-align: center; vertical-align: top\">grassquit</td>\n",
       "        <td style=\"padding-left: 1em; padding-right: 1em; text-align: center; vertical-align: top\">9.0</td>\n",
       "    </tr>\n",
       "    <tr>\n",
       "        <td style=\"padding-left: 1em; padding-right: 1em; text-align: center; vertical-align: top\">1</td>\n",
       "        <td style=\"padding-left: 1em; padding-right: 1em; text-align: center; vertical-align: top\">erzengel</td>\n",
       "        <td style=\"padding-left: 1em; padding-right: 1em; text-align: center; vertical-align: top\">0.0</td>\n",
       "    </tr>\n",
       "    <tr>\n",
       "        <td style=\"padding-left: 1em; padding-right: 1em; text-align: center; vertical-align: top\">1</td>\n",
       "        <td style=\"padding-left: 1em; padding-right: 1em; text-align: center; vertical-align: top\">Feeble</td>\n",
       "        <td style=\"padding-left: 1em; padding-right: 1em; text-align: center; vertical-align: top\">0.0</td>\n",
       "    </tr>\n",
       "    <tr>\n",
       "        <td style=\"padding-left: 1em; padding-right: 1em; text-align: center; vertical-align: top\">1</td>\n",
       "        <td style=\"padding-left: 1em; padding-right: 1em; text-align: center; vertical-align: top\">thisisadamj</td>\n",
       "        <td style=\"padding-left: 1em; padding-right: 1em; text-align: center; vertical-align: top\">0.0</td>\n",
       "    </tr>\n",
       "    <tr>\n",
       "        <td style=\"padding-left: 1em; padding-right: 1em; text-align: center; vertical-align: top\">1</td>\n",
       "        <td style=\"padding-left: 1em; padding-right: 1em; text-align: center; vertical-align: top\">Tiberiusfox</td>\n",
       "        <td style=\"padding-left: 1em; padding-right: 1em; text-align: center; vertical-align: top\">9.0</td>\n",
       "    </tr>\n",
       "</table>\n",
       "[40096849 rows x 3 columns]<br/>Note: Only the head of the SFrame is printed.<br/>You can use print_rows(num_rows=m, num_columns=n) to print more rows and columns.\n",
       "</div>"
      ],
      "text/plain": [
       "Columns:\n",
       "\tgame_id\tint\n",
       "\tuser_id\tstr\n",
       "\trating\tfloat\n",
       "\n",
       "Rows: 40096849\n",
       "\n",
       "Data:\n",
       "+---------+--------------+--------+\n",
       "| game_id |   user_id    | rating |\n",
       "+---------+--------------+--------+\n",
       "|    1    | Lil Red Head |  7.0   |\n",
       "|    1    |   hsjx945    |  8.0   |\n",
       "|    1    |  RuffRyder   |  0.0   |\n",
       "|    1    | SkywalterDBZ |  7.0   |\n",
       "|    1    |   Olmestig   |  8.0   |\n",
       "|    1    |  grassquit   |  9.0   |\n",
       "|    1    |   erzengel   |  0.0   |\n",
       "|    1    |    Feeble    |  0.0   |\n",
       "|    1    | thisisadamj  |  0.0   |\n",
       "|    1    | Tiberiusfox  |  9.0   |\n",
       "+---------+--------------+--------+\n",
       "[40096849 rows x 3 columns]\n",
       "Note: Only the head of the SFrame is printed.\n",
       "You can use print_rows(num_rows=m, num_columns=n) to print more rows and columns."
      ]
     },
     "execution_count": 330,
     "metadata": {},
     "output_type": "execute_result"
    }
   ],
   "source": [
    "actions=actions[['game_id','user_id','rating']]\n",
    "actions"
   ]
  },
  {
   "cell_type": "code",
   "execution_count": 331,
   "metadata": {},
   "outputs": [
    {
     "data": {
      "text/html": [
       "<pre>Preparing data set.</pre>"
      ],
      "text/plain": [
       "Preparing data set."
      ]
     },
     "metadata": {},
     "output_type": "display_data"
    },
    {
     "data": {
      "text/html": [
       "<pre>    Data has 40096849 observations with 486469 users and 9595 items.</pre>"
      ],
      "text/plain": [
       "    Data has 40096849 observations with 486469 users and 9595 items."
      ]
     },
     "metadata": {},
     "output_type": "display_data"
    },
    {
     "data": {
      "text/html": [
       "<pre>    Data prepared in: 83.5935s</pre>"
      ],
      "text/plain": [
       "    Data prepared in: 83.5935s"
      ]
     },
     "metadata": {},
     "output_type": "display_data"
    },
    {
     "data": {
      "text/html": [
       "<pre>Training model from provided data.</pre>"
      ],
      "text/plain": [
       "Training model from provided data."
      ]
     },
     "metadata": {},
     "output_type": "display_data"
    },
    {
     "data": {
      "text/html": [
       "<pre>Gathering per-item and per-user statistics.</pre>"
      ],
      "text/plain": [
       "Gathering per-item and per-user statistics."
      ]
     },
     "metadata": {},
     "output_type": "display_data"
    },
    {
     "data": {
      "text/html": [
       "<pre>+--------------------------------+------------+</pre>"
      ],
      "text/plain": [
       "+--------------------------------+------------+"
      ]
     },
     "metadata": {},
     "output_type": "display_data"
    },
    {
     "data": {
      "text/html": [
       "<pre>| Elapsed Time (Item Statistics) | % Complete |</pre>"
      ],
      "text/plain": [
       "| Elapsed Time (Item Statistics) | % Complete |"
      ]
     },
     "metadata": {},
     "output_type": "display_data"
    },
    {
     "data": {
      "text/html": [
       "<pre>+--------------------------------+------------+</pre>"
      ],
      "text/plain": [
       "+--------------------------------+------------+"
      ]
     },
     "metadata": {},
     "output_type": "display_data"
    },
    {
     "data": {
      "text/html": [
       "<pre>| 50.906ms                       | 0          |</pre>"
      ],
      "text/plain": [
       "| 50.906ms                       | 0          |"
      ]
     },
     "metadata": {},
     "output_type": "display_data"
    },
    {
     "data": {
      "text/html": [
       "<pre>| 2.86s                          | 100        |</pre>"
      ],
      "text/plain": [
       "| 2.86s                          | 100        |"
      ]
     },
     "metadata": {},
     "output_type": "display_data"
    },
    {
     "data": {
      "text/html": [
       "<pre>+--------------------------------+------------+</pre>"
      ],
      "text/plain": [
       "+--------------------------------+------------+"
      ]
     },
     "metadata": {},
     "output_type": "display_data"
    },
    {
     "data": {
      "text/html": [
       "<pre>Setting up lookup tables.</pre>"
      ],
      "text/plain": [
       "Setting up lookup tables."
      ]
     },
     "metadata": {},
     "output_type": "display_data"
    },
    {
     "data": {
      "text/html": [
       "<pre>Processing data in one pass using dense lookup tables.</pre>"
      ],
      "text/plain": [
       "Processing data in one pass using dense lookup tables."
      ]
     },
     "metadata": {},
     "output_type": "display_data"
    },
    {
     "data": {
      "text/html": [
       "<pre>+-------------------------------------+------------------+-----------------+</pre>"
      ],
      "text/plain": [
       "+-------------------------------------+------------------+-----------------+"
      ]
     },
     "metadata": {},
     "output_type": "display_data"
    },
    {
     "data": {
      "text/html": [
       "<pre>| Elapsed Time (Constructing Lookups) | Total % Complete | Items Processed |</pre>"
      ],
      "text/plain": [
       "| Elapsed Time (Constructing Lookups) | Total % Complete | Items Processed |"
      ]
     },
     "metadata": {},
     "output_type": "display_data"
    },
    {
     "data": {
      "text/html": [
       "<pre>+-------------------------------------+------------------+-----------------+</pre>"
      ],
      "text/plain": [
       "+-------------------------------------+------------------+-----------------+"
      ]
     },
     "metadata": {},
     "output_type": "display_data"
    },
    {
     "data": {
      "text/html": [
       "<pre>| 3.36s                               | 0                | 0               |</pre>"
      ],
      "text/plain": [
       "| 3.36s                               | 0                | 0               |"
      ]
     },
     "metadata": {},
     "output_type": "display_data"
    },
    {
     "data": {
      "text/html": [
       "<pre>| 6.36s                               | 3                | 309             |</pre>"
      ],
      "text/plain": [
       "| 6.36s                               | 3                | 309             |"
      ]
     },
     "metadata": {},
     "output_type": "display_data"
    },
    {
     "data": {
      "text/html": [
       "<pre>| 9.38s                               | 5.75             | 559             |</pre>"
      ],
      "text/plain": [
       "| 9.38s                               | 5.75             | 559             |"
      ]
     },
     "metadata": {},
     "output_type": "display_data"
    },
    {
     "data": {
      "text/html": [
       "<pre>| 12.38s                              | 8.25             | 807             |</pre>"
      ],
      "text/plain": [
       "| 12.38s                              | 8.25             | 807             |"
      ]
     },
     "metadata": {},
     "output_type": "display_data"
    },
    {
     "data": {
      "text/html": [
       "<pre>| 15.38s                              | 10.25            | 1006            |</pre>"
      ],
      "text/plain": [
       "| 15.38s                              | 10.25            | 1006            |"
      ]
     },
     "metadata": {},
     "output_type": "display_data"
    },
    {
     "data": {
      "text/html": [
       "<pre>| 18.39s                              | 12               | 1174            |</pre>"
      ],
      "text/plain": [
       "| 18.39s                              | 12               | 1174            |"
      ]
     },
     "metadata": {},
     "output_type": "display_data"
    },
    {
     "data": {
      "text/html": [
       "<pre>| 21.40s                              | 14.5             | 1408            |</pre>"
      ],
      "text/plain": [
       "| 21.40s                              | 14.5             | 1408            |"
      ]
     },
     "metadata": {},
     "output_type": "display_data"
    },
    {
     "data": {
      "text/html": [
       "<pre>| 24.40s                              | 18               | 1740            |</pre>"
      ],
      "text/plain": [
       "| 24.40s                              | 18               | 1740            |"
      ]
     },
     "metadata": {},
     "output_type": "display_data"
    },
    {
     "data": {
      "text/html": [
       "<pre>| 27.42s                              | 21.5             | 2078            |</pre>"
      ],
      "text/plain": [
       "| 27.42s                              | 21.5             | 2078            |"
      ]
     },
     "metadata": {},
     "output_type": "display_data"
    },
    {
     "data": {
      "text/html": [
       "<pre>| 30.41s                              | 24.25            | 2342            |</pre>"
      ],
      "text/plain": [
       "| 30.41s                              | 24.25            | 2342            |"
      ]
     },
     "metadata": {},
     "output_type": "display_data"
    },
    {
     "data": {
      "text/html": [
       "<pre>| 33.42s                              | 28               | 2707            |</pre>"
      ],
      "text/plain": [
       "| 33.42s                              | 28               | 2707            |"
      ]
     },
     "metadata": {},
     "output_type": "display_data"
    },
    {
     "data": {
      "text/html": [
       "<pre>| 36.42s                              | 32               | 3086            |</pre>"
      ],
      "text/plain": [
       "| 36.42s                              | 32               | 3086            |"
      ]
     },
     "metadata": {},
     "output_type": "display_data"
    },
    {
     "data": {
      "text/html": [
       "<pre>| 39.43s                              | 35               | 3371            |</pre>"
      ],
      "text/plain": [
       "| 39.43s                              | 35               | 3371            |"
      ]
     },
     "metadata": {},
     "output_type": "display_data"
    },
    {
     "data": {
      "text/html": [
       "<pre>| 42.44s                              | 38.25            | 3678            |</pre>"
      ],
      "text/plain": [
       "| 42.44s                              | 38.25            | 3678            |"
      ]
     },
     "metadata": {},
     "output_type": "display_data"
    },
    {
     "data": {
      "text/html": [
       "<pre>| 45.44s                              | 41.75            | 4007            |</pre>"
      ],
      "text/plain": [
       "| 45.44s                              | 41.75            | 4007            |"
      ]
     },
     "metadata": {},
     "output_type": "display_data"
    },
    {
     "data": {
      "text/html": [
       "<pre>| 48.45s                              | 45               | 4334            |</pre>"
      ],
      "text/plain": [
       "| 48.45s                              | 45               | 4334            |"
      ]
     },
     "metadata": {},
     "output_type": "display_data"
    },
    {
     "data": {
      "text/html": [
       "<pre>| 51.46s                              | 47.5             | 4566            |</pre>"
      ],
      "text/plain": [
       "| 51.46s                              | 47.5             | 4566            |"
      ]
     },
     "metadata": {},
     "output_type": "display_data"
    },
    {
     "data": {
      "text/html": [
       "<pre>| 54.46s                              | 50.5             | 4851            |</pre>"
      ],
      "text/plain": [
       "| 54.46s                              | 50.5             | 4851            |"
      ]
     },
     "metadata": {},
     "output_type": "display_data"
    },
    {
     "data": {
      "text/html": [
       "<pre>| 57.47s                              | 53.5             | 5135            |</pre>"
      ],
      "text/plain": [
       "| 57.47s                              | 53.5             | 5135            |"
      ]
     },
     "metadata": {},
     "output_type": "display_data"
    },
    {
     "data": {
      "text/html": [
       "<pre>| 1m 0s                               | 55.75            | 5373            |</pre>"
      ],
      "text/plain": [
       "| 1m 0s                               | 55.75            | 5373            |"
      ]
     },
     "metadata": {},
     "output_type": "display_data"
    },
    {
     "data": {
      "text/html": [
       "<pre>| 1m 3s                               | 58.25            | 5607            |</pre>"
      ],
      "text/plain": [
       "| 1m 3s                               | 58.25            | 5607            |"
      ]
     },
     "metadata": {},
     "output_type": "display_data"
    },
    {
     "data": {
      "text/html": [
       "<pre>| 1m 6s                               | 61               | 5861            |</pre>"
      ],
      "text/plain": [
       "| 1m 6s                               | 61               | 5861            |"
      ]
     },
     "metadata": {},
     "output_type": "display_data"
    },
    {
     "data": {
      "text/html": [
       "<pre>| 1m 9s                               | 63.75            | 6138            |</pre>"
      ],
      "text/plain": [
       "| 1m 9s                               | 63.75            | 6138            |"
      ]
     },
     "metadata": {},
     "output_type": "display_data"
    },
    {
     "data": {
      "text/html": [
       "<pre>| 1m 12s                              | 66.5             | 6387            |</pre>"
      ],
      "text/plain": [
       "| 1m 12s                              | 66.5             | 6387            |"
      ]
     },
     "metadata": {},
     "output_type": "display_data"
    },
    {
     "data": {
      "text/html": [
       "<pre>| 1m 15s                              | 69               | 6628            |</pre>"
      ],
      "text/plain": [
       "| 1m 15s                              | 69               | 6628            |"
      ]
     },
     "metadata": {},
     "output_type": "display_data"
    },
    {
     "data": {
      "text/html": [
       "<pre>| 1m 18s                              | 71.25            | 6846            |</pre>"
      ],
      "text/plain": [
       "| 1m 18s                              | 71.25            | 6846            |"
      ]
     },
     "metadata": {},
     "output_type": "display_data"
    },
    {
     "data": {
      "text/html": [
       "<pre>| 1m 21s                              | 73.75            | 7090            |</pre>"
      ],
      "text/plain": [
       "| 1m 21s                              | 73.75            | 7090            |"
      ]
     },
     "metadata": {},
     "output_type": "display_data"
    },
    {
     "data": {
      "text/html": [
       "<pre>| 1m 24s                              | 76.5             | 7341            |</pre>"
      ],
      "text/plain": [
       "| 1m 24s                              | 76.5             | 7341            |"
      ]
     },
     "metadata": {},
     "output_type": "display_data"
    },
    {
     "data": {
      "text/html": [
       "<pre>| 1m 27s                              | 79               | 7580            |</pre>"
      ],
      "text/plain": [
       "| 1m 27s                              | 79               | 7580            |"
      ]
     },
     "metadata": {},
     "output_type": "display_data"
    },
    {
     "data": {
      "text/html": [
       "<pre>| 1m 30s                              | 81               | 7773            |</pre>"
      ],
      "text/plain": [
       "| 1m 30s                              | 81               | 7773            |"
      ]
     },
     "metadata": {},
     "output_type": "display_data"
    },
    {
     "data": {
      "text/html": [
       "<pre>| 1m 33s                              | 83               | 7981            |</pre>"
      ],
      "text/plain": [
       "| 1m 33s                              | 83               | 7981            |"
      ]
     },
     "metadata": {},
     "output_type": "display_data"
    },
    {
     "data": {
      "text/html": [
       "<pre>| 1m 36s                              | 85.5             | 8206            |</pre>"
      ],
      "text/plain": [
       "| 1m 36s                              | 85.5             | 8206            |"
      ]
     },
     "metadata": {},
     "output_type": "display_data"
    },
    {
     "data": {
      "text/html": [
       "<pre>| 1m 39s                              | 87.5             | 8404            |</pre>"
      ],
      "text/plain": [
       "| 1m 39s                              | 87.5             | 8404            |"
      ]
     },
     "metadata": {},
     "output_type": "display_data"
    },
    {
     "data": {
      "text/html": [
       "<pre>| 1m 42s                              | 89.5             | 8604            |</pre>"
      ],
      "text/plain": [
       "| 1m 42s                              | 89.5             | 8604            |"
      ]
     },
     "metadata": {},
     "output_type": "display_data"
    },
    {
     "data": {
      "text/html": [
       "<pre>| 1m 45s                              | 91.75            | 8805            |</pre>"
      ],
      "text/plain": [
       "| 1m 45s                              | 91.75            | 8805            |"
      ]
     },
     "metadata": {},
     "output_type": "display_data"
    },
    {
     "data": {
      "text/html": [
       "<pre>| 1m 48s                              | 93.75            | 8996            |</pre>"
      ],
      "text/plain": [
       "| 1m 48s                              | 93.75            | 8996            |"
      ]
     },
     "metadata": {},
     "output_type": "display_data"
    },
    {
     "data": {
      "text/html": [
       "<pre>| 1m 51s                              | 95.75            | 9189            |</pre>"
      ],
      "text/plain": [
       "| 1m 51s                              | 95.75            | 9189            |"
      ]
     },
     "metadata": {},
     "output_type": "display_data"
    },
    {
     "data": {
      "text/html": [
       "<pre>| 1m 54s                              | 97               | 9322            |</pre>"
      ],
      "text/plain": [
       "| 1m 54s                              | 97               | 9322            |"
      ]
     },
     "metadata": {},
     "output_type": "display_data"
    },
    {
     "data": {
      "text/html": [
       "<pre>| 1m 57s                              | 98.25            | 9440            |</pre>"
      ],
      "text/plain": [
       "| 1m 57s                              | 98.25            | 9440            |"
      ]
     },
     "metadata": {},
     "output_type": "display_data"
    },
    {
     "data": {
      "text/html": [
       "<pre>| 2m 1s                               | 100              | 9595            |</pre>"
      ],
      "text/plain": [
       "| 2m 1s                               | 100              | 9595            |"
      ]
     },
     "metadata": {},
     "output_type": "display_data"
    },
    {
     "data": {
      "text/html": [
       "<pre>+-------------------------------------+------------------+-----------------+</pre>"
      ],
      "text/plain": [
       "+-------------------------------------+------------------+-----------------+"
      ]
     },
     "metadata": {},
     "output_type": "display_data"
    },
    {
     "data": {
      "text/html": [
       "<pre>Finalizing lookup tables.</pre>"
      ],
      "text/plain": [
       "Finalizing lookup tables."
      ]
     },
     "metadata": {},
     "output_type": "display_data"
    },
    {
     "data": {
      "text/html": [
       "<pre>Generating candidate set for working with new users.</pre>"
      ],
      "text/plain": [
       "Generating candidate set for working with new users."
      ]
     },
     "metadata": {},
     "output_type": "display_data"
    },
    {
     "data": {
      "text/html": [
       "<pre>Finished training in 122.83s</pre>"
      ],
      "text/plain": [
       "Finished training in 122.83s"
      ]
     },
     "metadata": {},
     "output_type": "display_data"
    }
   ],
   "source": [
    "\n",
    "\n",
    "model = tc.recommender.item_similarity_recommender.create(actions,'user_id','game_id',target='rating',similarity_type='cosine')\n",
    "\n"
   ]
  },
  {
   "cell_type": "code",
   "execution_count": 332,
   "metadata": {},
   "outputs": [
    {
     "data": {
      "text/html": [
       "<div style=\"max-height:1000px;max-width:1500px;overflow:auto;\"><table frame=\"box\" rules=\"cols\">\n",
       "    <tr>\n",
       "        <th style=\"padding-left: 1em; padding-right: 1em; text-align: center\">game_id</th>\n",
       "        <th style=\"padding-left: 1em; padding-right: 1em; text-align: center\">similar</th>\n",
       "        <th style=\"padding-left: 1em; padding-right: 1em; text-align: center\">score</th>\n",
       "        <th style=\"padding-left: 1em; padding-right: 1em; text-align: center\">rank</th>\n",
       "    </tr>\n",
       "    <tr>\n",
       "        <td style=\"padding-left: 1em; padding-right: 1em; text-align: center; vertical-align: top\">1</td>\n",
       "        <td style=\"padding-left: 1em; padding-right: 1em; text-align: center; vertical-align: top\">4098</td>\n",
       "        <td style=\"padding-left: 1em; padding-right: 1em; text-align: center; vertical-align: top\">0.39382773637771606</td>\n",
       "        <td style=\"padding-left: 1em; padding-right: 1em; text-align: center; vertical-align: top\">1</td>\n",
       "    </tr>\n",
       "    <tr>\n",
       "        <td style=\"padding-left: 1em; padding-right: 1em; text-align: center; vertical-align: top\">1</td>\n",
       "        <td style=\"padding-left: 1em; padding-right: 1em; text-align: center; vertical-align: top\">9216</td>\n",
       "        <td style=\"padding-left: 1em; padding-right: 1em; text-align: center; vertical-align: top\">0.3672568202018738</td>\n",
       "        <td style=\"padding-left: 1em; padding-right: 1em; text-align: center; vertical-align: top\">2</td>\n",
       "    </tr>\n",
       "    <tr>\n",
       "        <td style=\"padding-left: 1em; padding-right: 1em; text-align: center; vertical-align: top\">1</td>\n",
       "        <td style=\"padding-left: 1em; padding-right: 1em; text-align: center; vertical-align: top\">475</td>\n",
       "        <td style=\"padding-left: 1em; padding-right: 1em; text-align: center; vertical-align: top\">0.3654685616493225</td>\n",
       "        <td style=\"padding-left: 1em; padding-right: 1em; text-align: center; vertical-align: top\">3</td>\n",
       "    </tr>\n",
       "    <tr>\n",
       "        <td style=\"padding-left: 1em; padding-right: 1em; text-align: center; vertical-align: top\">1</td>\n",
       "        <td style=\"padding-left: 1em; padding-right: 1em; text-align: center; vertical-align: top\">24181</td>\n",
       "        <td style=\"padding-left: 1em; padding-right: 1em; text-align: center; vertical-align: top\">0.3570553660392761</td>\n",
       "        <td style=\"padding-left: 1em; padding-right: 1em; text-align: center; vertical-align: top\">4</td>\n",
       "    </tr>\n",
       "    <tr>\n",
       "        <td style=\"padding-left: 1em; padding-right: 1em; text-align: center; vertical-align: top\">1</td>\n",
       "        <td style=\"padding-left: 1em; padding-right: 1em; text-align: center; vertical-align: top\">555</td>\n",
       "        <td style=\"padding-left: 1em; padding-right: 1em; text-align: center; vertical-align: top\">0.3524526357650757</td>\n",
       "        <td style=\"padding-left: 1em; padding-right: 1em; text-align: center; vertical-align: top\">5</td>\n",
       "    </tr>\n",
       "    <tr>\n",
       "        <td style=\"padding-left: 1em; padding-right: 1em; text-align: center; vertical-align: top\">3</td>\n",
       "        <td style=\"padding-left: 1em; padding-right: 1em; text-align: center; vertical-align: top\">503</td>\n",
       "        <td style=\"padding-left: 1em; padding-right: 1em; text-align: center; vertical-align: top\">0.47354090213775635</td>\n",
       "        <td style=\"padding-left: 1em; padding-right: 1em; text-align: center; vertical-align: top\">1</td>\n",
       "    </tr>\n",
       "    <tr>\n",
       "        <td style=\"padding-left: 1em; padding-right: 1em; text-align: center; vertical-align: top\">3</td>\n",
       "        <td style=\"padding-left: 1em; padding-right: 1em; text-align: center; vertical-align: top\">12</td>\n",
       "        <td style=\"padding-left: 1em; padding-right: 1em; text-align: center; vertical-align: top\">0.4636383056640625</td>\n",
       "        <td style=\"padding-left: 1em; padding-right: 1em; text-align: center; vertical-align: top\">2</td>\n",
       "    </tr>\n",
       "    <tr>\n",
       "        <td style=\"padding-left: 1em; padding-right: 1em; text-align: center; vertical-align: top\">3</td>\n",
       "        <td style=\"padding-left: 1em; padding-right: 1em; text-align: center; vertical-align: top\">42</td>\n",
       "        <td style=\"padding-left: 1em; padding-right: 1em; text-align: center; vertical-align: top\">0.460888147354126</td>\n",
       "        <td style=\"padding-left: 1em; padding-right: 1em; text-align: center; vertical-align: top\">3</td>\n",
       "    </tr>\n",
       "    <tr>\n",
       "        <td style=\"padding-left: 1em; padding-right: 1em; text-align: center; vertical-align: top\">3</td>\n",
       "        <td style=\"padding-left: 1em; padding-right: 1em; text-align: center; vertical-align: top\">93</td>\n",
       "        <td style=\"padding-left: 1em; padding-right: 1em; text-align: center; vertical-align: top\">0.42031532526016235</td>\n",
       "        <td style=\"padding-left: 1em; padding-right: 1em; text-align: center; vertical-align: top\">4</td>\n",
       "    </tr>\n",
       "    <tr>\n",
       "        <td style=\"padding-left: 1em; padding-right: 1em; text-align: center; vertical-align: top\">3</td>\n",
       "        <td style=\"padding-left: 1em; padding-right: 1em; text-align: center; vertical-align: top\">118</td>\n",
       "        <td style=\"padding-left: 1em; padding-right: 1em; text-align: center; vertical-align: top\">0.4190922975540161</td>\n",
       "        <td style=\"padding-left: 1em; padding-right: 1em; text-align: center; vertical-align: top\">5</td>\n",
       "    </tr>\n",
       "</table>\n",
       "[10 rows x 4 columns]<br/>\n",
       "</div>"
      ],
      "text/plain": [
       "Columns:\n",
       "\tgame_id\tint\n",
       "\tsimilar\tint\n",
       "\tscore\tfloat\n",
       "\trank\tint\n",
       "\n",
       "Rows: 10\n",
       "\n",
       "Data:\n",
       "+---------+---------+---------------------+------+\n",
       "| game_id | similar |        score        | rank |\n",
       "+---------+---------+---------------------+------+\n",
       "|    1    |   4098  | 0.39382773637771606 |  1   |\n",
       "|    1    |   9216  |  0.3672568202018738 |  2   |\n",
       "|    1    |   475   |  0.3654685616493225 |  3   |\n",
       "|    1    |  24181  |  0.3570553660392761 |  4   |\n",
       "|    1    |   555   |  0.3524526357650757 |  5   |\n",
       "|    3    |   503   | 0.47354090213775635 |  1   |\n",
       "|    3    |    12   |  0.4636383056640625 |  2   |\n",
       "|    3    |    42   |  0.460888147354126  |  3   |\n",
       "|    3    |    93   | 0.42031532526016235 |  4   |\n",
       "|    3    |   118   |  0.4190922975540161 |  5   |\n",
       "+---------+---------+---------------------+------+\n",
       "[10 rows x 4 columns]"
      ]
     },
     "execution_count": 332,
     "metadata": {},
     "output_type": "execute_result"
    }
   ],
   "source": [
    "similar_items = model.get_similar_items([1,3],k=5)\n",
    "similar_items"
   ]
  },
  {
   "cell_type": "code",
   "execution_count": 333,
   "metadata": {},
   "outputs": [],
   "source": [
    "#save model\n",
    "\n",
    "model.save('game_rec_model')"
   ]
  },
  {
   "cell_type": "code",
   "execution_count": 334,
   "metadata": {},
   "outputs": [],
   "source": [
    "#load model\n",
    "rec_model=tc.load_model('game_rec_model')"
   ]
  },
  {
   "cell_type": "code",
   "execution_count": 335,
   "metadata": {},
   "outputs": [
    {
     "data": {
      "text/plain": [
       "Class                            : ItemSimilarityRecommender\n",
       "\n",
       "Schema\n",
       "------\n",
       "User ID                          : user_id\n",
       "Item ID                          : game_id\n",
       "Target                           : rating\n",
       "Additional observation features  : 0\n",
       "User side features               : []\n",
       "Item side features               : []\n",
       "\n",
       "Statistics\n",
       "----------\n",
       "Number of observations           : 40096849\n",
       "Number of users                  : 486469\n",
       "Number of items                  : 9595\n",
       "\n",
       "Training summary\n",
       "----------------\n",
       "Training time                    : 122.8309\n",
       "\n",
       "Model Parameters\n",
       "----------------\n",
       "Model class                      : ItemSimilarityRecommender\n",
       "threshold                        : 0.001\n",
       "similarity_type                  : cosine\n",
       "training_method                  : auto\n",
       "\n",
       "Other Settings\n",
       "--------------\n",
       "degree_approximation_threshold   : 4096\n",
       "max_data_passes                  : 4096\n",
       "max_item_neighborhood_size       : 64\n",
       "nearest_neighbors_interaction_proportion_threshold : 0.05\n",
       "seed_item_set_size               : 50\n",
       "sparse_density_estimation_sample_size : 4096\n",
       "target_memory_usage              : 8589934592"
      ]
     },
     "execution_count": 335,
     "metadata": {},
     "output_type": "execute_result"
    }
   ],
   "source": [
    "rec_model"
   ]
  },
  {
   "cell_type": "code",
   "execution_count": 336,
   "metadata": {},
   "outputs": [
    {
     "data": {
      "text/html": [
       "<div style=\"max-height:1000px;max-width:1500px;overflow:auto;\"><table frame=\"box\" rules=\"cols\">\n",
       "    <tr>\n",
       "        <th style=\"padding-left: 1em; padding-right: 1em; text-align: center\">game_id</th>\n",
       "        <th style=\"padding-left: 1em; padding-right: 1em; text-align: center\">score</th>\n",
       "        <th style=\"padding-left: 1em; padding-right: 1em; text-align: center\">rank</th>\n",
       "    </tr>\n",
       "    <tr>\n",
       "        <td style=\"padding-left: 1em; padding-right: 1em; text-align: center; vertical-align: top\">555</td>\n",
       "        <td style=\"padding-left: 1em; padding-right: 1em; text-align: center; vertical-align: top\">0.4643722375233968</td>\n",
       "        <td style=\"padding-left: 1em; padding-right: 1em; text-align: center; vertical-align: top\">1</td>\n",
       "    </tr>\n",
       "    <tr>\n",
       "        <td style=\"padding-left: 1em; padding-right: 1em; text-align: center; vertical-align: top\">5404</td>\n",
       "        <td style=\"padding-left: 1em; padding-right: 1em; text-align: center; vertical-align: top\">0.45178961753845215</td>\n",
       "        <td style=\"padding-left: 1em; padding-right: 1em; text-align: center; vertical-align: top\">2</td>\n",
       "    </tr>\n",
       "    <tr>\n",
       "        <td style=\"padding-left: 1em; padding-right: 1em; text-align: center; vertical-align: top\">12</td>\n",
       "        <td style=\"padding-left: 1em; padding-right: 1em; text-align: center; vertical-align: top\">0.4286462465922038</td>\n",
       "        <td style=\"padding-left: 1em; padding-right: 1em; text-align: center; vertical-align: top\">3</td>\n",
       "    </tr>\n",
       "    <tr>\n",
       "        <td style=\"padding-left: 1em; padding-right: 1em; text-align: center; vertical-align: top\">9217</td>\n",
       "        <td style=\"padding-left: 1em; padding-right: 1em; text-align: center; vertical-align: top\">0.4191485444704692</td>\n",
       "        <td style=\"padding-left: 1em; padding-right: 1em; text-align: center; vertical-align: top\">4</td>\n",
       "    </tr>\n",
       "    <tr>\n",
       "        <td style=\"padding-left: 1em; padding-right: 1em; text-align: center; vertical-align: top\">13642</td>\n",
       "        <td style=\"padding-left: 1em; padding-right: 1em; text-align: center; vertical-align: top\">0.41223559776941937</td>\n",
       "        <td style=\"padding-left: 1em; padding-right: 1em; text-align: center; vertical-align: top\">5</td>\n",
       "    </tr>\n",
       "    <tr>\n",
       "        <td style=\"padding-left: 1em; padding-right: 1em; text-align: center; vertical-align: top\">25554</td>\n",
       "        <td style=\"padding-left: 1em; padding-right: 1em; text-align: center; vertical-align: top\">0.4119660059611003</td>\n",
       "        <td style=\"padding-left: 1em; padding-right: 1em; text-align: center; vertical-align: top\">6</td>\n",
       "    </tr>\n",
       "    <tr>\n",
       "        <td style=\"padding-left: 1em; padding-right: 1em; text-align: center; vertical-align: top\">93</td>\n",
       "        <td style=\"padding-left: 1em; padding-right: 1em; text-align: center; vertical-align: top\">0.4108379085858663</td>\n",
       "        <td style=\"padding-left: 1em; padding-right: 1em; text-align: center; vertical-align: top\">7</td>\n",
       "    </tr>\n",
       "    <tr>\n",
       "        <td style=\"padding-left: 1em; padding-right: 1em; text-align: center; vertical-align: top\">42</td>\n",
       "        <td style=\"padding-left: 1em; padding-right: 1em; text-align: center; vertical-align: top\">0.4061150948206584</td>\n",
       "        <td style=\"padding-left: 1em; padding-right: 1em; text-align: center; vertical-align: top\">8</td>\n",
       "    </tr>\n",
       "    <tr>\n",
       "        <td style=\"padding-left: 1em; padding-right: 1em; text-align: center; vertical-align: top\">18602</td>\n",
       "        <td style=\"padding-left: 1em; padding-right: 1em; text-align: center; vertical-align: top\">0.3981815775235494</td>\n",
       "        <td style=\"padding-left: 1em; padding-right: 1em; text-align: center; vertical-align: top\">9</td>\n",
       "    </tr>\n",
       "    <tr>\n",
       "        <td style=\"padding-left: 1em; padding-right: 1em; text-align: center; vertical-align: top\">1345</td>\n",
       "        <td style=\"padding-left: 1em; padding-right: 1em; text-align: center; vertical-align: top\">0.39635324478149414</td>\n",
       "        <td style=\"padding-left: 1em; padding-right: 1em; text-align: center; vertical-align: top\">10</td>\n",
       "    </tr>\n",
       "</table>\n",
       "[10 rows x 3 columns]<br/>\n",
       "</div>"
      ],
      "text/plain": [
       "Columns:\n",
       "\tgame_id\tint\n",
       "\tscore\tfloat\n",
       "\trank\tint\n",
       "\n",
       "Rows: 10\n",
       "\n",
       "Data:\n",
       "+---------+---------------------+------+\n",
       "| game_id |        score        | rank |\n",
       "+---------+---------------------+------+\n",
       "|   555   |  0.4643722375233968 |  1   |\n",
       "|   5404  | 0.45178961753845215 |  2   |\n",
       "|    12   |  0.4286462465922038 |  3   |\n",
       "|   9217  |  0.4191485444704692 |  4   |\n",
       "|  13642  | 0.41223559776941937 |  5   |\n",
       "|  25554  |  0.4119660059611003 |  6   |\n",
       "|    93   |  0.4108379085858663 |  7   |\n",
       "|    42   |  0.4061150948206584 |  8   |\n",
       "|  18602  |  0.3981815775235494 |  9   |\n",
       "|   1345  | 0.39635324478149414 |  10  |\n",
       "+---------+---------------------+------+\n",
       "[10 rows x 3 columns]"
      ]
     },
     "execution_count": 336,
     "metadata": {},
     "output_type": "execute_result"
    }
   ],
   "source": [
    "#try with random user input data\n",
    "new_obs_data = tc.SFrame({ 'user_id' : ['survey', 'survey', 'survey', 'survey', 'survey'],\n",
    "                                'game_id' : ['4098', '9216', '475', '148228', '68448']})\n",
    "\n",
    "recommend_games = rec_model.recommend_from_interactions([4098,9216,475])\n",
    "recommend_games"
   ]
  },
  {
   "cell_type": "code",
   "execution_count": null,
   "metadata": {},
   "outputs": [],
   "source": []
  },
  {
   "cell_type": "code",
   "execution_count": 337,
   "metadata": {},
   "outputs": [
    {
     "data": {
      "text/html": [
       "<div style=\"max-height:1000px;max-width:1500px;overflow:auto;\"><table frame=\"box\" rules=\"cols\">\n",
       "    <tr>\n",
       "        <th style=\"padding-left: 1em; padding-right: 1em; text-align: center\">game_id</th>\n",
       "        <th style=\"padding-left: 1em; padding-right: 1em; text-align: center\">score</th>\n",
       "        <th style=\"padding-left: 1em; padding-right: 1em; text-align: center\">rank</th>\n",
       "    </tr>\n",
       "    <tr>\n",
       "        <td style=\"padding-left: 1em; padding-right: 1em; text-align: center; vertical-align: top\">475</td>\n",
       "        <td style=\"padding-left: 1em; padding-right: 1em; text-align: center; vertical-align: top\">0.2852055827776591</td>\n",
       "        <td style=\"padding-left: 1em; padding-right: 1em; text-align: center; vertical-align: top\">1</td>\n",
       "    </tr>\n",
       "    <tr>\n",
       "        <td style=\"padding-left: 1em; padding-right: 1em; text-align: center; vertical-align: top\">503</td>\n",
       "        <td style=\"padding-left: 1em; padding-right: 1em; text-align: center; vertical-align: top\">0.276278018951416</td>\n",
       "        <td style=\"padding-left: 1em; padding-right: 1em; text-align: center; vertical-align: top\">2</td>\n",
       "    </tr>\n",
       "    <tr>\n",
       "        <td style=\"padding-left: 1em; padding-right: 1em; text-align: center; vertical-align: top\">5404</td>\n",
       "        <td style=\"padding-left: 1em; padding-right: 1em; text-align: center; vertical-align: top\">0.2725544571876526</td>\n",
       "        <td style=\"padding-left: 1em; padding-right: 1em; text-align: center; vertical-align: top\">3</td>\n",
       "    </tr>\n",
       "    <tr>\n",
       "        <td style=\"padding-left: 1em; padding-right: 1em; text-align: center; vertical-align: top\">555</td>\n",
       "        <td style=\"padding-left: 1em; padding-right: 1em; text-align: center; vertical-align: top\">0.26923584938049316</td>\n",
       "        <td style=\"padding-left: 1em; padding-right: 1em; text-align: center; vertical-align: top\">4</td>\n",
       "    </tr>\n",
       "    <tr>\n",
       "        <td style=\"padding-left: 1em; padding-right: 1em; text-align: center; vertical-align: top\">9216</td>\n",
       "        <td style=\"padding-left: 1em; padding-right: 1em; text-align: center; vertical-align: top\">0.2678175965944926</td>\n",
       "        <td style=\"padding-left: 1em; padding-right: 1em; text-align: center; vertical-align: top\">5</td>\n",
       "    </tr>\n",
       "    <tr>\n",
       "        <td style=\"padding-left: 1em; padding-right: 1em; text-align: center; vertical-align: top\">12</td>\n",
       "        <td style=\"padding-left: 1em; padding-right: 1em; text-align: center; vertical-align: top\">0.2658008933067322</td>\n",
       "        <td style=\"padding-left: 1em; padding-right: 1em; text-align: center; vertical-align: top\">6</td>\n",
       "    </tr>\n",
       "    <tr>\n",
       "        <td style=\"padding-left: 1em; padding-right: 1em; text-align: center; vertical-align: top\">42</td>\n",
       "        <td style=\"padding-left: 1em; padding-right: 1em; text-align: center; vertical-align: top\">0.26220699151357013</td>\n",
       "        <td style=\"padding-left: 1em; padding-right: 1em; text-align: center; vertical-align: top\">7</td>\n",
       "    </tr>\n",
       "    <tr>\n",
       "        <td style=\"padding-left: 1em; padding-right: 1em; text-align: center; vertical-align: top\">93</td>\n",
       "        <td style=\"padding-left: 1em; padding-right: 1em; text-align: center; vertical-align: top\">0.257380743821462</td>\n",
       "        <td style=\"padding-left: 1em; padding-right: 1em; text-align: center; vertical-align: top\">8</td>\n",
       "    </tr>\n",
       "    <tr>\n",
       "        <td style=\"padding-left: 1em; padding-right: 1em; text-align: center; vertical-align: top\">9217</td>\n",
       "        <td style=\"padding-left: 1em; padding-right: 1em; text-align: center; vertical-align: top\">0.255423367023468</td>\n",
       "        <td style=\"padding-left: 1em; padding-right: 1em; text-align: center; vertical-align: top\">9</td>\n",
       "    </tr>\n",
       "    <tr>\n",
       "        <td style=\"padding-left: 1em; padding-right: 1em; text-align: center; vertical-align: top\">13642</td>\n",
       "        <td style=\"padding-left: 1em; padding-right: 1em; text-align: center; vertical-align: top\">0.251969317595164</td>\n",
       "        <td style=\"padding-left: 1em; padding-right: 1em; text-align: center; vertical-align: top\">10</td>\n",
       "    </tr>\n",
       "</table>\n",
       "[50 rows x 3 columns]<br/>Note: Only the head of the SFrame is printed.<br/>You can use print_rows(num_rows=m, num_columns=n) to print more rows and columns.\n",
       "</div>"
      ],
      "text/plain": [
       "Columns:\n",
       "\tgame_id\tint\n",
       "\tscore\tfloat\n",
       "\trank\tint\n",
       "\n",
       "Rows: 50\n",
       "\n",
       "Data:\n",
       "+---------+---------------------+------+\n",
       "| game_id |        score        | rank |\n",
       "+---------+---------------------+------+\n",
       "|   475   |  0.2852055827776591 |  1   |\n",
       "|   503   |  0.276278018951416  |  2   |\n",
       "|   5404  |  0.2725544571876526 |  3   |\n",
       "|   555   | 0.26923584938049316 |  4   |\n",
       "|   9216  |  0.2678175965944926 |  5   |\n",
       "|    12   |  0.2658008933067322 |  6   |\n",
       "|    42   | 0.26220699151357013 |  7   |\n",
       "|    93   |  0.257380743821462  |  8   |\n",
       "|   9217  |  0.255423367023468  |  9   |\n",
       "|  13642  |  0.251969317595164  |  10  |\n",
       "+---------+---------------------+------+\n",
       "[50 rows x 3 columns]\n",
       "Note: Only the head of the SFrame is printed.\n",
       "You can use print_rows(num_rows=m, num_columns=n) to print more rows and columns."
      ]
     },
     "execution_count": 337,
     "metadata": {},
     "output_type": "execute_result"
    }
   ],
   "source": [
    "new_obs_data_1 = [362, 3, 9440]\n",
    "\n",
    "#recommend_games_1 = rec_model.recommend_from_interactions([362,3,9440],k=50)\n",
    "recommend_games_1 = rec_model.recommend_from_interactions(new_obs_data_1,k=50)\n",
    "\n",
    "recommend_games_1"
   ]
  },
  {
   "cell_type": "code",
   "execution_count": 338,
   "metadata": {},
   "outputs": [],
   "source": [
    "my_list_of_items=[130802, 8577, 362, 30549, 31]\n",
    "similar_items = rec_model.get_similar_items(my_list_of_items,k=20)"
   ]
  },
  {
   "cell_type": "code",
   "execution_count": 339,
   "metadata": {},
   "outputs": [
    {
     "data": {
      "text/html": [
       "<div style=\"max-height:1000px;max-width:1500px;overflow:auto;\"><table frame=\"box\" rules=\"cols\">\n",
       "    <tr>\n",
       "        <th style=\"padding-left: 1em; padding-right: 1em; text-align: center\">game_id</th>\n",
       "        <th style=\"padding-left: 1em; padding-right: 1em; text-align: center\">similar</th>\n",
       "        <th style=\"padding-left: 1em; padding-right: 1em; text-align: center\">score</th>\n",
       "        <th style=\"padding-left: 1em; padding-right: 1em; text-align: center\">rank</th>\n",
       "    </tr>\n",
       "    <tr>\n",
       "        <td style=\"padding-left: 1em; padding-right: 1em; text-align: center; vertical-align: top\">30549</td>\n",
       "        <td style=\"padding-left: 1em; padding-right: 1em; text-align: center; vertical-align: top\">68448</td>\n",
       "        <td style=\"padding-left: 1em; padding-right: 1em; text-align: center; vertical-align: top\">0.5509794354438782</td>\n",
       "        <td style=\"padding-left: 1em; padding-right: 1em; text-align: center; vertical-align: top\">1</td>\n",
       "    </tr>\n",
       "    <tr>\n",
       "        <td style=\"padding-left: 1em; padding-right: 1em; text-align: center; vertical-align: top\">30549</td>\n",
       "        <td style=\"padding-left: 1em; padding-right: 1em; text-align: center; vertical-align: top\">822</td>\n",
       "        <td style=\"padding-left: 1em; padding-right: 1em; text-align: center; vertical-align: top\">0.5483806133270264</td>\n",
       "        <td style=\"padding-left: 1em; padding-right: 1em; text-align: center; vertical-align: top\">2</td>\n",
       "    </tr>\n",
       "    <tr>\n",
       "        <td style=\"padding-left: 1em; padding-right: 1em; text-align: center; vertical-align: top\">30549</td>\n",
       "        <td style=\"padding-left: 1em; padding-right: 1em; text-align: center; vertical-align: top\">36218</td>\n",
       "        <td style=\"padding-left: 1em; padding-right: 1em; text-align: center; vertical-align: top\">0.548080563545227</td>\n",
       "        <td style=\"padding-left: 1em; padding-right: 1em; text-align: center; vertical-align: top\">3</td>\n",
       "    </tr>\n",
       "    <tr>\n",
       "        <td style=\"padding-left: 1em; padding-right: 1em; text-align: center; vertical-align: top\">30549</td>\n",
       "        <td style=\"padding-left: 1em; padding-right: 1em; text-align: center; vertical-align: top\">13</td>\n",
       "        <td style=\"padding-left: 1em; padding-right: 1em; text-align: center; vertical-align: top\">0.5296378135681152</td>\n",
       "        <td style=\"padding-left: 1em; padding-right: 1em; text-align: center; vertical-align: top\">4</td>\n",
       "    </tr>\n",
       "    <tr>\n",
       "        <td style=\"padding-left: 1em; padding-right: 1em; text-align: center; vertical-align: top\">30549</td>\n",
       "        <td style=\"padding-left: 1em; padding-right: 1em; text-align: center; vertical-align: top\">9209</td>\n",
       "        <td style=\"padding-left: 1em; padding-right: 1em; text-align: center; vertical-align: top\">0.5276004076004028</td>\n",
       "        <td style=\"padding-left: 1em; padding-right: 1em; text-align: center; vertical-align: top\">5</td>\n",
       "    </tr>\n",
       "    <tr>\n",
       "        <td style=\"padding-left: 1em; padding-right: 1em; text-align: center; vertical-align: top\">30549</td>\n",
       "        <td style=\"padding-left: 1em; padding-right: 1em; text-align: center; vertical-align: top\">40692</td>\n",
       "        <td style=\"padding-left: 1em; padding-right: 1em; text-align: center; vertical-align: top\">0.513760507106781</td>\n",
       "        <td style=\"padding-left: 1em; padding-right: 1em; text-align: center; vertical-align: top\">6</td>\n",
       "    </tr>\n",
       "    <tr>\n",
       "        <td style=\"padding-left: 1em; padding-right: 1em; text-align: center; vertical-align: top\">30549</td>\n",
       "        <td style=\"padding-left: 1em; padding-right: 1em; text-align: center; vertical-align: top\">178900</td>\n",
       "        <td style=\"padding-left: 1em; padding-right: 1em; text-align: center; vertical-align: top\">0.5018396973609924</td>\n",
       "        <td style=\"padding-left: 1em; padding-right: 1em; text-align: center; vertical-align: top\">7</td>\n",
       "    </tr>\n",
       "    <tr>\n",
       "        <td style=\"padding-left: 1em; padding-right: 1em; text-align: center; vertical-align: top\">30549</td>\n",
       "        <td style=\"padding-left: 1em; padding-right: 1em; text-align: center; vertical-align: top\">70323</td>\n",
       "        <td style=\"padding-left: 1em; padding-right: 1em; text-align: center; vertical-align: top\">0.5014986991882324</td>\n",
       "        <td style=\"padding-left: 1em; padding-right: 1em; text-align: center; vertical-align: top\">8</td>\n",
       "    </tr>\n",
       "    <tr>\n",
       "        <td style=\"padding-left: 1em; padding-right: 1em; text-align: center; vertical-align: top\">30549</td>\n",
       "        <td style=\"padding-left: 1em; padding-right: 1em; text-align: center; vertical-align: top\">129622</td>\n",
       "        <td style=\"padding-left: 1em; padding-right: 1em; text-align: center; vertical-align: top\">0.4886934757232666</td>\n",
       "        <td style=\"padding-left: 1em; padding-right: 1em; text-align: center; vertical-align: top\">9</td>\n",
       "    </tr>\n",
       "    <tr>\n",
       "        <td style=\"padding-left: 1em; padding-right: 1em; text-align: center; vertical-align: top\">30549</td>\n",
       "        <td style=\"padding-left: 1em; padding-right: 1em; text-align: center; vertical-align: top\">31260</td>\n",
       "        <td style=\"padding-left: 1em; padding-right: 1em; text-align: center; vertical-align: top\">0.4760205149650574</td>\n",
       "        <td style=\"padding-left: 1em; padding-right: 1em; text-align: center; vertical-align: top\">10</td>\n",
       "    </tr>\n",
       "</table>\n",
       "[40 rows x 4 columns]<br/>Note: Only the head of the SFrame is printed.<br/>You can use print_rows(num_rows=m, num_columns=n) to print more rows and columns.\n",
       "</div>"
      ],
      "text/plain": [
       "Columns:\n",
       "\tgame_id\tint\n",
       "\tsimilar\tint\n",
       "\tscore\tfloat\n",
       "\trank\tint\n",
       "\n",
       "Rows: 40\n",
       "\n",
       "Data:\n",
       "+---------+---------+--------------------+------+\n",
       "| game_id | similar |       score        | rank |\n",
       "+---------+---------+--------------------+------+\n",
       "|  30549  |  68448  | 0.5509794354438782 |  1   |\n",
       "|  30549  |   822   | 0.5483806133270264 |  2   |\n",
       "|  30549  |  36218  | 0.548080563545227  |  3   |\n",
       "|  30549  |    13   | 0.5296378135681152 |  4   |\n",
       "|  30549  |   9209  | 0.5276004076004028 |  5   |\n",
       "|  30549  |  40692  | 0.513760507106781  |  6   |\n",
       "|  30549  |  178900 | 0.5018396973609924 |  7   |\n",
       "|  30549  |  70323  | 0.5014986991882324 |  8   |\n",
       "|  30549  |  129622 | 0.4886934757232666 |  9   |\n",
       "|  30549  |  31260  | 0.4760205149650574 |  10  |\n",
       "+---------+---------+--------------------+------+\n",
       "[40 rows x 4 columns]\n",
       "Note: Only the head of the SFrame is printed.\n",
       "You can use print_rows(num_rows=m, num_columns=n) to print more rows and columns."
      ]
     },
     "execution_count": 339,
     "metadata": {},
     "output_type": "execute_result"
    }
   ],
   "source": [
    "similar_items"
   ]
  },
  {
   "cell_type": "code",
   "execution_count": 341,
   "metadata": {},
   "outputs": [
    {
     "ename": "SyntaxError",
     "evalue": "unexpected EOF while parsing (<ipython-input-341-726a4f329022>, line 12)",
     "output_type": "error",
     "traceback": [
      "\u001b[0;36m  File \u001b[0;32m\"<ipython-input-341-726a4f329022>\"\u001b[0;36m, line \u001b[0;32m12\u001b[0m\n\u001b[0;31m    @app.route(\"/recommend\", methods=['POST'])\u001b[0m\n\u001b[0m                                              ^\u001b[0m\n\u001b[0;31mSyntaxError\u001b[0m\u001b[0;31m:\u001b[0m unexpected EOF while parsing\n"
     ]
    }
   ],
   "source": [
    "##backend flask import new user data and return \n",
    "from flask import Flask\n",
    "from flask import request\n",
    "app = Flask(__name__)\n",
    "\n",
    "import turicreate as tc\n",
    "\n",
    "import json\n",
    "\n",
    "rec_model=tc.load_model('game_rec_model')\n",
    "\n",
    "@app.route(\"/recommend\", methods=['POST'])"
   ]
  },
  {
   "cell_type": "code",
   "execution_count": null,
   "metadata": {},
   "outputs": [],
   "source": [
    "\n"
   ]
  },
  {
   "cell_type": "code",
   "execution_count": 342,
   "metadata": {},
   "outputs": [],
   "source": [
    "#function to import json of user's answers, run model prediction, \n",
    "def recommend():\n",
    "#import new user survey answer\n",
    "#new_obs_data = json.loads(\"../data/bgg_survey_result.json\")\n",
    "\n",
    "    json_file_path = \"../data/questionnaire_result.json\"\n",
    "\n",
    "    with open(json_file_path, 'r') as j:\n",
    "         new_obs_data = json.loads(j.read())\n",
    "\n",
    "    new_obs_data_new=[int(i) for i in list(new_obs_data[\"games\"].keys())]\n",
    "    filter_condt=tc.SFrame({\"age_min\": [new_obs_data[\"age\"][\"min\"]],\n",
    "                        \"age_max\": [new_obs_data[\"age\"][\"max\"]],\n",
    "                        \"num_players_min\": [new_obs_data[\"num_players\"][\"min\"]],\n",
    "                        \"num_players_max\": [new_obs_data[\"num_players\"][\"max\"]],\n",
    "                        \"play_time_min\": [new_obs_data[\"play_time\"][\"min\"]],\n",
    "                        \"play_time_max\": [new_obs_data[\"play_time\"][\"max\"]]})\n",
    "    recommend_items = rec_model.recommend_from_interactions(new_obs_data_new,k=50)\n",
    "    \n",
    "    #select 50 recommended game info \n",
    "    df_rec_game_info=df_items.loc[df_items['game_id'].isin(recommend_items['game_id'])]\n",
    "    #filter out game based on user answers \n",
    "    df_items_filter=df_rec_game_info[(df_rec_game_info['age_min'] > filter_condt['age_min'])&\n",
    "                                #(df_rec_game_info['min_ppl'] < filter_condt['num_players_min']) &\n",
    "                                #(df_rec_game_info['max_ppl'] < filter_condt['num_players_max']) ]\n",
    "                                (df_rec_game_info['avg_time']> filter_condt['play_time_min'])&(df_rec_game_info['avg_time']< filter_condt['play_time_max'])]\n",
    "    #conver recommend_items to dataframe\n",
    "\n",
    "    df_recommend_items=recommend_items.to_dataframe()\n",
    "    #output top 5 games\n",
    "    output=df_recommend_items.loc[df_recommend_items['game_id'].isin(df_items_filter.game_id)].sort_values('score',ascending=False).head(5)\n",
    "    json_output=json.dumps({\"game_id\": list(output[\"game_id\"]), \"score\": list(output[\"score\"])})\n",
    "    return json_output"
   ]
  },
  {
   "cell_type": "code",
   "execution_count": 343,
   "metadata": {},
   "outputs": [
    {
     "data": {
      "text/plain": [
       "'{\"game_id\": [178900, 84876, 2651, 3076, 28143], \"score\": [0.43832461833953856, 0.4203981876373291, 0.4084632158279419, 0.4048967480659485, 0.37787545919418336]}'"
      ]
     },
     "execution_count": 343,
     "metadata": {},
     "output_type": "execute_result"
    }
   ],
   "source": [
    "recommend()"
   ]
  },
  {
   "cell_type": "code",
   "execution_count": null,
   "metadata": {},
   "outputs": [],
   "source": []
  },
  {
   "cell_type": "code",
   "execution_count": null,
   "metadata": {},
   "outputs": [],
   "source": []
  }
 ],
 "metadata": {
  "kernelspec": {
   "display_name": "Python 3",
   "language": "python",
   "name": "python3"
  },
  "language_info": {
   "codemirror_mode": {
    "name": "ipython",
    "version": 3
   },
   "file_extension": ".py",
   "mimetype": "text/x-python",
   "name": "python",
   "nbconvert_exporter": "python",
   "pygments_lexer": "ipython3",
   "version": "3.6.9"
  }
 },
 "nbformat": 4,
 "nbformat_minor": 4
}
