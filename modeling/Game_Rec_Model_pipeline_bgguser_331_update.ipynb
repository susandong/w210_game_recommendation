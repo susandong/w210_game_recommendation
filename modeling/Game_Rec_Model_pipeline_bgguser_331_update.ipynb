{
 "cells": [
  {
   "cell_type": "markdown",
   "metadata": {},
   "source": [
    "## Modeling Pipeline :\n",
    "* 1.use item similarity to overcome cold start issue\n",
    "* 2.pipeline: train model, save model, import new user data, load model for recommendation, output recommendation, "
   ]
  },
  {
   "cell_type": "code",
   "execution_count": 1,
   "metadata": {},
   "outputs": [],
   "source": [
    "import boto3\n",
    "import pickle\n",
    "import h5py\n",
    "import tables\n",
    "import numpy as np\n",
    "import pandas as pd\n",
    "import sklearn\n",
    "import caserec\n",
    "import json"
   ]
  },
  {
   "cell_type": "code",
   "execution_count": 2,
   "metadata": {},
   "outputs": [],
   "source": [
    "import turicreate as tc"
   ]
  },
  {
   "cell_type": "code",
   "execution_count": 3,
   "metadata": {},
   "outputs": [],
   "source": [
    "raw_data=pd.read_csv('training_data_3column_750.csv')"
   ]
  },
  {
   "cell_type": "code",
   "execution_count": 4,
   "metadata": {},
   "outputs": [
    {
     "data": {
      "text/plain": [
       "count    4.009685e+07\n",
       "mean     2.523576e+00\n",
       "std      3.545649e+00\n",
       "min      0.000000e+00\n",
       "25%      0.000000e+00\n",
       "50%      0.000000e+00\n",
       "75%      6.500000e+00\n",
       "max      1.000000e+01\n",
       "Name: rating, dtype: float64"
      ]
     },
     "execution_count": 4,
     "metadata": {},
     "output_type": "execute_result"
    }
   ],
   "source": [
    "raw_data['rating'].describe()"
   ]
  },
  {
   "cell_type": "code",
   "execution_count": 4,
   "metadata": {},
   "outputs": [],
   "source": [
    "#raw_data_user_count=raw_data.groupby('game_id')['user_id'].count().reset_index()"
   ]
  },
  {
   "cell_type": "code",
   "execution_count": 5,
   "metadata": {},
   "outputs": [],
   "source": [
    "#training_data_2k=raw_data[raw_data.game_id.isin(raw_data_user_count[raw_data_user_count.user_id>2000].game_id)]"
   ]
  },
  {
   "cell_type": "code",
   "execution_count": 6,
   "metadata": {},
   "outputs": [],
   "source": [
    "#training_data_2k.shape"
   ]
  },
  {
   "cell_type": "code",
   "execution_count": 7,
   "metadata": {},
   "outputs": [],
   "source": [
    "#training_data_2k.game_id.nunique()"
   ]
  },
  {
   "cell_type": "code",
   "execution_count": 8,
   "metadata": {},
   "outputs": [],
   "source": [
    "#training_data_2k.to_csv('training_data_3column_2k_new.csv')"
   ]
  },
  {
   "cell_type": "code",
   "execution_count": 5,
   "metadata": {},
   "outputs": [
    {
     "data": {
      "text/html": [
       "<pre>Finished parsing file /Users/shujdong/w210_game_recommendation_local/modeling/training_data_3column_750.csv</pre>"
      ],
      "text/plain": [
       "Finished parsing file /Users/shujdong/w210_game_recommendation_local/modeling/training_data_3column_750.csv"
      ]
     },
     "metadata": {},
     "output_type": "display_data"
    },
    {
     "data": {
      "text/html": [
       "<pre>Parsing completed. Parsed 100 lines in 1.34143 secs.</pre>"
      ],
      "text/plain": [
       "Parsing completed. Parsed 100 lines in 1.34143 secs."
      ]
     },
     "metadata": {},
     "output_type": "display_data"
    },
    {
     "name": "stdout",
     "output_type": "stream",
     "text": [
      "------------------------------------------------------\n",
      "Inferred types from first 100 line(s) of file as \n",
      "column_type_hints=[int,int,str,float]\n",
      "If parsing fails due to incorrect types, you can correct\n",
      "the inferred type list above and pass it to read_csv in\n",
      "the column_type_hints argument\n",
      "------------------------------------------------------\n"
     ]
    },
    {
     "data": {
      "text/html": [
       "<pre>Read 2112641 lines. Lines per second: 1.2215e+06</pre>"
      ],
      "text/plain": [
       "Read 2112641 lines. Lines per second: 1.2215e+06"
      ]
     },
     "metadata": {},
     "output_type": "display_data"
    },
    {
     "data": {
      "text/html": [
       "<pre>Read 17152920 lines. Lines per second: 2.43995e+06</pre>"
      ],
      "text/plain": [
       "Read 17152920 lines. Lines per second: 2.43995e+06"
      ]
     },
     "metadata": {},
     "output_type": "display_data"
    },
    {
     "data": {
      "text/html": [
       "<pre>Read 31209643 lines. Lines per second: 2.56029e+06</pre>"
      ],
      "text/plain": [
       "Read 31209643 lines. Lines per second: 2.56029e+06"
      ]
     },
     "metadata": {},
     "output_type": "display_data"
    },
    {
     "data": {
      "text/html": [
       "<pre>Finished parsing file /Users/shujdong/w210_game_recommendation_local/modeling/training_data_3column_750.csv</pre>"
      ],
      "text/plain": [
       "Finished parsing file /Users/shujdong/w210_game_recommendation_local/modeling/training_data_3column_750.csv"
      ]
     },
     "metadata": {},
     "output_type": "display_data"
    },
    {
     "data": {
      "text/html": [
       "<pre>Parsing completed. Parsed 40096849 lines in 15.3421 secs.</pre>"
      ],
      "text/plain": [
       "Parsing completed. Parsed 40096849 lines in 15.3421 secs."
      ]
     },
     "metadata": {},
     "output_type": "display_data"
    },
    {
     "data": {
      "text/html": [
       "<pre>Finished parsing file /Users/shujdong/w210_game_recommendation_local/modeling/game_info_750.csv</pre>"
      ],
      "text/plain": [
       "Finished parsing file /Users/shujdong/w210_game_recommendation_local/modeling/game_info_750.csv"
      ]
     },
     "metadata": {},
     "output_type": "display_data"
    },
    {
     "data": {
      "text/html": [
       "<pre>Parsing completed. Parsed 100 lines in 0.071921 secs.</pre>"
      ],
      "text/plain": [
       "Parsing completed. Parsed 100 lines in 0.071921 secs."
      ]
     },
     "metadata": {},
     "output_type": "display_data"
    },
    {
     "name": "stdout",
     "output_type": "stream",
     "text": [
      "------------------------------------------------------\n",
      "Inferred types from first 100 line(s) of file as \n",
      "column_type_hints=[int,int,str,list,float,int,int,int]\n",
      "If parsing fails due to incorrect types, you can correct\n",
      "the inferred type list above and pass it to read_csv in\n",
      "the column_type_hints argument\n",
      "------------------------------------------------------\n"
     ]
    },
    {
     "data": {
      "text/html": [
       "<pre>Finished parsing file /Users/shujdong/w210_game_recommendation_local/modeling/game_info_750.csv</pre>"
      ],
      "text/plain": [
       "Finished parsing file /Users/shujdong/w210_game_recommendation_local/modeling/game_info_750.csv"
      ]
     },
     "metadata": {},
     "output_type": "display_data"
    },
    {
     "data": {
      "text/html": [
       "<pre>Parsing completed. Parsed 9595 lines in 0.053078 secs.</pre>"
      ],
      "text/plain": [
       "Parsing completed. Parsed 9595 lines in 0.053078 secs."
      ]
     },
     "metadata": {},
     "output_type": "display_data"
    }
   ],
   "source": [
    "#actions = tc.SFrame.read_csv('training_data_3column_2k_new.csv')\n",
    "actions = tc.SFrame.read_csv('training_data_3column_750.csv')\n",
    "items = tc.SFrame.read_csv('game_info_750.csv')\n",
    "df_items=pd.read_csv('game_info_750.csv')"
   ]
  },
  {
   "cell_type": "code",
   "execution_count": 6,
   "metadata": {},
   "outputs": [],
   "source": [
    "df_items=df_items.fillna(0)"
   ]
  },
  {
   "cell_type": "code",
   "execution_count": 7,
   "metadata": {},
   "outputs": [
    {
     "data": {
      "text/plain": [
       "0"
      ]
     },
     "execution_count": 7,
     "metadata": {},
     "output_type": "execute_result"
    }
   ],
   "source": [
    "df_items.isnull().sum().sum()"
   ]
  },
  {
   "cell_type": "code",
   "execution_count": 8,
   "metadata": {},
   "outputs": [
    {
     "data": {
      "text/plain": [
       "(9595, 8)"
      ]
     },
     "execution_count": 8,
     "metadata": {},
     "output_type": "execute_result"
    }
   ],
   "source": [
    "df_items.shape"
   ]
  },
  {
   "cell_type": "code",
   "execution_count": 9,
   "metadata": {},
   "outputs": [
    {
     "data": {
      "text/html": [
       "<div style=\"max-height:1000px;max-width:1500px;overflow:auto;\"><table frame=\"box\" rules=\"cols\">\n",
       "    <tr>\n",
       "        <th style=\"padding-left: 1em; padding-right: 1em; text-align: center\">game_id</th>\n",
       "        <th style=\"padding-left: 1em; padding-right: 1em; text-align: center\">user_id</th>\n",
       "        <th style=\"padding-left: 1em; padding-right: 1em; text-align: center\">rating</th>\n",
       "    </tr>\n",
       "    <tr>\n",
       "        <td style=\"padding-left: 1em; padding-right: 1em; text-align: center; vertical-align: top\">1</td>\n",
       "        <td style=\"padding-left: 1em; padding-right: 1em; text-align: center; vertical-align: top\">Lil Red Head</td>\n",
       "        <td style=\"padding-left: 1em; padding-right: 1em; text-align: center; vertical-align: top\">7.0</td>\n",
       "    </tr>\n",
       "    <tr>\n",
       "        <td style=\"padding-left: 1em; padding-right: 1em; text-align: center; vertical-align: top\">1</td>\n",
       "        <td style=\"padding-left: 1em; padding-right: 1em; text-align: center; vertical-align: top\">hsjx945</td>\n",
       "        <td style=\"padding-left: 1em; padding-right: 1em; text-align: center; vertical-align: top\">8.0</td>\n",
       "    </tr>\n",
       "    <tr>\n",
       "        <td style=\"padding-left: 1em; padding-right: 1em; text-align: center; vertical-align: top\">1</td>\n",
       "        <td style=\"padding-left: 1em; padding-right: 1em; text-align: center; vertical-align: top\">RuffRyder</td>\n",
       "        <td style=\"padding-left: 1em; padding-right: 1em; text-align: center; vertical-align: top\">0.0</td>\n",
       "    </tr>\n",
       "    <tr>\n",
       "        <td style=\"padding-left: 1em; padding-right: 1em; text-align: center; vertical-align: top\">1</td>\n",
       "        <td style=\"padding-left: 1em; padding-right: 1em; text-align: center; vertical-align: top\">SkywalterDBZ</td>\n",
       "        <td style=\"padding-left: 1em; padding-right: 1em; text-align: center; vertical-align: top\">7.0</td>\n",
       "    </tr>\n",
       "    <tr>\n",
       "        <td style=\"padding-left: 1em; padding-right: 1em; text-align: center; vertical-align: top\">1</td>\n",
       "        <td style=\"padding-left: 1em; padding-right: 1em; text-align: center; vertical-align: top\">Olmestig</td>\n",
       "        <td style=\"padding-left: 1em; padding-right: 1em; text-align: center; vertical-align: top\">8.0</td>\n",
       "    </tr>\n",
       "    <tr>\n",
       "        <td style=\"padding-left: 1em; padding-right: 1em; text-align: center; vertical-align: top\">1</td>\n",
       "        <td style=\"padding-left: 1em; padding-right: 1em; text-align: center; vertical-align: top\">grassquit</td>\n",
       "        <td style=\"padding-left: 1em; padding-right: 1em; text-align: center; vertical-align: top\">9.0</td>\n",
       "    </tr>\n",
       "    <tr>\n",
       "        <td style=\"padding-left: 1em; padding-right: 1em; text-align: center; vertical-align: top\">1</td>\n",
       "        <td style=\"padding-left: 1em; padding-right: 1em; text-align: center; vertical-align: top\">erzengel</td>\n",
       "        <td style=\"padding-left: 1em; padding-right: 1em; text-align: center; vertical-align: top\">0.0</td>\n",
       "    </tr>\n",
       "    <tr>\n",
       "        <td style=\"padding-left: 1em; padding-right: 1em; text-align: center; vertical-align: top\">1</td>\n",
       "        <td style=\"padding-left: 1em; padding-right: 1em; text-align: center; vertical-align: top\">Feeble</td>\n",
       "        <td style=\"padding-left: 1em; padding-right: 1em; text-align: center; vertical-align: top\">0.0</td>\n",
       "    </tr>\n",
       "    <tr>\n",
       "        <td style=\"padding-left: 1em; padding-right: 1em; text-align: center; vertical-align: top\">1</td>\n",
       "        <td style=\"padding-left: 1em; padding-right: 1em; text-align: center; vertical-align: top\">thisisadamj</td>\n",
       "        <td style=\"padding-left: 1em; padding-right: 1em; text-align: center; vertical-align: top\">0.0</td>\n",
       "    </tr>\n",
       "    <tr>\n",
       "        <td style=\"padding-left: 1em; padding-right: 1em; text-align: center; vertical-align: top\">1</td>\n",
       "        <td style=\"padding-left: 1em; padding-right: 1em; text-align: center; vertical-align: top\">Tiberiusfox</td>\n",
       "        <td style=\"padding-left: 1em; padding-right: 1em; text-align: center; vertical-align: top\">9.0</td>\n",
       "    </tr>\n",
       "</table>\n",
       "[40096849 rows x 3 columns]<br/>Note: Only the head of the SFrame is printed.<br/>You can use print_rows(num_rows=m, num_columns=n) to print more rows and columns.\n",
       "</div>"
      ],
      "text/plain": [
       "Columns:\n",
       "\tgame_id\tint\n",
       "\tuser_id\tstr\n",
       "\trating\tfloat\n",
       "\n",
       "Rows: 40096849\n",
       "\n",
       "Data:\n",
       "+---------+--------------+--------+\n",
       "| game_id |   user_id    | rating |\n",
       "+---------+--------------+--------+\n",
       "|    1    | Lil Red Head |  7.0   |\n",
       "|    1    |   hsjx945    |  8.0   |\n",
       "|    1    |  RuffRyder   |  0.0   |\n",
       "|    1    | SkywalterDBZ |  7.0   |\n",
       "|    1    |   Olmestig   |  8.0   |\n",
       "|    1    |  grassquit   |  9.0   |\n",
       "|    1    |   erzengel   |  0.0   |\n",
       "|    1    |    Feeble    |  0.0   |\n",
       "|    1    | thisisadamj  |  0.0   |\n",
       "|    1    | Tiberiusfox  |  9.0   |\n",
       "+---------+--------------+--------+\n",
       "[40096849 rows x 3 columns]\n",
       "Note: Only the head of the SFrame is printed.\n",
       "You can use print_rows(num_rows=m, num_columns=n) to print more rows and columns."
      ]
     },
     "execution_count": 9,
     "metadata": {},
     "output_type": "execute_result"
    }
   ],
   "source": [
    "actions=actions[['game_id','user_id','rating']]\n",
    "actions"
   ]
  },
  {
   "cell_type": "code",
   "execution_count": 10,
   "metadata": {},
   "outputs": [
    {
     "data": {
      "text/plain": [
       "dtype: float\n",
       "Rows: 10\n",
       "[0.0, 0.0, 0.0, 0.0, 0.0, 0.0, 0.0, 0.0, 0.0, 0.0]"
      ]
     },
     "execution_count": 10,
     "metadata": {},
     "output_type": "execute_result"
    }
   ],
   "source": [
    "actions['rating'].tail()"
   ]
  },
  {
   "cell_type": "code",
   "execution_count": 11,
   "metadata": {},
   "outputs": [],
   "source": [
    "items_final=items.dropna()\n",
    "items_final=items_final[['game_id','category']]"
   ]
  },
  {
   "cell_type": "code",
   "execution_count": 12,
   "metadata": {},
   "outputs": [
    {
     "data": {
      "text/html": [
       "<pre>Preparing data set.</pre>"
      ],
      "text/plain": [
       "Preparing data set."
      ]
     },
     "metadata": {},
     "output_type": "display_data"
    },
    {
     "data": {
      "text/html": [
       "<pre>    Data has 40096849 observations with 486469 users and 9595 items.</pre>"
      ],
      "text/plain": [
       "    Data has 40096849 observations with 486469 users and 9595 items."
      ]
     },
     "metadata": {},
     "output_type": "display_data"
    },
    {
     "data": {
      "text/html": [
       "<pre>    Data prepared in: 33.0836s</pre>"
      ],
      "text/plain": [
       "    Data prepared in: 33.0836s"
      ]
     },
     "metadata": {},
     "output_type": "display_data"
    },
    {
     "data": {
      "text/html": [
       "<pre>Training factorization_recommender for recommendations.</pre>"
      ],
      "text/plain": [
       "Training factorization_recommender for recommendations."
      ]
     },
     "metadata": {},
     "output_type": "display_data"
    },
    {
     "data": {
      "text/html": [
       "<pre>+--------------------------------+--------------------------------------------------+----------+</pre>"
      ],
      "text/plain": [
       "+--------------------------------+--------------------------------------------------+----------+"
      ]
     },
     "metadata": {},
     "output_type": "display_data"
    },
    {
     "data": {
      "text/html": [
       "<pre>| Parameter                      | Description                                      | Value    |</pre>"
      ],
      "text/plain": [
       "| Parameter                      | Description                                      | Value    |"
      ]
     },
     "metadata": {},
     "output_type": "display_data"
    },
    {
     "data": {
      "text/html": [
       "<pre>+--------------------------------+--------------------------------------------------+----------+</pre>"
      ],
      "text/plain": [
       "+--------------------------------+--------------------------------------------------+----------+"
      ]
     },
     "metadata": {},
     "output_type": "display_data"
    },
    {
     "data": {
      "text/html": [
       "<pre>| num_factors                    | Factor Dimension                                 | 8        |</pre>"
      ],
      "text/plain": [
       "| num_factors                    | Factor Dimension                                 | 8        |"
      ]
     },
     "metadata": {},
     "output_type": "display_data"
    },
    {
     "data": {
      "text/html": [
       "<pre>| regularization                 | L2 Regularization on Factors                     | 1e-08    |</pre>"
      ],
      "text/plain": [
       "| regularization                 | L2 Regularization on Factors                     | 1e-08    |"
      ]
     },
     "metadata": {},
     "output_type": "display_data"
    },
    {
     "data": {
      "text/html": [
       "<pre>| solver                         | Solver used for training                         | adagrad  |</pre>"
      ],
      "text/plain": [
       "| solver                         | Solver used for training                         | adagrad  |"
      ]
     },
     "metadata": {},
     "output_type": "display_data"
    },
    {
     "data": {
      "text/html": [
       "<pre>| linear_regularization          | L2 Regularization on Linear Coefficients         | 1e-10    |</pre>"
      ],
      "text/plain": [
       "| linear_regularization          | L2 Regularization on Linear Coefficients         | 1e-10    |"
      ]
     },
     "metadata": {},
     "output_type": "display_data"
    },
    {
     "data": {
      "text/html": [
       "<pre>| side_data_factorization        | Assign Factors for Side Data                     | True     |</pre>"
      ],
      "text/plain": [
       "| side_data_factorization        | Assign Factors for Side Data                     | True     |"
      ]
     },
     "metadata": {},
     "output_type": "display_data"
    },
    {
     "data": {
      "text/html": [
       "<pre>| max_iterations                 | Maximum Number of Iterations                     | 50       |</pre>"
      ],
      "text/plain": [
       "| max_iterations                 | Maximum Number of Iterations                     | 50       |"
      ]
     },
     "metadata": {},
     "output_type": "display_data"
    },
    {
     "data": {
      "text/html": [
       "<pre>+--------------------------------+--------------------------------------------------+----------+</pre>"
      ],
      "text/plain": [
       "+--------------------------------+--------------------------------------------------+----------+"
      ]
     },
     "metadata": {},
     "output_type": "display_data"
    },
    {
     "data": {
      "text/html": [
       "<pre>  Optimizing model using SGD; tuning step size.</pre>"
      ],
      "text/plain": [
       "  Optimizing model using SGD; tuning step size."
      ]
     },
     "metadata": {},
     "output_type": "display_data"
    },
    {
     "data": {
      "text/html": [
       "<pre>  Using 5012106 / 40096849 points for tuning the step size.</pre>"
      ],
      "text/plain": [
       "  Using 5012106 / 40096849 points for tuning the step size."
      ]
     },
     "metadata": {},
     "output_type": "display_data"
    },
    {
     "data": {
      "text/html": [
       "<pre>+---------+-------------------+------------------------------------------+</pre>"
      ],
      "text/plain": [
       "+---------+-------------------+------------------------------------------+"
      ]
     },
     "metadata": {},
     "output_type": "display_data"
    },
    {
     "data": {
      "text/html": [
       "<pre>| Attempt | Initial Step Size | Estimated Objective Value                |</pre>"
      ],
      "text/plain": [
       "| Attempt | Initial Step Size | Estimated Objective Value                |"
      ]
     },
     "metadata": {},
     "output_type": "display_data"
    },
    {
     "data": {
      "text/html": [
       "<pre>+---------+-------------------+------------------------------------------+</pre>"
      ],
      "text/plain": [
       "+---------+-------------------+------------------------------------------+"
      ]
     },
     "metadata": {},
     "output_type": "display_data"
    },
    {
     "data": {
      "text/html": [
       "<pre>| 0       | 16.6667           | 10.5579                                  |</pre>"
      ],
      "text/plain": [
       "| 0       | 16.6667           | 10.5579                                  |"
      ]
     },
     "metadata": {},
     "output_type": "display_data"
    },
    {
     "data": {
      "text/html": [
       "<pre>| 1       | 8.33333           | 7.64329                                  |</pre>"
      ],
      "text/plain": [
       "| 1       | 8.33333           | 7.64329                                  |"
      ]
     },
     "metadata": {},
     "output_type": "display_data"
    },
    {
     "data": {
      "text/html": [
       "<pre>| 2       | 4.16667           | 6.07028                                  |</pre>"
      ],
      "text/plain": [
       "| 2       | 4.16667           | 6.07028                                  |"
      ]
     },
     "metadata": {},
     "output_type": "display_data"
    },
    {
     "data": {
      "text/html": [
       "<pre>| 3       | 2.08333           | 5.22466                                  |</pre>"
      ],
      "text/plain": [
       "| 3       | 2.08333           | 5.22466                                  |"
      ]
     },
     "metadata": {},
     "output_type": "display_data"
    },
    {
     "data": {
      "text/html": [
       "<pre>| 4       | 1.04167           | 4.74913                                  |</pre>"
      ],
      "text/plain": [
       "| 4       | 1.04167           | 4.74913                                  |"
      ]
     },
     "metadata": {},
     "output_type": "display_data"
    },
    {
     "data": {
      "text/html": [
       "<pre>| 5       | 0.520833          | 4.21362                                  |</pre>"
      ],
      "text/plain": [
       "| 5       | 0.520833          | 4.21362                                  |"
      ]
     },
     "metadata": {},
     "output_type": "display_data"
    },
    {
     "data": {
      "text/html": [
       "<pre>| 6       | 0.260417          | 4.25864                                  |</pre>"
      ],
      "text/plain": [
       "| 6       | 0.260417          | 4.25864                                  |"
      ]
     },
     "metadata": {},
     "output_type": "display_data"
    },
    {
     "data": {
      "text/html": [
       "<pre>| 7       | 0.130208          | 5.09424                                  |</pre>"
      ],
      "text/plain": [
       "| 7       | 0.130208          | 5.09424                                  |"
      ]
     },
     "metadata": {},
     "output_type": "display_data"
    },
    {
     "data": {
      "text/html": [
       "<pre>| 8       | 0.0651042         | 5.74414                                  |</pre>"
      ],
      "text/plain": [
       "| 8       | 0.0651042         | 5.74414                                  |"
      ]
     },
     "metadata": {},
     "output_type": "display_data"
    },
    {
     "data": {
      "text/html": [
       "<pre>+---------+-------------------+------------------------------------------+</pre>"
      ],
      "text/plain": [
       "+---------+-------------------+------------------------------------------+"
      ]
     },
     "metadata": {},
     "output_type": "display_data"
    },
    {
     "data": {
      "text/html": [
       "<pre>| Final   | 0.520833          | 4.21362                                  |</pre>"
      ],
      "text/plain": [
       "| Final   | 0.520833          | 4.21362                                  |"
      ]
     },
     "metadata": {},
     "output_type": "display_data"
    },
    {
     "data": {
      "text/html": [
       "<pre>+---------+-------------------+------------------------------------------+</pre>"
      ],
      "text/plain": [
       "+---------+-------------------+------------------------------------------+"
      ]
     },
     "metadata": {},
     "output_type": "display_data"
    },
    {
     "data": {
      "text/html": [
       "<pre>Starting Optimization.</pre>"
      ],
      "text/plain": [
       "Starting Optimization."
      ]
     },
     "metadata": {},
     "output_type": "display_data"
    },
    {
     "data": {
      "text/html": [
       "<pre>+---------+--------------+-------------------+-----------------------+-------------+</pre>"
      ],
      "text/plain": [
       "+---------+--------------+-------------------+-----------------------+-------------+"
      ]
     },
     "metadata": {},
     "output_type": "display_data"
    },
    {
     "data": {
      "text/html": [
       "<pre>| Iter.   | Elapsed Time | Approx. Objective | Approx. Training RMSE | Step Size   |</pre>"
      ],
      "text/plain": [
       "| Iter.   | Elapsed Time | Approx. Objective | Approx. Training RMSE | Step Size   |"
      ]
     },
     "metadata": {},
     "output_type": "display_data"
    },
    {
     "data": {
      "text/html": [
       "<pre>+---------+--------------+-------------------+-----------------------+-------------+</pre>"
      ],
      "text/plain": [
       "+---------+--------------+-------------------+-----------------------+-------------+"
      ]
     },
     "metadata": {},
     "output_type": "display_data"
    },
    {
     "data": {
      "text/html": [
       "<pre>| Initial | 6.566ms      | 12.5715           | 3.54564               |             |</pre>"
      ],
      "text/plain": [
       "| Initial | 6.566ms      | 12.5715           | 3.54564               |             |"
      ]
     },
     "metadata": {},
     "output_type": "display_data"
    },
    {
     "data": {
      "text/html": [
       "<pre>+---------+--------------+-------------------+-----------------------+-------------+</pre>"
      ],
      "text/plain": [
       "+---------+--------------+-------------------+-----------------------+-------------+"
      ]
     },
     "metadata": {},
     "output_type": "display_data"
    },
    {
     "data": {
      "text/html": [
       "<pre>| 1       | 9.76s        | 6.47831           | 2.5395                | 0.520833    |</pre>"
      ],
      "text/plain": [
       "| 1       | 9.76s        | 6.47831           | 2.5395                | 0.520833    |"
      ]
     },
     "metadata": {},
     "output_type": "display_data"
    },
    {
     "data": {
      "text/html": [
       "<pre>| 2       | 19.43s       | 5.71101           | 2.38403               | 0.520833    |</pre>"
      ],
      "text/plain": [
       "| 2       | 19.43s       | 5.71101           | 2.38403               | 0.520833    |"
      ]
     },
     "metadata": {},
     "output_type": "display_data"
    },
    {
     "data": {
      "text/html": [
       "<pre>| 3       | 29.39s       | 5.51569           | 2.34288               | 0.520833    |</pre>"
      ],
      "text/plain": [
       "| 3       | 29.39s       | 5.51569           | 2.34288               | 0.520833    |"
      ]
     },
     "metadata": {},
     "output_type": "display_data"
    },
    {
     "data": {
      "text/html": [
       "<pre>| 4       | 39.14s       | 5.4253            | 2.32354               | 0.520833    |</pre>"
      ],
      "text/plain": [
       "| 4       | 39.14s       | 5.4253            | 2.32354               | 0.520833    |"
      ]
     },
     "metadata": {},
     "output_type": "display_data"
    },
    {
     "data": {
      "text/html": [
       "<pre>| 5       | 49.02s       | 5.37336           | 2.31232               | 0.520833    |</pre>"
      ],
      "text/plain": [
       "| 5       | 49.02s       | 5.37336           | 2.31232               | 0.520833    |"
      ]
     },
     "metadata": {},
     "output_type": "display_data"
    },
    {
     "data": {
      "text/html": [
       "<pre>| 7       | 1m 8s        | 5.31163           | 2.29886               | 0.520833    |</pre>"
      ],
      "text/plain": [
       "| 7       | 1m 8s        | 5.31163           | 2.29886               | 0.520833    |"
      ]
     },
     "metadata": {},
     "output_type": "display_data"
    },
    {
     "data": {
      "text/html": [
       "<pre>| 8       | 1m 18s       | 5.28691           | 2.29345               | 0.520833    |</pre>"
      ],
      "text/plain": [
       "| 8       | 1m 18s       | 5.28691           | 2.29345               | 0.520833    |"
      ]
     },
     "metadata": {},
     "output_type": "display_data"
    },
    {
     "data": {
      "text/html": [
       "<pre>| 9       | 1m 29s       | 5.27311           | 2.29043               | 0.520833    |</pre>"
      ],
      "text/plain": [
       "| 9       | 1m 29s       | 5.27311           | 2.29043               | 0.520833    |"
      ]
     },
     "metadata": {},
     "output_type": "display_data"
    },
    {
     "data": {
      "text/html": [
       "<pre>| 10      | 1m 40s       | 5.25772           | 2.28705               | 0.520833    |</pre>"
      ],
      "text/plain": [
       "| 10      | 1m 40s       | 5.25772           | 2.28705               | 0.520833    |"
      ]
     },
     "metadata": {},
     "output_type": "display_data"
    },
    {
     "data": {
      "text/html": [
       "<pre>| 11      | 1m 52s       | 5.24784           | 2.28487               | 0.520833    |</pre>"
      ],
      "text/plain": [
       "| 11      | 1m 52s       | 5.24784           | 2.28487               | 0.520833    |"
      ]
     },
     "metadata": {},
     "output_type": "display_data"
    },
    {
     "data": {
      "text/html": [
       "<pre>| 12      | 2m 2s        | 5.23684           | 2.28246               | 0.520833    |</pre>"
      ],
      "text/plain": [
       "| 12      | 2m 2s        | 5.23684           | 2.28246               | 0.520833    |"
      ]
     },
     "metadata": {},
     "output_type": "display_data"
    },
    {
     "data": {
      "text/html": [
       "<pre>| 13      | 2m 13s       | 5.22844           | 2.28061               | 0.520833    |</pre>"
      ],
      "text/plain": [
       "| 13      | 2m 13s       | 5.22844           | 2.28061               | 0.520833    |"
      ]
     },
     "metadata": {},
     "output_type": "display_data"
    },
    {
     "data": {
      "text/html": [
       "<pre>| 14      | 2m 32s       | 5.22055           | 2.27887               | 0.520833    |</pre>"
      ],
      "text/plain": [
       "| 14      | 2m 32s       | 5.22055           | 2.27887               | 0.520833    |"
      ]
     },
     "metadata": {},
     "output_type": "display_data"
    },
    {
     "data": {
      "text/html": [
       "<pre>| 15      | 3m 0s        | 5.21361           | 2.27734               | 0.520833    |</pre>"
      ],
      "text/plain": [
       "| 15      | 3m 0s        | 5.21361           | 2.27734               | 0.520833    |"
      ]
     },
     "metadata": {},
     "output_type": "display_data"
    },
    {
     "data": {
      "text/html": [
       "<pre>| 16      | 3m 19s       | 5.2073            | 2.27595               | 0.520833    |</pre>"
      ],
      "text/plain": [
       "| 16      | 3m 19s       | 5.2073            | 2.27595               | 0.520833    |"
      ]
     },
     "metadata": {},
     "output_type": "display_data"
    },
    {
     "data": {
      "text/html": [
       "<pre>| 17      | 3m 36s       | 5.20198           | 2.27478               | 0.520833    |</pre>"
      ],
      "text/plain": [
       "| 17      | 3m 36s       | 5.20198           | 2.27478               | 0.520833    |"
      ]
     },
     "metadata": {},
     "output_type": "display_data"
    },
    {
     "data": {
      "text/html": [
       "<pre>| 18      | 3m 55s       | 5.19692           | 2.27366               | 0.520833    |</pre>"
      ],
      "text/plain": [
       "| 18      | 3m 55s       | 5.19692           | 2.27366               | 0.520833    |"
      ]
     },
     "metadata": {},
     "output_type": "display_data"
    },
    {
     "data": {
      "text/html": [
       "<pre>| 19      | 4m 16s       | 5.1917            | 2.27251               | 0.520833    |</pre>"
      ],
      "text/plain": [
       "| 19      | 4m 16s       | 5.1917            | 2.27251               | 0.520833    |"
      ]
     },
     "metadata": {},
     "output_type": "display_data"
    },
    {
     "data": {
      "text/html": [
       "<pre>| 20      | 4m 40s       | 5.18768           | 2.27162               | 0.520833    |</pre>"
      ],
      "text/plain": [
       "| 20      | 4m 40s       | 5.18768           | 2.27162               | 0.520833    |"
      ]
     },
     "metadata": {},
     "output_type": "display_data"
    },
    {
     "data": {
      "text/html": [
       "<pre>| 21      | 4m 57s       | 5.18369           | 2.27074               | 0.520833    |</pre>"
      ],
      "text/plain": [
       "| 21      | 4m 57s       | 5.18369           | 2.27074               | 0.520833    |"
      ]
     },
     "metadata": {},
     "output_type": "display_data"
    },
    {
     "data": {
      "text/html": [
       "<pre>| 22      | 5m 15s       | 5.18003           | 2.26993               | 0.520833    |</pre>"
      ],
      "text/plain": [
       "| 22      | 5m 15s       | 5.18003           | 2.26993               | 0.520833    |"
      ]
     },
     "metadata": {},
     "output_type": "display_data"
    },
    {
     "data": {
      "text/html": [
       "<pre>| 23      | 5m 38s       | 5.17663           | 2.26918               | 0.520833    |</pre>"
      ],
      "text/plain": [
       "| 23      | 5m 38s       | 5.17663           | 2.26918               | 0.520833    |"
      ]
     },
     "metadata": {},
     "output_type": "display_data"
    },
    {
     "data": {
      "text/html": [
       "<pre>| 24      | 6m 7s        | 5.17187           | 2.26813               | 0.520833    |</pre>"
      ],
      "text/plain": [
       "| 24      | 6m 7s        | 5.17187           | 2.26813               | 0.520833    |"
      ]
     },
     "metadata": {},
     "output_type": "display_data"
    },
    {
     "data": {
      "text/html": [
       "<pre>| 25      | 6m 36s       | 5.16888           | 2.26747               | 0.520833    |</pre>"
      ],
      "text/plain": [
       "| 25      | 6m 36s       | 5.16888           | 2.26747               | 0.520833    |"
      ]
     },
     "metadata": {},
     "output_type": "display_data"
    },
    {
     "data": {
      "text/html": [
       "<pre>| 26      | 7m 5s        | 5.16722           | 2.2671                | 0.520833    |</pre>"
      ],
      "text/plain": [
       "| 26      | 7m 5s        | 5.16722           | 2.2671                | 0.520833    |"
      ]
     },
     "metadata": {},
     "output_type": "display_data"
    },
    {
     "data": {
      "text/html": [
       "<pre>| 27      | 7m 28s       | 5.1634            | 2.26626               | 0.520833    |</pre>"
      ],
      "text/plain": [
       "| 27      | 7m 28s       | 5.1634            | 2.26626               | 0.520833    |"
      ]
     },
     "metadata": {},
     "output_type": "display_data"
    },
    {
     "data": {
      "text/html": [
       "<pre>| 28      | 7m 45s       | 5.16177           | 2.2659                | 0.520833    |</pre>"
      ],
      "text/plain": [
       "| 28      | 7m 45s       | 5.16177           | 2.2659                | 0.520833    |"
      ]
     },
     "metadata": {},
     "output_type": "display_data"
    },
    {
     "data": {
      "text/html": [
       "<pre>| 29      | 8m 11s       | 5.16011           | 2.26554               | 0.520833    |</pre>"
      ],
      "text/plain": [
       "| 29      | 8m 11s       | 5.16011           | 2.26554               | 0.520833    |"
      ]
     },
     "metadata": {},
     "output_type": "display_data"
    },
    {
     "data": {
      "text/html": [
       "<pre>| 30      | 8m 40s       | 5.15658           | 2.26476               | 0.520833    |</pre>"
      ],
      "text/plain": [
       "| 30      | 8m 40s       | 5.15658           | 2.26476               | 0.520833    |"
      ]
     },
     "metadata": {},
     "output_type": "display_data"
    },
    {
     "data": {
      "text/html": [
       "<pre>| 31      | 9m 5s        | 5.15475           | 2.26435               | 0.520833    |</pre>"
      ],
      "text/plain": [
       "| 31      | 9m 5s        | 5.15475           | 2.26435               | 0.520833    |"
      ]
     },
     "metadata": {},
     "output_type": "display_data"
    },
    {
     "data": {
      "text/html": [
       "<pre>| 32      | 9m 29s       | 5.15275           | 2.26391               | 0.520833    |</pre>"
      ],
      "text/plain": [
       "| 32      | 9m 29s       | 5.15275           | 2.26391               | 0.520833    |"
      ]
     },
     "metadata": {},
     "output_type": "display_data"
    },
    {
     "data": {
      "text/html": [
       "<pre>| 33      | 9m 53s       | 5.15003           | 2.26331               | 0.520833    |</pre>"
      ],
      "text/plain": [
       "| 33      | 9m 53s       | 5.15003           | 2.26331               | 0.520833    |"
      ]
     },
     "metadata": {},
     "output_type": "display_data"
    },
    {
     "data": {
      "text/html": [
       "<pre>| 34      | 10m 17s      | 5.14912           | 2.26311               | 0.520833    |</pre>"
      ],
      "text/plain": [
       "| 34      | 10m 17s      | 5.14912           | 2.26311               | 0.520833    |"
      ]
     },
     "metadata": {},
     "output_type": "display_data"
    },
    {
     "data": {
      "text/html": [
       "<pre>| 35      | 10m 42s      | 5.14651           | 2.26253               | 0.520833    |</pre>"
      ],
      "text/plain": [
       "| 35      | 10m 42s      | 5.14651           | 2.26253               | 0.520833    |"
      ]
     },
     "metadata": {},
     "output_type": "display_data"
    },
    {
     "data": {
      "text/html": [
       "<pre>| 36      | 11m 7s       | 5.14521           | 2.26224               | 0.520833    |</pre>"
      ],
      "text/plain": [
       "| 36      | 11m 7s       | 5.14521           | 2.26224               | 0.520833    |"
      ]
     },
     "metadata": {},
     "output_type": "display_data"
    },
    {
     "data": {
      "text/html": [
       "<pre>| 37      | 11m 34s      | 5.14265           | 2.26168               | 0.520833    |</pre>"
      ],
      "text/plain": [
       "| 37      | 11m 34s      | 5.14265           | 2.26168               | 0.520833    |"
      ]
     },
     "metadata": {},
     "output_type": "display_data"
    },
    {
     "data": {
      "text/html": [
       "<pre>| 38      | 11m 58s      | 5.14131           | 2.26138               | 0.520833    |</pre>"
      ],
      "text/plain": [
       "| 38      | 11m 58s      | 5.14131           | 2.26138               | 0.520833    |"
      ]
     },
     "metadata": {},
     "output_type": "display_data"
    },
    {
     "data": {
      "text/html": [
       "<pre>| 39      | 12m 22s      | 5.14045           | 2.26119               | 0.520833    |</pre>"
      ],
      "text/plain": [
       "| 39      | 12m 22s      | 5.14045           | 2.26119               | 0.520833    |"
      ]
     },
     "metadata": {},
     "output_type": "display_data"
    },
    {
     "data": {
      "text/html": [
       "<pre>| 40      | 12m 48s      | 5.13777           | 2.2606                | 0.520833    |</pre>"
      ],
      "text/plain": [
       "| 40      | 12m 48s      | 5.13777           | 2.2606                | 0.520833    |"
      ]
     },
     "metadata": {},
     "output_type": "display_data"
    },
    {
     "data": {
      "text/html": [
       "<pre>| 41      | 13m 12s      | 5.13718           | 2.26047               | 0.520833    |</pre>"
      ],
      "text/plain": [
       "| 41      | 13m 12s      | 5.13718           | 2.26047               | 0.520833    |"
      ]
     },
     "metadata": {},
     "output_type": "display_data"
    },
    {
     "data": {
      "text/html": [
       "<pre>| 42      | 13m 38s      | 5.13532           | 2.26006               | 0.520833    |</pre>"
      ],
      "text/plain": [
       "| 42      | 13m 38s      | 5.13532           | 2.26006               | 0.520833    |"
      ]
     },
     "metadata": {},
     "output_type": "display_data"
    },
    {
     "data": {
      "text/html": [
       "<pre>| 43      | 14m 8s       | 5.13305           | 2.25956               | 0.520833    |</pre>"
      ],
      "text/plain": [
       "| 43      | 14m 8s       | 5.13305           | 2.25956               | 0.520833    |"
      ]
     },
     "metadata": {},
     "output_type": "display_data"
    },
    {
     "data": {
      "text/html": [
       "<pre>| 44      | 14m 35s      | 5.13207           | 2.25934               | 0.520833    |</pre>"
      ],
      "text/plain": [
       "| 44      | 14m 35s      | 5.13207           | 2.25934               | 0.520833    |"
      ]
     },
     "metadata": {},
     "output_type": "display_data"
    },
    {
     "data": {
      "text/html": [
       "<pre>| 45      | 14m 59s      | 5.13187           | 2.2593                | 0.520833    |</pre>"
      ],
      "text/plain": [
       "| 45      | 14m 59s      | 5.13187           | 2.2593                | 0.520833    |"
      ]
     },
     "metadata": {},
     "output_type": "display_data"
    },
    {
     "data": {
      "text/html": [
       "<pre>| 46      | 15m 23s      | 5.13016           | 2.25892               | 0.520833    |</pre>"
      ],
      "text/plain": [
       "| 46      | 15m 23s      | 5.13016           | 2.25892               | 0.520833    |"
      ]
     },
     "metadata": {},
     "output_type": "display_data"
    },
    {
     "data": {
      "text/html": [
       "<pre>| 47      | 15m 50s      | 5.12928           | 2.25873               | 0.520833    |</pre>"
      ],
      "text/plain": [
       "| 47      | 15m 50s      | 5.12928           | 2.25873               | 0.520833    |"
      ]
     },
     "metadata": {},
     "output_type": "display_data"
    },
    {
     "data": {
      "text/html": [
       "<pre>| 48      | 16m 19s      | 5.12709           | 2.25824               | 0.520833    |</pre>"
      ],
      "text/plain": [
       "| 48      | 16m 19s      | 5.12709           | 2.25824               | 0.520833    |"
      ]
     },
     "metadata": {},
     "output_type": "display_data"
    },
    {
     "data": {
      "text/html": [
       "<pre>| 49      | 16m 49s      | 5.12631           | 2.25807               | 0.520833    |</pre>"
      ],
      "text/plain": [
       "| 49      | 16m 49s      | 5.12631           | 2.25807               | 0.520833    |"
      ]
     },
     "metadata": {},
     "output_type": "display_data"
    },
    {
     "data": {
      "text/html": [
       "<pre>| 50      | 17m 14s      | 5.1257            | 2.25794               | 0.520833    |</pre>"
      ],
      "text/plain": [
       "| 50      | 17m 14s      | 5.1257            | 2.25794               | 0.520833    |"
      ]
     },
     "metadata": {},
     "output_type": "display_data"
    },
    {
     "data": {
      "text/html": [
       "<pre>+---------+--------------+-------------------+-----------------------+-------------+</pre>"
      ],
      "text/plain": [
       "+---------+--------------+-------------------+-----------------------+-------------+"
      ]
     },
     "metadata": {},
     "output_type": "display_data"
    },
    {
     "data": {
      "text/html": [
       "<pre>Optimization Complete: Maximum number of passes through the data reached.</pre>"
      ],
      "text/plain": [
       "Optimization Complete: Maximum number of passes through the data reached."
      ]
     },
     "metadata": {},
     "output_type": "display_data"
    },
    {
     "data": {
      "text/html": [
       "<pre>Computing final objective value and training RMSE.</pre>"
      ],
      "text/plain": [
       "Computing final objective value and training RMSE."
      ]
     },
     "metadata": {},
     "output_type": "display_data"
    },
    {
     "data": {
      "text/html": [
       "<pre>       Final objective value: 5.09437</pre>"
      ],
      "text/plain": [
       "       Final objective value: 5.09437"
      ]
     },
     "metadata": {},
     "output_type": "display_data"
    },
    {
     "data": {
      "text/html": [
       "<pre>       Final training RMSE: 2.25099</pre>"
      ],
      "text/plain": [
       "       Final training RMSE: 2.25099"
      ]
     },
     "metadata": {},
     "output_type": "display_data"
    }
   ],
   "source": [
    "\n",
    "\n",
    "model = tc.factorization_recommender.create(actions,'user_id','game_id',target='rating',item_data=items_final,side_data_factorization=True)\n",
    "\n"
   ]
  },
  {
   "cell_type": "code",
   "execution_count": 13,
   "metadata": {},
   "outputs": [],
   "source": [
    "#save model\n",
    "\n",
    "model.save('game_rec_model_750_bgguser_sideinfo')"
   ]
  },
  {
   "cell_type": "code",
   "execution_count": 14,
   "metadata": {},
   "outputs": [],
   "source": [
    "#load model\n",
    "rec_model=tc.load_model('game_rec_model_750_bgguser_sideinfo')"
   ]
  },
  {
   "cell_type": "code",
   "execution_count": 15,
   "metadata": {},
   "outputs": [
    {
     "data": {
      "text/plain": [
       "Class                            : FactorizationRecommender\n",
       "\n",
       "Schema\n",
       "------\n",
       "User ID                          : user_id\n",
       "Item ID                          : game_id\n",
       "Target                           : rating\n",
       "Additional observation features  : 0\n",
       "User side features               : []\n",
       "Item side features               : ['game_id', 'category']\n",
       "\n",
       "Statistics\n",
       "----------\n",
       "Number of observations           : 40096849\n",
       "Number of users                  : 486469\n",
       "Number of items                  : 9595\n",
       "\n",
       "Training summary\n",
       "----------------\n",
       "Training time                    : 1108.6337\n",
       "\n",
       "Model Parameters\n",
       "----------------\n",
       "Model class                      : FactorizationRecommender\n",
       "num_factors                      : 8\n",
       "binary_target                    : 0\n",
       "side_data_factorization          : 1\n",
       "solver                           : auto\n",
       "nmf                              : 0\n",
       "max_iterations                   : 50\n",
       "\n",
       "Regularization Settings\n",
       "-----------------------\n",
       "regularization                   : 0.0\n",
       "regularization_type              : normal\n",
       "linear_regularization            : 0.0\n",
       "\n",
       "Optimization Settings\n",
       "---------------------\n",
       "init_random_sigma                : 0.01\n",
       "sgd_convergence_interval         : 4\n",
       "sgd_convergence_threshold        : 0.0\n",
       "sgd_max_trial_iterations         : 5\n",
       "sgd_sampling_block_size          : 131072\n",
       "sgd_step_adjustment_interval     : 4\n",
       "sgd_step_size                    : 0.0\n",
       "sgd_trial_sample_minimum_size    : 10000\n",
       "sgd_trial_sample_proportion      : 0.125\n",
       "step_size_decrease_rate          : 0.75\n",
       "additional_iterations_if_unhealthy : 5\n",
       "adagrad_momentum_weighting       : 0.9\n",
       "num_tempering_iterations         : 4\n",
       "tempering_regularization_start_value : 0.0\n",
       "track_exact_loss                 : 0"
      ]
     },
     "execution_count": 15,
     "metadata": {},
     "output_type": "execute_result"
    }
   ],
   "source": [
    "rec_model"
   ]
  },
  {
   "cell_type": "code",
   "execution_count": 17,
   "metadata": {},
   "outputs": [
    {
     "data": {
      "text/html": [
       "<div style=\"max-height:1000px;max-width:1500px;overflow:auto;\"><table frame=\"box\" rules=\"cols\">\n",
       "    <tr>\n",
       "        <th style=\"padding-left: 1em; padding-right: 1em; text-align: center\">user_id</th>\n",
       "        <th style=\"padding-left: 1em; padding-right: 1em; text-align: center\">game_id</th>\n",
       "        <th style=\"padding-left: 1em; padding-right: 1em; text-align: center\">score</th>\n",
       "        <th style=\"padding-left: 1em; padding-right: 1em; text-align: center\">rank</th>\n",
       "    </tr>\n",
       "    <tr>\n",
       "        <td style=\"padding-left: 1em; padding-right: 1em; text-align: center; vertical-align: top\">Tiberiusfox</td>\n",
       "        <td style=\"padding-left: 1em; padding-right: 1em; text-align: center; vertical-align: top\">170216</td>\n",
       "        <td style=\"padding-left: 1em; padding-right: 1em; text-align: center; vertical-align: top\">8.546273234561069</td>\n",
       "        <td style=\"padding-left: 1em; padding-right: 1em; text-align: center; vertical-align: top\">1</td>\n",
       "    </tr>\n",
       "    <tr>\n",
       "        <td style=\"padding-left: 1em; padding-right: 1em; text-align: center; vertical-align: top\">Tiberiusfox</td>\n",
       "        <td style=\"padding-left: 1em; padding-right: 1em; text-align: center; vertical-align: top\">150376</td>\n",
       "        <td style=\"padding-left: 1em; padding-right: 1em; text-align: center; vertical-align: top\">8.539159300997836</td>\n",
       "        <td style=\"padding-left: 1em; padding-right: 1em; text-align: center; vertical-align: top\">2</td>\n",
       "    </tr>\n",
       "    <tr>\n",
       "        <td style=\"padding-left: 1em; padding-right: 1em; text-align: center; vertical-align: top\">Tiberiusfox</td>\n",
       "        <td style=\"padding-left: 1em; padding-right: 1em; text-align: center; vertical-align: top\">110327</td>\n",
       "        <td style=\"padding-left: 1em; padding-right: 1em; text-align: center; vertical-align: top\">8.313701155856235</td>\n",
       "        <td style=\"padding-left: 1em; padding-right: 1em; text-align: center; vertical-align: top\">3</td>\n",
       "    </tr>\n",
       "    <tr>\n",
       "        <td style=\"padding-left: 1em; padding-right: 1em; text-align: center; vertical-align: top\">Tiberiusfox</td>\n",
       "        <td style=\"padding-left: 1em; padding-right: 1em; text-align: center; vertical-align: top\">54043</td>\n",
       "        <td style=\"padding-left: 1em; padding-right: 1em; text-align: center; vertical-align: top\">8.203032973483188</td>\n",
       "        <td style=\"padding-left: 1em; padding-right: 1em; text-align: center; vertical-align: top\">4</td>\n",
       "    </tr>\n",
       "    <tr>\n",
       "        <td style=\"padding-left: 1em; padding-right: 1em; text-align: center; vertical-align: top\">Tiberiusfox</td>\n",
       "        <td style=\"padding-left: 1em; padding-right: 1em; text-align: center; vertical-align: top\">161970</td>\n",
       "        <td style=\"padding-left: 1em; padding-right: 1em; text-align: center; vertical-align: top\">8.078403475955112</td>\n",
       "        <td style=\"padding-left: 1em; padding-right: 1em; text-align: center; vertical-align: top\">5</td>\n",
       "    </tr>\n",
       "    <tr>\n",
       "        <td style=\"padding-left: 1em; padding-right: 1em; text-align: center; vertical-align: top\">Tiberiusfox</td>\n",
       "        <td style=\"padding-left: 1em; padding-right: 1em; text-align: center; vertical-align: top\">183394</td>\n",
       "        <td style=\"padding-left: 1em; padding-right: 1em; text-align: center; vertical-align: top\">7.896399024203403</td>\n",
       "        <td style=\"padding-left: 1em; padding-right: 1em; text-align: center; vertical-align: top\">6</td>\n",
       "    </tr>\n",
       "    <tr>\n",
       "        <td style=\"padding-left: 1em; padding-right: 1em; text-align: center; vertical-align: top\">Tiberiusfox</td>\n",
       "        <td style=\"padding-left: 1em; padding-right: 1em; text-align: center; vertical-align: top\">521</td>\n",
       "        <td style=\"padding-left: 1em; padding-right: 1em; text-align: center; vertical-align: top\">7.819412949755771</td>\n",
       "        <td style=\"padding-left: 1em; padding-right: 1em; text-align: center; vertical-align: top\">7</td>\n",
       "    </tr>\n",
       "    <tr>\n",
       "        <td style=\"padding-left: 1em; padding-right: 1em; text-align: center; vertical-align: top\">Tiberiusfox</td>\n",
       "        <td style=\"padding-left: 1em; padding-right: 1em; text-align: center; vertical-align: top\">147020</td>\n",
       "        <td style=\"padding-left: 1em; padding-right: 1em; text-align: center; vertical-align: top\">7.7076945335417815</td>\n",
       "        <td style=\"padding-left: 1em; padding-right: 1em; text-align: center; vertical-align: top\">8</td>\n",
       "    </tr>\n",
       "    <tr>\n",
       "        <td style=\"padding-left: 1em; padding-right: 1em; text-align: center; vertical-align: top\">Tiberiusfox</td>\n",
       "        <td style=\"padding-left: 1em; padding-right: 1em; text-align: center; vertical-align: top\">209010</td>\n",
       "        <td style=\"padding-left: 1em; padding-right: 1em; text-align: center; vertical-align: top\">7.6776347190886565</td>\n",
       "        <td style=\"padding-left: 1em; padding-right: 1em; text-align: center; vertical-align: top\">9</td>\n",
       "    </tr>\n",
       "    <tr>\n",
       "        <td style=\"padding-left: 1em; padding-right: 1em; text-align: center; vertical-align: top\">Tiberiusfox</td>\n",
       "        <td style=\"padding-left: 1em; padding-right: 1em; text-align: center; vertical-align: top\">70919</td>\n",
       "        <td style=\"padding-left: 1em; padding-right: 1em; text-align: center; vertical-align: top\">7.663321736529452</td>\n",
       "        <td style=\"padding-left: 1em; padding-right: 1em; text-align: center; vertical-align: top\">10</td>\n",
       "    </tr>\n",
       "</table>\n",
       "[50 rows x 4 columns]<br/>Note: Only the head of the SFrame is printed.<br/>You can use print_rows(num_rows=m, num_columns=n) to print more rows and columns.\n",
       "</div>"
      ],
      "text/plain": [
       "Columns:\n",
       "\tuser_id\tstr\n",
       "\tgame_id\tint\n",
       "\tscore\tfloat\n",
       "\trank\tint\n",
       "\n",
       "Rows: 50\n",
       "\n",
       "Data:\n",
       "+-------------+---------+--------------------+------+\n",
       "|   user_id   | game_id |       score        | rank |\n",
       "+-------------+---------+--------------------+------+\n",
       "| Tiberiusfox |  170216 | 8.546273234561069  |  1   |\n",
       "| Tiberiusfox |  150376 | 8.539159300997836  |  2   |\n",
       "| Tiberiusfox |  110327 | 8.313701155856235  |  3   |\n",
       "| Tiberiusfox |  54043  | 8.203032973483188  |  4   |\n",
       "| Tiberiusfox |  161970 | 8.078403475955112  |  5   |\n",
       "| Tiberiusfox |  183394 | 7.896399024203403  |  6   |\n",
       "| Tiberiusfox |   521   | 7.819412949755771  |  7   |\n",
       "| Tiberiusfox |  147020 | 7.7076945335417815 |  8   |\n",
       "| Tiberiusfox |  209010 | 7.6776347190886565 |  9   |\n",
       "| Tiberiusfox |  70919  | 7.663321736529452  |  10  |\n",
       "+-------------+---------+--------------------+------+\n",
       "[50 rows x 4 columns]\n",
       "Note: Only the head of the SFrame is printed.\n",
       "You can use print_rows(num_rows=m, num_columns=n) to print more rows and columns."
      ]
     },
     "execution_count": 17,
     "metadata": {},
     "output_type": "execute_result"
    }
   ],
   "source": [
    "#try with random user input data\n",
    "#new_obs_data = tc.SFrame({ 'user_id' : ['survey', 'survey', 'survey', 'survey', 'survey'],\n",
    "                               # 'game_id' : ['4098', '9216', '475', '148228', '68448']})\n",
    "\n",
    "new_obs_data = ['Tiberiusfox']\n",
    "\n",
    "\n",
    "#recommend_games = rec_model.recommend_from_interactions([4098,9216,475])\n",
    "recommend_games = rec_model.recommend(new_obs_data,k=50)\n",
    "recommend_games"
   ]
  },
  {
   "cell_type": "code",
   "execution_count": 56,
   "metadata": {},
   "outputs": [
    {
     "data": {
      "text/html": [
       "<div style=\"max-height:1000px;max-width:1500px;overflow:auto;\"><table frame=\"box\" rules=\"cols\">\n",
       "    <tr>\n",
       "        <th style=\"padding-left: 1em; padding-right: 1em; text-align: center\">user_id</th>\n",
       "        <th style=\"padding-left: 1em; padding-right: 1em; text-align: center\">game_id</th>\n",
       "        <th style=\"padding-left: 1em; padding-right: 1em; text-align: center\">score</th>\n",
       "        <th style=\"padding-left: 1em; padding-right: 1em; text-align: center\">rank</th>\n",
       "    </tr>\n",
       "    <tr>\n",
       "        <td style=\"padding-left: 1em; padding-right: 1em; text-align: center; vertical-align: top\">hsjx945</td>\n",
       "        <td style=\"padding-left: 1em; padding-right: 1em; text-align: center; vertical-align: top\">245354</td>\n",
       "        <td style=\"padding-left: 1em; padding-right: 1em; text-align: center; vertical-align: top\">8.899896505549533</td>\n",
       "        <td style=\"padding-left: 1em; padding-right: 1em; text-align: center; vertical-align: top\">1</td>\n",
       "    </tr>\n",
       "    <tr>\n",
       "        <td style=\"padding-left: 1em; padding-right: 1em; text-align: center; vertical-align: top\">hsjx945</td>\n",
       "        <td style=\"padding-left: 1em; padding-right: 1em; text-align: center; vertical-align: top\">245352</td>\n",
       "        <td style=\"padding-left: 1em; padding-right: 1em; text-align: center; vertical-align: top\">8.86388409443198</td>\n",
       "        <td style=\"padding-left: 1em; padding-right: 1em; text-align: center; vertical-align: top\">2</td>\n",
       "    </tr>\n",
       "    <tr>\n",
       "        <td style=\"padding-left: 1em; padding-right: 1em; text-align: center; vertical-align: top\">hsjx945</td>\n",
       "        <td style=\"padding-left: 1em; padding-right: 1em; text-align: center; vertical-align: top\">216092</td>\n",
       "        <td style=\"padding-left: 1em; padding-right: 1em; text-align: center; vertical-align: top\">8.856959703639133</td>\n",
       "        <td style=\"padding-left: 1em; padding-right: 1em; text-align: center; vertical-align: top\">3</td>\n",
       "    </tr>\n",
       "    <tr>\n",
       "        <td style=\"padding-left: 1em; padding-right: 1em; text-align: center; vertical-align: top\">hsjx945</td>\n",
       "        <td style=\"padding-left: 1em; padding-right: 1em; text-align: center; vertical-align: top\">258412</td>\n",
       "        <td style=\"padding-left: 1em; padding-right: 1em; text-align: center; vertical-align: top\">8.738543632701022</td>\n",
       "        <td style=\"padding-left: 1em; padding-right: 1em; text-align: center; vertical-align: top\">4</td>\n",
       "    </tr>\n",
       "    <tr>\n",
       "        <td style=\"padding-left: 1em; padding-right: 1em; text-align: center; vertical-align: top\">hsjx945</td>\n",
       "        <td style=\"padding-left: 1em; padding-right: 1em; text-align: center; vertical-align: top\">216091</td>\n",
       "        <td style=\"padding-left: 1em; padding-right: 1em; text-align: center; vertical-align: top\">8.628232124522311</td>\n",
       "        <td style=\"padding-left: 1em; padding-right: 1em; text-align: center; vertical-align: top\">5</td>\n",
       "    </tr>\n",
       "    <tr>\n",
       "        <td style=\"padding-left: 1em; padding-right: 1em; text-align: center; vertical-align: top\">hsjx945</td>\n",
       "        <td style=\"padding-left: 1em; padding-right: 1em; text-align: center; vertical-align: top\">245353</td>\n",
       "        <td style=\"padding-left: 1em; padding-right: 1em; text-align: center; vertical-align: top\">8.627075079157931</td>\n",
       "        <td style=\"padding-left: 1em; padding-right: 1em; text-align: center; vertical-align: top\">6</td>\n",
       "    </tr>\n",
       "    <tr>\n",
       "        <td style=\"padding-left: 1em; padding-right: 1em; text-align: center; vertical-align: top\">hsjx945</td>\n",
       "        <td style=\"padding-left: 1em; padding-right: 1em; text-align: center; vertical-align: top\">230914</td>\n",
       "        <td style=\"padding-left: 1em; padding-right: 1em; text-align: center; vertical-align: top\">8.611693266108615</td>\n",
       "        <td style=\"padding-left: 1em; padding-right: 1em; text-align: center; vertical-align: top\">7</td>\n",
       "    </tr>\n",
       "    <tr>\n",
       "        <td style=\"padding-left: 1em; padding-right: 1em; text-align: center; vertical-align: top\">hsjx945</td>\n",
       "        <td style=\"padding-left: 1em; padding-right: 1em; text-align: center; vertical-align: top\">203420</td>\n",
       "        <td style=\"padding-left: 1em; padding-right: 1em; text-align: center; vertical-align: top\">8.45142972774802</td>\n",
       "        <td style=\"padding-left: 1em; padding-right: 1em; text-align: center; vertical-align: top\">8</td>\n",
       "    </tr>\n",
       "    <tr>\n",
       "        <td style=\"padding-left: 1em; padding-right: 1em; text-align: center; vertical-align: top\">hsjx945</td>\n",
       "        <td style=\"padding-left: 1em; padding-right: 1em; text-align: center; vertical-align: top\">250780</td>\n",
       "        <td style=\"padding-left: 1em; padding-right: 1em; text-align: center; vertical-align: top\">8.39700496502219</td>\n",
       "        <td style=\"padding-left: 1em; padding-right: 1em; text-align: center; vertical-align: top\">9</td>\n",
       "    </tr>\n",
       "    <tr>\n",
       "        <td style=\"padding-left: 1em; padding-right: 1em; text-align: center; vertical-align: top\">hsjx945</td>\n",
       "        <td style=\"padding-left: 1em; padding-right: 1em; text-align: center; vertical-align: top\">216094</td>\n",
       "        <td style=\"padding-left: 1em; padding-right: 1em; text-align: center; vertical-align: top\">8.378449085429294</td>\n",
       "        <td style=\"padding-left: 1em; padding-right: 1em; text-align: center; vertical-align: top\">10</td>\n",
       "    </tr>\n",
       "</table>\n",
       "[50 rows x 4 columns]<br/>Note: Only the head of the SFrame is printed.<br/>You can use print_rows(num_rows=m, num_columns=n) to print more rows and columns.\n",
       "</div>"
      ],
      "text/plain": [
       "Columns:\n",
       "\tuser_id\tstr\n",
       "\tgame_id\tint\n",
       "\tscore\tfloat\n",
       "\trank\tint\n",
       "\n",
       "Rows: 50\n",
       "\n",
       "Data:\n",
       "+---------+---------+-------------------+------+\n",
       "| user_id | game_id |       score       | rank |\n",
       "+---------+---------+-------------------+------+\n",
       "| hsjx945 |  245354 | 8.899896505549533 |  1   |\n",
       "| hsjx945 |  245352 |  8.86388409443198 |  2   |\n",
       "| hsjx945 |  216092 | 8.856959703639133 |  3   |\n",
       "| hsjx945 |  258412 | 8.738543632701022 |  4   |\n",
       "| hsjx945 |  216091 | 8.628232124522311 |  5   |\n",
       "| hsjx945 |  245353 | 8.627075079157931 |  6   |\n",
       "| hsjx945 |  230914 | 8.611693266108615 |  7   |\n",
       "| hsjx945 |  203420 |  8.45142972774802 |  8   |\n",
       "| hsjx945 |  250780 |  8.39700496502219 |  9   |\n",
       "| hsjx945 |  216094 | 8.378449085429294 |  10  |\n",
       "+---------+---------+-------------------+------+\n",
       "[50 rows x 4 columns]\n",
       "Note: Only the head of the SFrame is printed.\n",
       "You can use print_rows(num_rows=m, num_columns=n) to print more rows and columns."
      ]
     },
     "execution_count": 56,
     "metadata": {},
     "output_type": "execute_result"
    }
   ],
   "source": [
    "new_obs_data1 =  ['hsjx945']\n",
    "recommend_games = rec_model.recommend(new_obs_data1,k=50)\n",
    "recommend_games"
   ]
  },
  {
   "cell_type": "code",
   "execution_count": 341,
   "metadata": {},
   "outputs": [
    {
     "ename": "SyntaxError",
     "evalue": "unexpected EOF while parsing (<ipython-input-341-726a4f329022>, line 12)",
     "output_type": "error",
     "traceback": [
      "\u001b[0;36m  File \u001b[0;32m\"<ipython-input-341-726a4f329022>\"\u001b[0;36m, line \u001b[0;32m12\u001b[0m\n\u001b[0;31m    @app.route(\"/recommend\", methods=['POST'])\u001b[0m\n\u001b[0m                                              ^\u001b[0m\n\u001b[0;31mSyntaxError\u001b[0m\u001b[0;31m:\u001b[0m unexpected EOF while parsing\n"
     ]
    }
   ],
   "source": [
    "##backend flask import new user data and return \n",
    "from flask import Flask\n",
    "from flask import request\n",
    "app = Flask(__name__)\n",
    "\n",
    "import turicreate as tc\n",
    "\n",
    "import json\n",
    "\n",
    "rec_model=tc.load_model('game_rec_model')\n",
    "\n",
    "@app.route(\"/recommend\", methods=['POST'])"
   ]
  },
  {
   "cell_type": "code",
   "execution_count": null,
   "metadata": {},
   "outputs": [],
   "source": [
    "\n"
   ]
  },
  {
   "cell_type": "code",
   "execution_count": 13,
   "metadata": {},
   "outputs": [],
   "source": [
    "#function to import json of user's answers, run model prediction, \n",
    "def recommend():\n",
    "#import new user survey answer\n",
    "#new_obs_data = json.loads(\"../data/bgg_survey_result.json\")\n",
    "\n",
    "    json_file_path = \"../data/bgg_survey_result.json\"\n",
    "\n",
    "    with open(json_file_path, 'r') as j:\n",
    "         new_obs_data = json.loads(j.read())\n",
    "\n",
    "    new_obs_data_new=[new_obs_data[\"user_id\"]]\n",
    "    #print(new_obs_data_new)\n",
    "    filter_condt=tc.SFrame({\"age_min\": [new_obs_data[\"age\"][\"min\"]],\n",
    "                        \"age_max\": [new_obs_data[\"age\"][\"max\"]],\n",
    "                        \"num_players_min\": [new_obs_data[\"num_players\"][\"min\"]],\n",
    "                        \"num_players_max\": [new_obs_data[\"num_players\"][\"max\"]],\n",
    "                        \"play_time_min\": [new_obs_data[\"play_time\"][\"min\"]],\n",
    "                        \"play_time_max\": [new_obs_data[\"play_time\"][\"max\"]]})\n",
    "    #print(filter_condt)\n",
    "    recommend_items = rec_model.recommend(new_obs_data_new,k=50)\n",
    "    \n",
    "    #select 50 recommended game info \n",
    "    df_rec_game_info=df_items.loc[df_items['game_id'].isin(recommend_items['game_id'])]\n",
    "    #print(df_rec_game_info)\n",
    "    #filter out game based on user answers \n",
    "    df_items_filter=df_rec_game_info[(df_rec_game_info['age_min'] >= filter_condt['age_min'])&\n",
    "                                (df_rec_game_info['min_ppl'] >= filter_condt['num_players_min']) &\n",
    "                                (df_rec_game_info['max_ppl'] <= filter_condt['num_players_max']) &\n",
    "                                (df_rec_game_info['avg_time']>= filter_condt['play_time_min'])&(df_rec_game_info['avg_time']<= filter_condt['play_time_max'])]\n",
    "    #conver recommend_items to dataframe\n",
    "\n",
    "    df_recommend_items=recommend_items.to_dataframe()\n",
    "    #output top 5 games\n",
    "    output=df_recommend_items.loc[df_recommend_items['game_id'].isin(df_items_filter.game_id)].sort_values('score',ascending=False).head(5)\n",
    "    output_name=df_items_filter[df_items_filter['game_id'].isin(output['game_id'])][['game_id','game_title']]\n",
    "    output=pd.merge(output,output_name, on='game_id')\n",
    "\n",
    "    output['level'] = output['score'].where(~(output['score']>=9),\"Extremely fits your taste \")\n",
    "    output['level'] = output['level'].where(~((output['score']>=8)&(output['score']<9)),\"Very much fits your taste\")\n",
    "    output['level'] = output['level'].where(~(output['score']<8),\"Fits your taste\")\n",
    "    json_output=json.dumps({\"game_id\": list(output[\"game_id\"]),\"game_name\": list(output[\"game_title\"]),\"level\": list(output[\"level\"])})\n",
    "    #json_output=json.dumps({\"game_id\": list(output[\"game_id\"]), \"score\": list(output[\"score\"])})\n",
    "    return json_output"
   ]
  },
  {
   "cell_type": "code",
   "execution_count": 14,
   "metadata": {},
   "outputs": [
    {
     "name": "stdout",
     "output_type": "stream",
     "text": [
      "['hsjx945']\n",
      "+---------+---------+-----------------+-----------------+---------------+---------------+\n",
      "| age_max | age_min | num_players_max | num_players_min | play_time_max | play_time_min |\n",
      "+---------+---------+-----------------+-----------------+---------------+---------------+\n",
      "|    11   |    6    |        4        |        2        |       60      |       30      |\n",
      "+---------+---------+-----------------+-----------------+---------------+---------------+\n",
      "[1 rows x 6 columns]\n",
      "\n",
      "      Unnamed: 0  game_id                                       game_title  \\\n",
      "1103        3044     3406                                  Lines of Action   \n",
      "1336        4443     4937  Formula Dé Circuits 19 & 20: Suzuka & Melbourne   \n",
      "6337       72671   167355                                          Nemesis   \n",
      "7649       83348   199478                                     Flamme Rouge   \n",
      "7801       84491   203417                  Exit: The Game – The Secret Lab   \n",
      "7802       84492   203420             Exit: The Game – The Abandoned Cabin   \n",
      "7953       85374   206931                                          Encore!   \n",
      "8145       86952   213460                        Unlock! Escape Adventures   \n",
      "8211       87428   215841            Exit: The Game – The Forgotten Island   \n",
      "8212       87429   215842               Exit: The Game – The Polar Station   \n",
      "8221       87474   216091                              Unlock! The Formula   \n",
      "8222       87475   216092                         Unlock! Squeek & Sausage   \n",
      "8223       87476   216094              Unlock! The Island of Doctor Goorse   \n",
      "8246       87661   216734                          Dice Throne: Season One   \n",
      "8297       88131   218311                             Deckscape: Test Time   \n",
      "8470       89659   224316                                Unlock! The Elite   \n",
      "8525       90338   226520            Exit: The Game – The Sinister Mansion   \n",
      "8551       90575   227456                           Escape the Dark Castle   \n",
      "8584       91025   228867                       Unlock! Mystery Adventures   \n",
      "8603       91209   229598                        Unlock! Doo-Arann Dungeon   \n",
      "8604       91225   229632                             Unlock! Fifth Avenue   \n",
      "8643       91497   230383                                        Memoarrr!   \n",
      "8646       91511   230430                             Unlock! Temple of Ra   \n",
      "8658       91671   230914                            Carcassonne Big Box 6   \n",
      "8848       93563   236461                           The Game: Face to Face   \n",
      "8871       93786   237211                                         Valhalla   \n",
      "8913       94422   239307                        Unlock! Secret Adventures   \n",
      "8989       95737   243358                                       Space Park   \n",
      "8990       95749   243430                                    Krass Kariert   \n",
      "9020       96066   244521                        The Quacks of Quedlinburg   \n",
      "9032       96188   244916                                          Drop It   \n",
      "9033       96189   244918           Exit: The Game – The Mysterious Museum   \n",
      "9037       96215   244992                                         The Mind   \n",
      "9038       96217   244995                                         Illusion   \n",
      "9039       96230   245045                       Deckscape: Heist in Venice   \n",
      "9048       96341   245352                           Unlock! A Noside Story   \n",
      "9049       96342   245353                        Unlock! Tombstone Express   \n",
      "9050       96343   245354                    Unlock! The Adventurers of Oz   \n",
      "9115       96922   247342                                  Village Pillage   \n",
      "9119       96943   247436          Sherlock: The Tomb of the Archaeologist   \n",
      "9201       97805   250780                              Sherlock: Last Call   \n",
      "9230       98221   252328               Star Wars: X-Wing (Second Edition)   \n",
      "9249       98471   253284                         Ticket to Ride: New York   \n",
      "9274       98929   254640                                         Just One   \n",
      "9288       99315   255664                 The Binding of Isaac: Four Souls   \n",
      "9385      100441   258411                   Unlock! Expedition: Challenger   \n",
      "9386      100442   258412                   Unlock! Night of the Boogeymen   \n",
      "9387      100443   258413                 Unlock! Scheherazade's Last Tale   \n",
      "9401      100940   260300                                   Dungeon Mayhem   \n",
      "9511      103970   269210                                  Twice As Clever   \n",
      "\n",
      "                                               category  avg_time  min_ppl  \\\n",
      "1103                              ['Abstract Strategy']      20.0      2.0   \n",
      "1336    ['Expansion for Base-game', 'Racing', 'Sports']     120.0      2.0   \n",
      "6337  ['Adventure', 'Horror', 'Miniatures', 'Science...     135.0      1.0   \n",
      "7649                               ['Racing', 'Sports']      37.5      2.0   \n",
      "7801               ['Deduction', 'Puzzle', 'Real-time']      97.5      1.0   \n",
      "7802               ['Deduction', 'Puzzle', 'Real-time']      90.0      1.0   \n",
      "7953                                           ['Dice']      20.0      1.0   \n",
      "8145  ['Card Game', 'Exploration', 'Puzzle', 'Real-t...      60.0      2.0   \n",
      "8211               ['Deduction', 'Puzzle', 'Real-time']      67.5      1.0   \n",
      "8212               ['Deduction', 'Puzzle', 'Real-time']      67.5      1.0   \n",
      "8221  ['Card Game', 'Exploration', 'Puzzle', 'Real-t...      60.0      1.0   \n",
      "8222  ['Card Game', 'Exploration', 'Puzzle', 'Real-t...      60.0      1.0   \n",
      "8223  ['Card Game', 'Exploration', 'Puzzle', 'Real-t...      60.0      2.0   \n",
      "8246       ['Card Game', 'Dice', 'Fantasy', 'Fighting']      30.0      2.0   \n",
      "8297               ['Card Game', 'Puzzle', 'Real-time']      60.0      1.0   \n",
      "8470  ['Exploration', 'Print & Play', 'Puzzle', 'Rea...      60.0      2.0   \n",
      "8525                                      ['Deduction']      67.5      1.0   \n",
      "8551  ['Adventure', 'Card Game', 'Dice', 'Fantasy', ...      32.5      1.0   \n",
      "8584  ['Card Game', 'Exploration', 'Puzzle', 'Real-t...      60.0      2.0   \n",
      "8603  ['Exploration', 'Print & Play', 'Puzzle', 'Rea...      30.0      2.0   \n",
      "8604  ['Exploration', 'Print & Play', 'Puzzle', 'Rea...      30.0      1.0   \n",
      "8643  ['Animals', 'Card Game', 'Memory', 'Nautical',...      15.0      2.0   \n",
      "8646  ['Card Game', 'Exploration', 'Print & Play', '...      60.0      1.0   \n",
      "8658  ['City Building', 'Medieval', 'Territory Build...      35.0      2.0   \n",
      "8848                            ['Card Game', 'Number']      20.0      2.0   \n",
      "8871  ['Card Game', 'Dice', 'Fighting', 'Medieval', ...      45.0      1.0   \n",
      "8913  ['Card Game', 'Exploration', 'Puzzle', 'Real-t...      60.0      1.0   \n",
      "8989           ['Science Fiction', 'Space Exploration']      25.0      1.0   \n",
      "8990                                      ['Card Game']      30.0      3.0   \n",
      "9020                                       ['Medieval']      45.0      2.0   \n",
      "9032                             ['Action / Dexterity']      30.0      2.0   \n",
      "9033                                      ['Deduction']      67.5      1.0   \n",
      "9037               ['Card Game', 'Deduction', 'Number']      15.0      2.0   \n",
      "9038                                      ['Card Game']      15.0      2.0   \n",
      "9039               ['Card Game', 'Puzzle', 'Real-time']      60.0      1.0   \n",
      "9048  ['Card Game', 'Exploration', 'Puzzle', 'Real-t...      60.0      1.0   \n",
      "9049  ['American West', 'Card Game', 'Deduction', 'E...      60.0      1.0   \n",
      "9050  ['Card Game', 'Exploration', 'Puzzle', 'Real-t...      60.0      1.0   \n",
      "9115      ['Card Game', 'Fantasy', 'Humor', 'Medieval']      20.0      2.0   \n",
      "9119       ['Card Game', 'Deduction', 'Murder/Mystery']      50.0      1.0   \n",
      "9201       ['Card Game', 'Deduction', 'Murder/Mystery']      50.0      1.0   \n",
      "9230  ['Aviation / Flight', 'Bluffing', 'Collectible...      37.5      2.0   \n",
      "9249                                         ['Trains']      12.5      2.0   \n",
      "9274                        ['Party Game', 'Word Game']      20.0      3.0   \n",
      "9288                  ['Card Game', 'Video Game Theme']      45.0      2.0   \n",
      "9385  ['Card Game', 'Exploration', 'Puzzle', 'Real-t...      60.0      1.0   \n",
      "9386  ['Card Game', 'Exploration', 'Puzzle', 'Real-t...      60.0      1.0   \n",
      "9387  ['Card Game', 'Exploration', 'Puzzle', 'Real-t...      60.0      1.0   \n",
      "9401               ['Card Game', 'Fantasy', 'Fighting']      10.0      2.0   \n",
      "9511                                           ['Dice']      30.0      1.0   \n",
      "\n",
      "      max_ppl  age_min  \n",
      "1103      2.0     10.0  \n",
      "1336     10.0     12.0  \n",
      "6337      5.0     12.0  \n",
      "7649      4.0      8.0  \n",
      "7801      6.0     12.0  \n",
      "7802      6.0     12.0  \n",
      "7953      6.0      8.0  \n",
      "8145      6.0     10.0  \n",
      "8211      4.0     12.0  \n",
      "8212      4.0     12.0  \n",
      "8221      6.0     10.0  \n",
      "8222      6.0     10.0  \n",
      "8223      6.0     10.0  \n",
      "8246      6.0      8.0  \n",
      "8297      6.0     12.0  \n",
      "8470      6.0     10.0  \n",
      "8525      4.0     12.0  \n",
      "8551      4.0     14.0  \n",
      "8584      6.0     10.0  \n",
      "8603      6.0     10.0  \n",
      "8604      6.0     10.0  \n",
      "8643      4.0      8.0  \n",
      "8646      6.0      0.0  \n",
      "8658      6.0      7.0  \n",
      "8848      2.0      8.0  \n",
      "8871      6.0     13.0  \n",
      "8913      6.0     10.0  \n",
      "8989      4.0     14.0  \n",
      "8990      5.0     10.0  \n",
      "9020      4.0     10.0  \n",
      "9032      4.0      8.0  \n",
      "9033      4.0     10.0  \n",
      "9037      4.0      8.0  \n",
      "9038      5.0      8.0  \n",
      "9039      6.0     12.0  \n",
      "9048      6.0     10.0  \n",
      "9049      6.0     10.0  \n",
      "9050      6.0     10.0  \n",
      "9115      5.0     10.0  \n",
      "9119      8.0     10.0  \n",
      "9201      8.0     10.0  \n",
      "9230      2.0     14.0  \n",
      "9249      4.0      8.0  \n",
      "9274      7.0      8.0  \n",
      "9288      4.0     13.0  \n",
      "9385      6.0     10.0  \n",
      "9386      6.0     10.0  \n",
      "9387      6.0     10.0  \n",
      "9401      4.0      0.0  \n",
      "9511      4.0     10.0  \n"
     ]
    },
    {
     "data": {
      "text/plain": [
       "'{\"game_id\": [252328, 255664, 244521, 199478, 244916], \"game_name\": [\"Star Wars: X-Wing (Second Edition)\", \"The Binding of Isaac: Four Souls\", \"The Quacks of Quedlinburg\", \"Flamme Rouge\", \"Drop It\"], \"level\": [\"Very much fits your taste\", \"Very much fits your taste\", \"Very much fits your taste\", \"Very much fits your taste\", \"Fits your taste\"]}'"
      ]
     },
     "execution_count": 14,
     "metadata": {},
     "output_type": "execute_result"
    }
   ],
   "source": [
    "#score=predicted rating\n",
    "#https://apple.github.io/turicreate/docs/api/generated/turicreate.recommender.factorization_recommender.FactorizationRecommender.html#turicreate.recommender.factorization_recommender.FactorizationRecommender\n",
    "recommend()"
   ]
  },
  {
   "cell_type": "code",
   "execution_count": null,
   "metadata": {},
   "outputs": [],
   "source": []
  },
  {
   "cell_type": "code",
   "execution_count": null,
   "metadata": {},
   "outputs": [],
   "source": []
  }
 ],
 "metadata": {
  "kernelspec": {
   "display_name": "Python 3",
   "language": "python",
   "name": "python3"
  },
  "language_info": {
   "codemirror_mode": {
    "name": "ipython",
    "version": 3
   },
   "file_extension": ".py",
   "mimetype": "text/x-python",
   "name": "python",
   "nbconvert_exporter": "python",
   "pygments_lexer": "ipython3",
   "version": "3.6.9"
  }
 },
 "nbformat": 4,
 "nbformat_minor": 4
}
