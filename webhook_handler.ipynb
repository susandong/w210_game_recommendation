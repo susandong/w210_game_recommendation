{
 "cells": [
  {
   "cell_type": "code",
   "execution_count": 1,
   "metadata": {},
   "outputs": [
    {
     "name": "stdout",
     "output_type": "stream",
     "text": [
      "Collecting boardgamegeek2Note: you may need to restart the kernel to use updated packages.\n",
      "  Downloading boardgamegeek2-1.0.1-py2.py3-none-any.whl (38 kB)\n",
      "Requirement already satisfied: requests>=2.3.0 in c:\\users\\mikes\\anaconda3\\lib\\site-packages (from boardgamegeek2) (2.24.0)\n",
      "Collecting requests-cache>=0.4.4\n",
      "  Downloading requests_cache-0.5.2-py2.py3-none-any.whl (22 kB)\n",
      "Requirement already satisfied: certifi>=2017.4.17 in c:\\users\\mikes\\anaconda3\\lib\\site-packages (from requests>=2.3.0->boardgamegeek2) (2020.6.20)\n",
      "Requirement already satisfied: urllib3!=1.25.0,!=1.25.1,<1.26,>=1.21.1 in c:\\users\\mikes\\anaconda3\\lib\\site-packages (from requests>=2.3.0->boardgamegeek2) (1.25.11)\n",
      "Requirement already satisfied: chardet<4,>=3.0.2 in c:\\users\\mikes\\anaconda3\\lib\\site-packages (from requests>=2.3.0->boardgamegeek2) (3.0.4)\n",
      "Requirement already satisfied: idna<3,>=2.5 in c:\\users\\mikes\\anaconda3\\lib\\site-packages (from requests>=2.3.0->boardgamegeek2) (2.10)\n",
      "Installing collected packages: requests-cache, boardgamegeek2\n",
      "Successfully installed boardgamegeek2-1.0.1 requests-cache-0.5.2\n",
      "\n"
     ]
    }
   ],
   "source": [
    "pip install boardgamegeek2"
   ]
  },
  {
   "cell_type": "code",
   "execution_count": 3,
   "metadata": {},
   "outputs": [],
   "source": [
    "import json\n",
    "import csv\n",
    "\n",
    "#BGG API - https://github.com/lcosmin/boardgamegeek  /  https://lcosmin.github.io/boardgamegeek/\n",
    "from boardgamegeek import BGGClient\n",
    "bgg = BGGClient()\n"
   ]
  },
  {
   "cell_type": "code",
   "execution_count": 16,
   "metadata": {},
   "outputs": [
    {
     "name": "stdout",
     "output_type": "stream",
     "text": [
      "Q0 POSSIBLE VALUES:\n",
      "string - BGG username\n",
      "\n",
      "Q1 POSSIBLE VALUES:\n",
      "Toddler (2-5 years old)\n",
      "Children (6-11 years old)\n",
      "Youth (12-16 years old)\n",
      "Adult (17+ years old)\n",
      "Any\n",
      "\n",
      "Q2 POSSIBLE VALUES:\n",
      "Solo or Pair (1-2 players)\n",
      "Small Group (2-4 players)\n",
      "Party (5+ players)\n",
      "Any\n",
      "\n",
      "Q3 POSSIBLE VALUES:\n",
      "Short (5-30 minutes)\n",
      "Medium (30-60 minutes)\n",
      "Long (60-120 minutes)\n",
      "Multiday (120+ minutes)\n",
      "Any\n"
     ]
    }
   ],
   "source": [
    "#Survey #1: BGG username survey (the short one)\n",
    "#For testing webhook JSON responses, in practice we will use Flask to ingest webhook responses\n",
    "with open('data/bgg_survey_webhook.json') as fp:\n",
    "    bgg_survey_json = json.load(fp)\n",
    "    \n",
    "#Possible values:\n",
    "print('Q0 POSSIBLE VALUES:')\n",
    "print('string - BGG username')\n",
    "print('\\nQ1 POSSIBLE VALUES:')\n",
    "for i in bgg_survey_json['body']['form_response']['definition']['fields'][1]['choices']:\n",
    "  print(i['label'])\n",
    "\n",
    "print('\\nQ2 POSSIBLE VALUES:')\n",
    "for i in bgg_survey_json['body']['form_response']['definition']['fields'][2]['choices']:\n",
    "  print(i['label'])\n",
    "\n",
    "print('\\nQ3 POSSIBLE VALUES:')\n",
    "for i in bgg_survey_json['body']['form_response']['definition']['fields'][3]['choices']:\n",
    "  print(i['label'])"
   ]
  },
  {
   "cell_type": "code",
   "execution_count": 24,
   "metadata": {},
   "outputs": [],
   "source": [
    "\"\"\"\n",
    "Functions to pull answers from Survey #1\n",
    "Input: json file produced by the BGG Survey webhook\n",
    "Returns: list of answers in the order of the questions of the survey\n",
    "\"\"\"\n",
    "\n",
    "#Returns a dict with the min and max age that games should be filtered on\n",
    "def player_age_response(text):\n",
    "    d = {\"question\" : \"age\"}\n",
    "    if text == 'Toddler (2-5 years old)':\n",
    "        d['min'] = 2\n",
    "        d['max'] = 5\n",
    "    elif text == 'Children (6-11 years old)':\n",
    "        d['min'] = 6\n",
    "        d['max'] = 11\n",
    "    elif text == 'Youth (12-16 years old)':\n",
    "        d['min'] = 10\n",
    "        d['max'] = 16\n",
    "    elif text == 'Adult (17+ years old)':\n",
    "        d['min'] = 12\n",
    "        d['max'] = 100\n",
    "    else:\n",
    "        d['min'] = 2\n",
    "        d['max'] = 100\n",
    "    return d\n",
    "    \n",
    "#Returns a dict with the min and max players that games should be filtered on\n",
    "def player_num_response(text):\n",
    "    d = {\"question\" : \"num_players\"}\n",
    "    if text == 'Solo or Pair (1-2 players)':\n",
    "        d['min'] = 1\n",
    "        d['max'] = 2\n",
    "    elif text == 'Small Group (2-4 players)':\n",
    "        d['min'] = 2\n",
    "        d['max'] = 4\n",
    "    elif text == 'Party (5+ players)':\n",
    "        d['min'] = 5\n",
    "        d['max'] = 100  \n",
    "    else:\n",
    "        d['min'] = 1\n",
    "        d['max'] = 100\n",
    "    return d        \n",
    "\n",
    "#Returns a dict with the min and max playing time in minutes that games should be filtered on\n",
    "def player_time_response(text):\n",
    "    d = {\"question\" : \"play_time\"}\n",
    "    if text == 'Short (5-30 minutes)':\n",
    "        d['min'] = 5\n",
    "        d['max'] = 30\n",
    "    elif text == 'Medium (30-60 minutes)':\n",
    "        d['min'] = 30\n",
    "        d['max'] = 60\n",
    "    elif text == 'Long (60-120 minutes)':\n",
    "        d['min'] = 60\n",
    "        d['max'] = 120  \n",
    "    elif text == 'Multiday (120+ minutes)':\n",
    "        d['min'] = 120\n",
    "        d['max'] = 100000  \n",
    "    else:\n",
    "        d['min'] = 5\n",
    "        d['max'] = 100000\n",
    "    return d     "
   ]
  },
  {
   "cell_type": "code",
   "execution_count": 25,
   "metadata": {},
   "outputs": [
    {
     "name": "stdout",
     "output_type": "stream",
     "text": [
      "{'question': 'age', 'min': 10, 'max': 16}\n",
      "{'question': 'num_players', 'min': 5, 'max': 100}\n",
      "{'question': 'play_time', 'min': 60, 'max': 120}\n"
     ]
    }
   ],
   "source": [
    "print(player_age_response('Youth (12-16 years old)'))\n",
    "print(player_num_response('Party (5+ players)'))\n",
    "print(player_time_response('Long (60-120 minutes)'))"
   ]
  }
 ],
 "metadata": {
  "kernelspec": {
   "display_name": "Python 3",
   "language": "python",
   "name": "python3"
  },
  "language_info": {
   "codemirror_mode": {
    "name": "ipython",
    "version": 3
   },
   "file_extension": ".py",
   "mimetype": "text/x-python",
   "name": "python",
   "nbconvert_exporter": "python",
   "pygments_lexer": "ipython3",
   "version": "3.8.5"
  }
 },
 "nbformat": 4,
 "nbformat_minor": 4
}
